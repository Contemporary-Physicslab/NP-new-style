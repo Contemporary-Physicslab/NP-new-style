{
 "cells": [
  {
   "cell_type": "markdown",
   "id": "0d1955cb",
   "metadata": {},
   "source": [
    "\n",
    "# Building GUIs with Python for First year Physics Students\n",
    "## An Introductory Tutorial Using Tkinter\n",
    "---\n",
    "### 1. Introduction\n",
    "\n",
    "**Why Use a GUI?**\n",
    "\n",
    "A **Graphical User Interface (GUI)** makes interacting with programs easier and more intuitive by providing graphical elements such as buttons, text boxes, and file dialogs. While command-line programs are efficient, they may not be user-friendly for everyone. GUIs provide a visual way for users to interact with applications, making them more accessible for a wider audience.\n",
    "\n",
    "GUIs are useful in physics applications for tasks like:\n",
    "- Importing and visualizing data from experiments.\n",
    "- Providing control panels for simulations.\n",
    "- Allowing users to tweak parameters without modifying code.\n",
    "\n",
    "In this tutorial, we will guide you through the process of building a simple GUI using Python's **Tkinter** library. By the end, you will have built a program that allows you to import and plot data, which can be useful for data analysis and visualization in physics.\n"
   ]
  },
  {
   "cell_type": "markdown",
   "id": "455d1c05",
   "metadata": {},
   "source": [
    "### 2. Getting Started: Importing Tkinter\n",
    "\n",
    "To start we need to import a libraby called Tkinter. After doing this we need to create a main application window. If you want any help or look at an example of Tkinter, take a look at the official tutorial of Tkinter library https://tkdocs.com/tutorial/firstexample.html ."
   ]
  },
  {
   "cell_type": "code",
   "execution_count": 39,
   "id": "3098329f",
   "metadata": {},
   "outputs": [],
   "source": [
    "# Import the required libraries\n",
    "import tkinter as tk"
   ]
  },
  {
   "cell_type": "markdown",
   "id": "62c0c327-543a-4038-87f6-82e4d3c50f92",
   "metadata": {},
   "source": [
    "Now create a main application window with the Tk command and give it a title with title"
   ]
  },
  {
   "cell_type": "code",
   "execution_count": 40,
   "id": "e7feb155-8b36-4abf-8dbc-503f6e2fbffd",
   "metadata": {},
   "outputs": [
    {
     "data": {
      "text/plain": [
       "''"
      ]
     },
     "execution_count": 40,
     "metadata": {},
     "output_type": "execute_result"
    }
   ],
   "source": [
    "# Create a window\n",
    "root = tk.Tk()\n",
    "\n",
    "# Set window title\n",
    "root.title(\"Simple Tkinter GUI\")\n"
   ]
  },
  {
   "cell_type": "markdown",
   "id": "1ab65c1f-2b73-4297-b59e-8a24ceddaafd",
   "metadata": {},
   "source": [
    "What is left to do, is to give it a certain size and run it!"
   ]
  },
  {
   "cell_type": "code",
   "execution_count": 41,
   "id": "61570799-13a1-4042-bdb1-35400fc33bc0",
   "metadata": {},
   "outputs": [],
   "source": [
    "\n",
    "# Set window size\n",
    "root.geometry(\"400x300\")\n",
    "\n",
    "# Run the application\n",
    "root.mainloop()"
   ]
  },
  {
   "cell_type": "markdown",
   "id": "f87a2d13-4ad5-41c4-932f-9eb56190244e",
   "metadata": {},
   "source": [
    "As you can see it opens an external window and the cell keeps running until you close this window"
   ]
  },
  {
   "cell_type": "markdown",
   "id": "f8e7bde4",
   "metadata": {},
   "source": [
    "\n",
    "### 3. Adding a Button\n",
    "\n",
    "Next, let's add a simple button to the window. This button can be added with the Button command. To do this please import first again the previous steps also in this cell to create a new window with a new title. Otherwise you are going to run into some errors.\n"
   ]
  },
  {
   "cell_type": "code",
   "execution_count": 42,
   "id": "d5045813",
   "metadata": {},
   "outputs": [],
   "source": [
    "# Create a window\n",
    "root = tk.Tk()\n",
    "root.title(\"Button Example\")\n",
    "root.geometry(\"400x300\")\n",
    "\n",
    "# Create a button and place it in the window\n",
    "button = tk.Button(root, text=\"Click Me\")\n",
    "button.pack()\n",
    "\n",
    "# Run the application\n",
    "root.mainloop()\n"
   ]
  },
  {
   "cell_type": "markdown",
   "id": "056570c3",
   "metadata": {},
   "source": [
    "\n",
    "### 4. Moving the Button (Using Layout Managers)\n",
    "\n",
    "After we have added a button, it is very useful to be able to use multiple buttons in a GUI and be able to place them wherever you would like\n",
    "Tkinter provides several layout managers, such as `pack()`, `grid()`, and `place()`, to arrange widgets in a window. In this cell place a button wherever you like with one of these managers. Again please create a new window\n"
   ]
  },
  {
   "cell_type": "code",
   "execution_count": 43,
   "id": "66d5a9fc",
   "metadata": {},
   "outputs": [],
   "source": [
    "# Create a window\n",
    "root = tk.Tk()\n",
    "root.title(\"Positioning Button\")\n",
    "root.geometry(\"400x300\")\n",
    "\n",
    "# Create a button and place it at specific coordinates\n",
    "button = tk.Button(root, text=\"Click Me\")\n",
    "button.place(x=150, y=100)  # x, y coordinates\n",
    "\n",
    "# Run the application\n",
    "root.mainloop()\n"
   ]
  },
  {
   "cell_type": "markdown",
   "id": "fd63ba01",
   "metadata": {},
   "source": [
    "\n",
    "### 5. Adding Functionality: Button Click Event\n",
    "\n",
    "A button is very nice but it is does not do anything it is quite useless. Although some app developers have made quite a lot of money with useless apps. Let's add some functionality to the button, such as printing a message when clicked. This can be done by expanding the Button command.\n"
   ]
  },
  {
   "cell_type": "code",
   "execution_count": 44,
   "id": "817e961f",
   "metadata": {},
   "outputs": [
    {
     "name": "stdout",
     "output_type": "stream",
     "text": [
      "Button was clicked!\n",
      "Button was clicked!\n",
      "Button was clicked!\n"
     ]
    }
   ],
   "source": [
    "# Create a function to be called when the button is clicked\n",
    "def on_button_click():\n",
    "    print(\"Button was clicked!\")\n",
    "\n",
    "# Create a window\n",
    "root = tk.Tk()\n",
    "root.title(\"Button Event\")\n",
    "root.geometry(\"400x300\")\n",
    "\n",
    "# Create a button and bind the function to it\n",
    "button = tk.Button(root, text=\"Click Me\", command=on_button_click)\n",
    "button.place(x=150, y=100)\n",
    "\n",
    "# Run the application\n",
    "root.mainloop()\n"
   ]
  },
  {
   "cell_type": "markdown",
   "id": "f32eca2f",
   "metadata": {},
   "source": [
    "\n",
    "### 6. Adding an Import File Button\n",
    "\n",
    "Many physics applications require users to import data files. Let's create a button that allows users to browse and select a file. There is a very useful command inside the tkinter package called filedialog.askopenfilename. Create a function with this command and check if it opens your 'Windows Explorer' or in dutch 'Verkenner' to see your data files and choose a file.\n"
   ]
  },
  {
   "cell_type": "code",
   "execution_count": 45,
   "id": "f1050303",
   "metadata": {},
   "outputs": [
    {
     "name": "stdout",
     "output_type": "stream",
     "text": [
      "File selected: \n"
     ]
    }
   ],
   "source": [
    "from tkinter import filedialog\n",
    "\n",
    "# Create a function to open a file dialog\n",
    "def import_file():\n",
    "    file_path = filedialog.askopenfilename()\n",
    "    print(\"File selected:\", file_path)\n",
    "\n",
    "# Create a window\n",
    "root = tk.Tk()\n",
    "root.title(\"File Import\")\n",
    "root.geometry(\"400x300\")\n",
    "\n",
    "# Create a button to import a file\n",
    "import_button = tk.Button(root, text=\"Import File\", command=import_file)\n",
    "import_button.place(x=150, y=100)\n",
    "\n",
    "# Run the application\n",
    "root.mainloop()\n"
   ]
  },
  {
   "cell_type": "markdown",
   "id": "02f7993b",
   "metadata": {},
   "source": [
    "\n",
    "### 7. Final Exercise: Building a Data Import and Plotting GUI\n",
    "\n",
    "Now let's combine everything, this is more difficult than the previous exercises and will take more effort to copmlete this. We will also introduce another python package here which is very usefull called pandas. This package has many functions built in to import, read and export data files of different types. In this case a simple csv file with data on x and y can be downloaded here. \n",
    "\n",
    "We will build a GUI that allows users to import a CSV file and plot its data using `matplotlib`. First make a function where you use the previous command filedialog.askopenfilename and then read a file with pandas. Google how to use pandas, and finally in this function also include a few statements to make a correct figure with labels etcetera.\n",
    "\n",
    "The next code let's you import a csv file and make a plot but it plots it outside the window\n"
   ]
  },
  {
   "cell_type": "code",
   "execution_count": 46,
   "id": "e1025609",
   "metadata": {},
   "outputs": [
    {
     "data": {
      "image/png": "[encoded data removed]",
      "text/plain": [
       "<Figure size 640x480 with 1 Axes>"
      ]
     },
     "metadata": {},
     "output_type": "display_data"
    }
   ],
   "source": [
    "import pandas as pd\n",
    "import matplotlib.pyplot as plt\n",
    "\n",
    "# Function to open file dialog and import a CSV file\n",
    "def import_and_plot():\n",
    "    file_path = filedialog.askopenfilename(filetypes=[(\"CSV Files\", \"*.csv\")])\n",
    "    if file_path:\n",
    "        data = pd.read_csv(file_path,delimiter = ';')\n",
    "        # Assuming the file has two columns: x and y\n",
    "        plt.plot(data['x'], data['y'])\n",
    "        plt.xlabel('X-axis')\n",
    "        plt.ylabel('Y-axis')\n",
    "        plt.title('Plot from CSV data')\n",
    "        plt.show()\n",
    "\n",
    "# Create the GUI window\n",
    "root = tk.Tk()\n",
    "root.title(\"Data Import and Plot\")\n",
    "root.geometry(\"400x300\")\n",
    "\n",
    "# Create a button to import and plot data\n",
    "plot_button = tk.Button(root, text=\"Import CSV and Plot\", command=import_and_plot)\n",
    "plot_button.place(x=130, y=130)\n",
    "\n",
    "# Run the application\n",
    "root.mainloop()\n"
   ]
  },
  {
   "cell_type": "markdown",
   "id": "5169a22b-3ae8-41a6-b36f-ca117a453bfd",
   "metadata": {},
   "source": [
    "\n",
    "### 8.Bonus exercise, building a GUI that is constantly open and able to load new data files if requested and change the axes if necessary.\n",
    "\n",
    "This is more difficult and we want a window where you can constantly choose new files, set the new axes labels etcetera. For this to work we need different functions, first of all a function to import the data as previously described, it is nice to work with functions such as message_label.config to show a text which file is selected, and a function to read how many columns are present in the CSV file. In this main function also include a reference to a function that can rename the columns. \n",
    "\n",
    "For this renaming it is an option to create two different functions. One function to create entry fields to type a new name for the entries. A function to rename the columns also be made with the config function. Include in this function also an entry so you can actually enter something.\n",
    "Secondly, create a function that actually applies these 'renames'.\n",
    "\n",
    "Since we want to be able to constantly upload new data, also make a function to reset the widget. This can be done with the destroy and .clear functions. Look into these to understand how they work.\n",
    "\n",
    "Finally make a function to actually plot the data with matplotlib. This should be the easiest step ;).\n",
    "\n",
    "Last step, create buttons that refer to the functions that you create and voila you have a very nice GUI. You can ofcourse add a lot of different functionalities\n",
    "\n",
    "\n"
   ]
  },
  {
   "cell_type": "code",
   "execution_count": 53,
   "id": "9c798c89-90bd-4bf4-98ce-38413a519806",
   "metadata": {},
   "outputs": [
    {
     "data": {
      "image/png": "[encoded data removed]",
      "text/plain": [
       "<Figure size 500x400 with 1 Axes>"
      ]
     },
     "metadata": {},
     "output_type": "display_data"
    },
    {
     "data": {
      "image/png": "[encoded data removed]",
      "text/plain": [
       "<Figure size 500x400 with 1 Axes>"
      ]
     },
     "metadata": {},
     "output_type": "display_data"
    }
   ],
   "source": [
    "import pandas as pd\n",
    "import matplotlib.pyplot as plt\n",
    "from matplotlib.backends.backend_tkagg import FigureCanvasTkAgg\n",
    "\n",
    "# Global variable to hold the data\n",
    "current_data = None\n",
    "\n",
    "# Function to open file dialog and import a CSV file\n",
    "def import_and_display_info():\n",
    "    global current_data\n",
    "\n",
    "    # Clear previous data and reset widgets\n",
    "    reset_widgets()\n",
    "\n",
    "    file_path = filedialog.askopenfilename(filetypes=[(\"CSV Files\", \"*.csv\")])\n",
    "    \n",
    "    if file_path:\n",
    "        # Read CSV file and store it globally\n",
    "        current_data = pd.read_csv(file_path, delimiter = ';')\n",
    "        message_label.config(text=f\"File selected: {file_path}\")\n",
    "\n",
    "        # Show the number of columns and allow renaming\n",
    "        col_count = len(current_data.columns)\n",
    "        num_columns_label.config(text=f\"Number of columns: {col_count}\")\n",
    "\n",
    "        # Dynamically create entry boxes for renaming columns\n",
    "        create_rename_entries(current_data.columns)\n",
    "    else:\n",
    "        message_label.config(text=\"No file selected.\")\n",
    "\n",
    "# Function to create entry fields to rename columns\n",
    "def create_rename_entries(columns):\n",
    "    rename_label.config(text=\"Rename columns (optional):\")\n",
    "    for i, col_name in enumerate(columns):\n",
    "        tk.Label(rename_frame, text=f\"Column {i+1} ({col_name}):\").grid(row=i, column=0, padx=5, pady=5)\n",
    "        entry = tk.Entry(rename_frame)\n",
    "        entry.grid(row=i, column=1, padx=5, pady=5)\n",
    "        rename_entries.append(entry)\n",
    "\n",
    "# Function to reset the widgets when a new file is loaded\n",
    "def reset_widgets():\n",
    "    # Clear previous entries, labels, and plot\n",
    "    rename_label.config(text=\"\")\n",
    "    for widget in rename_frame.winfo_children():\n",
    "        widget.destroy()\n",
    "    for widget in plot_frame.winfo_children():\n",
    "        widget.destroy()\n",
    "    rename_entries.clear()\n",
    "\n",
    "# Function to apply the renaming of columns\n",
    "def apply_rename():\n",
    "    global current_data\n",
    "    if current_data is not None:\n",
    "        new_column_names = [entry.get() for entry in rename_entries if entry.get()]\n",
    "        if len(new_column_names) == len(current_data.columns):\n",
    "            current_data.columns = new_column_names\n",
    "            message_label.config(text=\"Column names updated.\")\n",
    "        else:\n",
    "            message_label.config(text=\"Not all columns were renamed. Keeping original names.\")\n",
    "\n",
    "# Function to plot the data based on the current data and column names\n",
    "def plot_data():\n",
    "    global current_data\n",
    "    if current_data is not None and len(current_data.columns) >= 2:\n",
    "        fig, ax = plt.subplots(figsize=(5, 4))\n",
    "        ax.plot(current_data[current_data.columns[0]], current_data[current_data.columns[1]])\n",
    "        ax.set_xlabel(current_data.columns[0])\n",
    "        ax.set_ylabel(current_data.columns[1])\n",
    "        ax.set_title('Plot from CSV data')\n",
    "\n",
    "        # Embed the plot in the Tkinter window\n",
    "        canvas = FigureCanvasTkAgg(fig, master=plot_frame)\n",
    "        canvas.draw()\n",
    "        canvas.get_tk_widget().pack()\n",
    "    else:\n",
    "        message_label.config(text=\"Not enough columns to plot.\")\n",
    "\n",
    "# GUI setup\n",
    "root = tk.Tk()\n",
    "root.title(\"Data Import and Plot\")\n",
    "root.geometry(\"800x600\")\n",
    "\n",
    "# Global widgets and lists\n",
    "rename_entries = []  # To store column rename entry fields\n",
    "\n",
    "# Frames\n",
    "plot_frame = tk.Frame(root)\n",
    "plot_frame.pack(pady=10)\n",
    "\n",
    "rename_frame = tk.Frame(root)\n",
    "rename_frame.pack(pady=10)\n",
    "\n",
    "# Labels and buttons\n",
    "message_label = tk.Label(root, text=\"Select a CSV file to import and plot.\")\n",
    "message_label.pack(pady=5)\n",
    "\n",
    "num_columns_label = tk.Label(root, text=\"\")\n",
    "num_columns_label.pack(pady=5)\n",
    "\n",
    "rename_label = tk.Label(root, text=\"\")\n",
    "rename_label.pack()\n",
    "\n",
    "plot_button = tk.Button(root, text=\"Import CSV and Display Info\", command=import_and_display_info)\n",
    "plot_button.pack(pady=10)\n",
    "\n",
    "apply_rename_button = tk.Button(root, text=\"Apply Renaming\", command=apply_rename)\n",
    "apply_rename_button.pack(pady=5)\n",
    "\n",
    "change_units_button = tk.Button(root, text=\"Change Units (multiply by 1.60934)\", command=change_units)\n",
    "change_units_button.pack(pady=5)\n",
    "\n",
    "plot_data_button = tk.Button(root, text=\"Plot Data\", command=plot_data)\n",
    "plot_data_button.pack(pady=10)\n",
    "\n",
    "# Run the application\n",
    "root.mainloop()\n"
   ]
  },
  {
   "cell_type": "markdown",
   "id": "accc9c7e",
   "metadata": {},
   "source": [
    "\n",
    "### 8. Conclusion\n",
    "\n",
    "In this tutorial, we introduced the concept of building GUIs using Python and Tkinter. You’ve learned how to:\n",
    "- Create a basic GUI window.\n",
    "- Add buttons and other interactive elements.\n",
    "- Handle file imports.\n",
    "- Visualize imported data using plotting tools like `matplotlib`.\n",
    "\n",
    "With these basic skills, you can now start building more complex applications tailored to your needs, such as creating control panels for simulations or visualizing experimental data in physics.\n"
   ]
  }
 ],
 "metadata": {
  "kernelspec": {
   "display_name": "Python 3 (ipykernel)",
   "language": "python",
   "name": "python3"
  },
  "language_info": {
   "codemirror_mode": {
    "name": "ipython",
    "version": 3
   },
   "file_extension": ".py",
   "mimetype": "text/x-python",
   "name": "python",
   "nbconvert_exporter": "python",
   "pygments_lexer": "ipython3",
   "version": "3.8.18"
  }
 },
 "nbformat": 4,
 "nbformat_minor": 5
}
