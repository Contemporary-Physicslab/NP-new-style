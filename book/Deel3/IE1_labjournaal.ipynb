{
 "cells": [
  {
   "cell_type": "markdown",
   "metadata": {},
   "source": [
    "# General\n",
    "Template for labjournaal. See https://jupyter-notebook.readthedocs.io/en/stable/examples/Notebook/Working%20With%20Markdown%20Cells.html for options to use markdown."
   ]
  },
  {
   "cell_type": "code",
   "execution_count": null,
   "metadata": {
    "collapsed": true,
    "jupyter": {
     "outputs_hidden": true
    }
   },
   "outputs": [],
   "source": [
    "#import necessary libraries\n",
    "import matplotlib.pyplot as plt\n",
    "import numpy as np\n",
    "import math\n",
    "from scipy.optimize import curve_fit "
   ]
  },
  {
   "cell_type": "markdown",
   "metadata": {},
   "source": [
    "**Names:**  "
   ]
  },
  {
   "cell_type": "markdown",
   "metadata": {},
   "source": [
    "**Title of the experiment:**  Validation of the relation between force and distance of two magnets."
   ]
  },
  {
   "cell_type": "markdown",
   "metadata": {},
   "source": [
    "**Starting date:**  \n",
    "**Expected enddate:**  \n"
   ]
  },
  {
   "cell_type": "markdown",
   "metadata": {},
   "source": [
    "**Goal of the experiment:**  In this experiment we determine the relation of the force between two magnets as function of their mutual distance. We use the set up shown below:\n",
    "\n",
    "```{figure} Figures/opstelling.jpg\n",
    ":width: 50%\n",
    "```\n",
    "\n",
    "The heart to heart distance between the two magnets can be calculated:\n",
    "\n",
    "```{figure} Figures/ie1_opst_onz.jpg\n",
    ":width: 50%\n",
    "```"
   ]
  },
  {
   "cell_type": "markdown",
   "metadata": {},
   "source": [
    "**Research question:**  "
   ]
  },
  {
   "cell_type": "markdown",
   "metadata": {},
   "source": [
    "**Expectations or Hypothesis:**  "
   ]
  },
  {
   "cell_type": "markdown",
   "metadata": {},
   "source": [
    "**Desired accuracy:**  "
   ]
  },
  {
   "cell_type": "code",
   "execution_count": null,
   "metadata": {
    "collapsed": true,
    "jupyter": {
     "outputs_hidden": true
    }
   },
   "outputs": [],
   "source": []
  },
  {
   "cell_type": "code",
   "execution_count": null,
   "metadata": {
    "collapsed": true,
    "jupyter": {
     "outputs_hidden": true
    }
   },
   "outputs": [],
   "source": []
  },
  {
   "cell_type": "markdown",
   "metadata": {},
   "source": [
    "# Preparation\n",
    " \n"
   ]
  },
  {
   "cell_type": "markdown",
   "metadata": {},
   "source": [
    "**Assignments:**  "
   ]
  },
  {
   "cell_type": "markdown",
   "metadata": {},
   "source": [
    "**Method:**  \n"
   ]
  },
  {
   "cell_type": "markdown",
   "metadata": {},
   "source": [
    "**Theory:**  \n"
   ]
  },
  {
   "cell_type": "markdown",
   "metadata": {},
   "source": [
    "**Independent variable:**  \n",
    "**Dependent variable:**  \n",
    "**Controlled variablen:**  \n"
   ]
  },
  {
   "cell_type": "markdown",
   "metadata": {},
   "source": [
    "**Measurement instruments \\& Settings:**  \n"
   ]
  },
  {
   "cell_type": "code",
   "execution_count": null,
   "metadata": {
    "collapsed": true,
    "jupyter": {
     "outputs_hidden": true
    }
   },
   "outputs": [],
   "source": [
    "#Metingen vooraf\n",
    "d_m = \n",
    "u_d_m = \n",
    "\n",
    "h_1_aan = \n",
    "u_h_1_aan =\n",
    "\n",
    "h_1_af = \n",
    "u_h_1_aF =\n",
    "\n",
    "h_2 = \n",
    "u_h_2 ="
   ]
  },
  {
   "cell_type": "markdown",
   "metadata": {},
   "source": [
    "**Procedure:**  \n",
    "**Setup(drawing or picture):**  \n"
   ]
  },
  {
   "cell_type": "markdown",
   "metadata": {},
   "source": [
    "**Notes:**  \n",
    "**About accuracy:** "
   ]
  },
  {
   "cell_type": "markdown",
   "metadata": {},
   "source": [
    "# Execution"
   ]
  },
  {
   "cell_type": "code",
   "execution_count": null,
   "metadata": {
    "collapsed": true,
    "jupyter": {
     "outputs_hidden": true
    }
   },
   "outputs": [],
   "source": [
    "# Measurements: Explain the names of variables provide only raw data in np.arrays!\n",
    "#Raw measurements\n",
    "h_12_af = np.array([   ,   ,  ,\\\n",
    "                       ,   ,  ,\\\n",
    "                       ,   ,  ,\\\n",
    "                       ,   ,  ,\\])\n",
    "\n",
    "F_af =    np.array([   ,   ,  ,\\\n",
    "                       ,   ,  ,\\\n",
    "                       ,   ,  ,\\\n",
    "                       ,   ,  ,\\])*9.81\n",
    "\n",
    "h_12_aan = np.array([   ,   ,  ,\\\n",
    "                        ,   ,  ,\\\n",
    "                        ,   ,  ,\\\n",
    "                        ,   ,  ,\\])\n",
    "\n",
    "F_aan =    np.array([   ,   ,  ,\\\n",
    "                        ,   ,  ,\\\n",
    "                        ,   ,  ,\\\n",
    "                        ,   ,  ,\\])*9.81\n"
   ]
  },
  {
   "cell_type": "markdown",
   "metadata": {},
   "source": [
    "**Observations:**  \n",
    "**Notes:**  "
   ]
  },
  {
   "cell_type": "markdown",
   "metadata": {},
   "source": [
    "# Processing\n",
    "**Description of processing of raw data into scientific evidence:**\n"
   ]
  },
  {
   "cell_type": "code",
   "execution_count": null,
   "metadata": {},
   "outputs": [],
   "source": [
    "z_aan =\n",
    "\n",
    "z_af = "
   ]
  },
  {
   "cell_type": "markdown",
   "metadata": {},
   "source": [
    "### Data processing and analysis:\n",
    "First look at your data without considering measurements uncertainty. Use the next cell to insert your code to plot your measurements. Consider the rules producing graphs! "
   ]
  },
  {
   "cell_type": "code",
   "execution_count": null,
   "metadata": {
    "collapsed": true,
    "jupyter": {
     "outputs_hidden": true
    }
   },
   "outputs": [],
   "source": [
    "#Data processing and analysis:\n",
    "#(F,z)-plot \n",
    "plt.figure()\n",
    "**[your code]**\n",
    "plt.show()"
   ]
  },
  {
   "cell_type": "markdown",
   "metadata": {},
   "source": [
    "Based on the plot, are you allowed to combined the two datasets into one? If so, merge the arrays."
   ]
  },
  {
   "cell_type": "code",
   "execution_count": null,
   "metadata": {},
   "outputs": [],
   "source": [
    "#merge arrays \n",
    "z = \n",
    "F = "
   ]
  },
  {
   "cell_type": "markdown",
   "metadata": {},
   "source": [
    "Now plot the same measurements with errorbars. You can use this source to find out additional options: https://matplotlib.org/3.1.1/api/_as_gen/matplotlib.pyplot.errorbar.html"
   ]
  },
  {
   "cell_type": "code",
   "execution_count": null,
   "metadata": {
    "collapsed": true,
    "jupyter": {
     "outputs_hidden": true
    }
   },
   "outputs": [],
   "source": [
    "#Data processing and analysis:\n",
    "#(F,z)-plot with errorbars\n",
    "plt.figure()\n",
    "**[your code]**\n",
    "plt.show()"
   ]
  },
  {
   "cell_type": "markdown",
   "metadata": {},
   "source": [
    "## Fitting the data \n",
    "### function fit using $z^{-4}$\n",
    "There are at least two options to use a function fit to your measurements. We will look at the different methods to analyse your data below. \n",
    "\n",
    "As we expect the function to be in the form: $ F = \\frac{a}{z^4} $ we can ask Python to fit this function. You can use this source to find out additional options: https://docs.scipy.org/doc/scipy/reference/generated/scipy.optimize.curve_fit.html\n",
    "Think about whether measurements with the outcome $F$ = 0 N count or should be disregarded."
   ]
  },
  {
   "cell_type": "code",
   "execution_count": null,
   "metadata": {
    "collapsed": true,
    "jupyter": {
     "outputs_hidden": true
    }
   },
   "outputs": [],
   "source": [
    "def func(x,a):\n",
    "\treturn a/x**4\n",
    "\n",
    "popt,pcov = curve_fit(func,z,F)\n",
    "pcov\n",
    "print('alpha = ', popt[0], '+/-', np.sqrt(pcov[0,0]))"
   ]
  },
  {
   "cell_type": "markdown",
   "metadata": {},
   "source": [
    "The printed value is the constant in the function $ F = \\frac{a}{z^4} $. Make a new plot in which you show your measurements and your function fit. Part of the code is already written for you."
   ]
  },
  {
   "cell_type": "code",
   "execution_count": null,
   "metadata": {
    "collapsed": true,
    "jupyter": {
     "outputs_hidden": true
    }
   },
   "outputs": [],
   "source": [
    "#(F,z)-plot with errorbars and functionfit\n",
    "plt.figure()\n",
    "\n",
    "\n",
    "**[your code]**\n",
    "\n",
    "min_value_z = \n",
    "max_value_z =\n",
    "\n",
    "x = np.linspace(min_value_z,max_value_z,1000)\n",
    "y = func(x,*popt)\n",
    "\n",
    "plt.plot(x,y,'r--',linewidth=1)   \n",
    "plt.show()"
   ]
  },
  {
   "cell_type": "markdown",
   "metadata": {},
   "source": [
    "#### Residual analysis\n",
    "It is always interesting to see whether the fit is a good fit. The fit above might not be the easiest way to directly see this. We therefor use a residual analysis. In this analysis we plot our measurements - our fit. The code gives some idea of what to do. Analyse the residuals by completing the code below."
   ]
  },
  {
   "cell_type": "code",
   "execution_count": null,
   "metadata": {
    "collapsed": true,
    "jupyter": {
     "outputs_hidden": true
    }
   },
   "outputs": [],
   "source": [
    "# Residual analysis\n",
    "plt.figure()\n",
    "plt.plot(z,func(z,popt[0])-F,'k.',linewidth=1)   \n",
    "plt.show()"
   ]
  },
  {
   "cell_type": "markdown",
   "metadata": {},
   "source": [
    "#### fitting with systematic error\n",
    "You were able to measure the heart-to-heart distance with a certain accuracy. You probable had to use some kind of reference point. Using a reference might lead to a systematic error. A systematic error can be introduced by looking at the function $F=\\frac{a}{(z+\\Delta z)^4}$, where $\\Delta z$ is our systematic error. Investigate whether there is a systematic error in your data."
   ]
  },
  {
   "cell_type": "code",
   "execution_count": null,
   "metadata": {
    "collapsed": true,
    "jupyter": {
     "outputs_hidden": true
    }
   },
   "outputs": [],
   "source": []
  },
  {
   "cell_type": "markdown",
   "metadata": {},
   "source": [
    "### linear fit\n",
    "Another option is a linear fit. As we expect the function to be in the form: $ F = \\frac{a}{z^4} $ we can replace $ z^{-4} $ by $ u $. Our function will then be a linear function: $ F = a \\cdot u $. This is known as coordinate transformation and is already taught at secondary school level (so you should have some experience with it!).\n",
    "\n",
    "Make a new variable $ u $ with the values of $ z^{-4} $ and plot the graph. Make it an interactive plot (%matplotlib notebook) where you can zoom in on certain parts of the graph. Does it look linear to you?"
   ]
  },
  {
   "cell_type": "code",
   "execution_count": null,
   "metadata": {
    "collapsed": true,
    "jupyter": {
     "outputs_hidden": true
    }
   },
   "outputs": [],
   "source": [
    "#(F,u)-plot without errorbars \n",
    "plt.figure()\n",
    "u =\n",
    "**[your code]**\n",
    "plt.show()"
   ]
  },
  {
   "cell_type": "markdown",
   "metadata": {},
   "source": [
    "The errorbars are still missing in the plot. As $ u = z^{-4} $, $ u_u = 4 \\cdot u_z \\cdot z^{-5} $. \n",
    "\n",
    "Proof this."
   ]
  },
  {
   "cell_type": "markdown",
   "metadata": {},
   "source": [
    "Calculate the uncertainties for $ u $ and errorbarplot ($ F $, $ u $)."
   ]
  },
  {
   "cell_type": "code",
   "execution_count": null,
   "metadata": {
    "collapsed": true,
    "jupyter": {
     "outputs_hidden": true
    }
   },
   "outputs": [],
   "source": [
    "#(F,z)-plot with errorbars \n",
    "plt.figure()\n",
    "**[your code]**\n",
    "plt.show()"
   ]
  },
  {
   "cell_type": "markdown",
   "metadata": {},
   "source": [
    "Carry out the following steps:\n",
    "* define the function for the functionfit\n",
    "* curve fit \n",
    "* plot your measurements and the curve fit\n",
    "* make it an interactive plot so that you can zoom in and see all essential features of the graph"
   ]
  },
  {
   "cell_type": "code",
   "execution_count": null,
   "metadata": {
    "collapsed": true,
    "jupyter": {
     "outputs_hidden": true
    }
   },
   "outputs": [],
   "source": [
    "#(F,z)-plot with errorbars and functionfit\n",
    "plt.figure()\n",
    "**[your code]**\n",
    "plt.show()"
   ]
  },
  {
   "cell_type": "markdown",
   "metadata": {},
   "source": [
    "Make additional plots that are relevant for the experiment in the given context."
   ]
  },
  {
   "cell_type": "code",
   "execution_count": null,
   "metadata": {
    "collapsed": true,
    "jupyter": {
     "outputs_hidden": true
    }
   },
   "outputs": [],
   "source": [
    "#additional plots of interest\n",
    "plt.figure()\n",
    "**[your code]**\n",
    "plt.show()"
   ]
  },
  {
   "cell_type": "markdown",
   "metadata": {},
   "source": [
    "There is at least one additional way to see what kind of exponential function ($ y = a*x^n $) is used. One can use a log-log-plot to see whether n = -4 and constant! Explore this way of analyzing the data. "
   ]
  },
  {
   "cell_type": "code",
   "execution_count": null,
   "metadata": {
    "collapsed": true,
    "jupyter": {
     "outputs_hidden": true
    }
   },
   "outputs": [],
   "source": [
    "#extra analysis\n",
    "plt.figure()\n",
    "**[your code]**\n",
    "plt.show()"
   ]
  },
  {
   "cell_type": "markdown",
   "metadata": {},
   "source": [
    "Maybe you are not satisfied with the result... find out whether there is a different relation than $ F = \\frac{a}{z^4} $ that better matches your experimental data, e.g. $F = a \\cdot z^{n}$..."
   ]
  },
  {
   "cell_type": "code",
   "execution_count": null,
   "metadata": {
    "collapsed": true,
    "jupyter": {
     "outputs_hidden": true
    }
   },
   "outputs": [],
   "source": []
  },
  {
   "cell_type": "markdown",
   "metadata": {},
   "source": [
    "## Calculating the remanent field\n",
    "If your data concords with the formula: $F=\\frac{\\alpha}{z^4}$, we still have to see whether the remanent field is similar to the value specified by the manufacturer. This analysis consists of the following steps:\n",
    "* produce the value of $\\alpha$ and its associated uncertainty\n",
    "* using this value, calculate the remanent field $B_r$ \n",
    "* calculate the associated uncertainty\n",
    "* produce an agreement analysis (strijdigheidsanalyse) to see whether the values are in agreement.\n",
    "\n",
    "Execute this analysis."
   ]
  },
  {
   "cell_type": "code",
   "execution_count": null,
   "metadata": {
    "collapsed": true,
    "jupyter": {
     "outputs_hidden": true
    }
   },
   "outputs": [],
   "source": []
  },
  {
   "cell_type": "code",
   "execution_count": null,
   "metadata": {
    "collapsed": true,
    "jupyter": {
     "outputs_hidden": true
    }
   },
   "outputs": [],
   "source": []
  },
  {
   "cell_type": "markdown",
   "metadata": {},
   "source": [
    "**Describing the pattern in the processed data:**  \n"
   ]
  },
  {
   "cell_type": "code",
   "execution_count": null,
   "metadata": {
    "collapsed": true,
    "jupyter": {
     "outputs_hidden": true
    }
   },
   "outputs": [],
   "source": [
    "#Calculations of e.a. measurement uncertainties, and providing final answers.\n"
   ]
  },
  {
   "cell_type": "markdown",
   "metadata": {},
   "source": [
    "**Notes:**  "
   ]
  },
  {
   "cell_type": "markdown",
   "metadata": {},
   "source": [
    "# Discussion\n",
    "\n"
   ]
  },
  {
   "cell_type": "markdown",
   "metadata": {},
   "source": [
    "# Conclusion"
   ]
  },
  {
   "cell_type": "code",
   "execution_count": null,
   "metadata": {
    "collapsed": true,
    "jupyter": {
     "outputs_hidden": true
    }
   },
   "outputs": [],
   "source": []
  },
  {
   "cell_type": "code",
   "execution_count": null,
   "metadata": {
    "collapsed": true,
    "jupyter": {
     "outputs_hidden": true
    }
   },
   "outputs": [],
   "source": []
  },
  {
   "cell_type": "markdown",
   "metadata": {},
   "source": [
    "# Additional notes, remarks, explanations, thoughts etc"
   ]
  },
  {
   "cell_type": "markdown",
   "metadata": {},
   "source": []
  }
 ],
 "metadata": {
  "kernelspec": {
   "display_name": "Python 3 (ipykernel)",
   "language": "python",
   "name": "python3"
  },
  "language_info": {
   "codemirror_mode": {
    "name": "ipython",
    "version": 3
   },
   "file_extension": ".py",
   "mimetype": "text/x-python",
   "name": "python",
   "nbconvert_exporter": "python",
   "pygments_lexer": "ipython3",
   "version": "3.9.12"
  }
 },
 "nbformat": 4,
 "nbformat_minor": 4
}
