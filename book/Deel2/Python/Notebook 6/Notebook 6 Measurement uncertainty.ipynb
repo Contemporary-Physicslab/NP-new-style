{
 "cells": [
  {
   "cell_type": "markdown",
   "metadata": {},
   "source": [
    "# Measurements and their uncertainty\n",
    "\n",
    "* [Learning objectives](#section_6_0)    \n",
    "* [Mean, standard deviation and standard uncertainty of repeated readings](#section_6_1)\n",
    "* [Normal distribution](#section_6_2)\n",
    "* [Agreement analysis](#section_6_3)\n",
    "* [Outliers: Chauvenet's criterium](#section_6_4)\n",
    "* [Poisson distribution](#section_6_5)\n",
    "* [Error propagation ](#section_6_6)\n",
    "* [Gaussian fit ](#section_6_7)\n",
    "* [Solutions to Exercises](#section_6_8)\n",
    "\n"
   ]
  },
  {
   "cell_type": "markdown",
   "metadata": {},
   "source": [
    "## Pre/Post-test<a class=\"anchor\" id=\"section_1_0\"></a>\n",
    "This test is for testing your current skills in Python. You can use it in two ways:\n",
    "* pre-test: to test your skills beforehand. If you are already proficient in Python, and can do this test within approximately 15 minutes, you can scan through the notebook rather than carfefully reading each sentence.\n",
    "* post-test: test your skills after Notebook 6. Check whether you learned enough.\n",
    "\n",
    "**Diode**\n",
    "\n",
    "In an experiment 10 measurements were taken of the voltage over and current through a Si-diode. The results are displayed in the following table together with their uncertainties:\n",
    "\n",
    "| I (μA) | $\\alpha_I$ (μA)| V (mV)| $\\alpha_V$ (mV)| \n",
    "| ---   | ---     | ---   | --- |\n",
    "|3034 |4      | 670   | 4   |        \n",
    "|1494 |2      | 636   | 4   |       \n",
    "|756.1 |0.8     |604    | 4   |    \n",
    "|384.9 |0.4     | 572   | 4   |      \n",
    "|199.5 |0.3     | 541   | 4   |    \n",
    "|100.6 |0.2     | 505   | 4   |     \n",
    "|39.93 |0.05    | 465   | 3   |     \n",
    "|20.11 |0.03    | 432   | 3   |     \n",
    "|10.23 |0.02    | 400   | 3   |     \n",
    "|5.00  |0.01    | 365   | 3   |  \n",
    "|2.556  |0.008    | 331   | 3   |    \n",
    "|1.269  |0.007    | 296   | 2   |    \n",
    "|0.601  |0.007    |257    | 2   |\n",
    "|0.295  |0.006    |221    | 2   |\n",
    "|0.137  |0.006    |181    | 2   |\n",
    "|0.067  |0.006    |145    | 2   |\n",
    "\n",
    "\n",
    "The diode is expected to behave according to the following relation: $I = a(e^{bV}-1)$, where $a$ and $b$ are unknown constants . \n",
    "\n",
    "**Exercise:** Use the curve_fit function to determine whether this is a valid model to describe the dataset. Is the found parameter $a$ in agreement with the value found in another experiment $a_{2} = 2.0 \\pm 0.5$ nA?\n",
    "\n",
    "*Hint: use a logscale on the y-axis*"
   ]
  },
  {
   "cell_type": "code",
   "execution_count": null,
   "metadata": {},
   "outputs": [],
   "source": [
    "I = np.array([3034,1494,756.1,384.9,199.5,100.6,39.93,20.11,10.23,5.00,2.556,1.269,0.601,0.295,0.137,0.067])*1e-6\n",
    "a_I = np.array([4,2,0.8,0.4,0.3,0.2,0.05,0.03,0.02,0.01,0.008,0.007,0.007,0.006,0.006,0.006])*1e-6\n",
    "V = np.array([670,636,604,572,541,505,465,432,400,365,331,296,257,221,181,145])*1e-3\n",
    "a_V = np.array([4,4,4,4,4,4,3,3,3,3,3,2,2,2,2,2])*1e-3\n",
    "\n",
    "\n",
    "def current(V,a,b):\n",
    "    return a*(np.exp(b*V)-1)\n"
   ]
  },
  {
   "cell_type": "markdown",
   "metadata": {},
   "source": [
    "## Learning objectives<a class=\"anchor\" id=\"section_6_0\"></a>\n",
    "\n",
    "Now that we know how to do some basic Python, it is time to use it to understand features and the nature of physical measurements. \n",
    "\n",
    "In this notebook, we will introduce you to measurements, variance in repeated measurements, and measurement uncertainties. If we do calculations with a value with an uncertainty, we end up with an answer that has an uncertainty as well... But how do we calculate this uncertainty? Moreover, we often do not calculate a value on a single set of repeated measurements but rather on datasets with various mean values of repeated measurements. How do we properly analyse these data? For each topic, a summary is given. What is new, compared to the previous notebooks, is that we have * assignments. These are not mandatory, but can be made to help you improve your knowledge of Python and data-analysis.\n",
    "\n",
    "Now that we know how to do some basic Python, it is time to use it to understand features of physical measurements. It is very useful to study the chapter in the online manual as well!\n",
    "\n",
    "After completing this notebook, you are able to:\n",
    "* calculate the mean, standard deviation and uncertainty of a dataset\n",
    "* report findings using the scientific conventions\n",
    "* understand and use Gaussian and Poisson distribution\n",
    "* identify outliers\n",
    "* carry out an agreement analysis\n",
    "* calculate how uncertainties propagate when calculations are performed\n"
   ]
  },
  {
   "cell_type": "code",
   "execution_count": null,
   "metadata": {},
   "outputs": [],
   "source": [
    "import matplotlib.pyplot as plt\n",
    "import numpy as np\n",
    "from scipy.optimize import curve_fit \n",
    "from scipy.stats import norm, poisson\n",
    "from IPython.lib.display import YouTubeVideo"
   ]
  },
  {
   "cell_type": "code",
   "execution_count": null,
   "metadata": {},
   "outputs": [],
   "source": [
    "YouTubeVideo('8uj8rbIQlus')"
   ]
  },
  {
   "cell_type": "markdown",
   "metadata": {},
   "source": [
    "What is, in science, the value of a value? In physics, this depends on how certain you are of this value. As quantities are determined using experiments, and these experiments are subject to error and uncertainties, the 'true' value can only be determined to some degree. We are never 100% sure of the exact value. Therefore, values are given with their uncertainty: $g$ = 9.81 ± 0.01 m/s$^2$. So how do we determine to what extent a value is certain?\n"
   ]
  },
  {
   "cell_type": "markdown",
   "metadata": {},
   "source": [
    "##  Mean, standard deviation and standard uncertainty of repeated readings<a class=\"anchor\" id=\"section_6_1\"></a>\n",
    "\n",
    "\n",
    "If you measure a physical quantity with a proper instrument, variability in measurements is inevitable. When a certain value of a physical quantity $x$ is determined $N$ times, the best estimate for that value would be the average or *mean* value $(\\mu(x) = \\bar x)$. The average of a series of $N$ measurements $x_i$ is calculated by: \n",
    "\n",
    "$$ \\mu(x) = \\bar x = \\frac{x_1+x_2+x_3+...+x_N}{N} = \\frac{1}{N}\\sum_{i=1}^N x_i$$\n",
    "\n",
    "However, how precise does this average reflect the real value? Would you be more confident in your result if the individual measurement are close together? To quantify the deviation in the measurements, we can calculate the *standard deviation*: \n",
    "\n",
    "$$\\sigma(x) = \\sqrt{\\frac{\\sum_{i=1}^N(x_i-\\bar x)^2}{N-1}}$$\n",
    "\n",
    "As you can see, the standard deviation is a measure of the average distance from the measurements to the mean. We expect, with a certainty of roughly 2/3, that a next measurement is within $\\mu(x) \\pm \\sigma(x)$ or roughly 0.95 that a next measurement is within $\\mu(x) \\pm 2\\sigma(x)$.\n",
    "\n",
    "This standard deviation does not really increase or decrease if more measurements are done (given a sufficient number at first). Therefore it is not a good measure of uncertainty in the result. The *uncertainty* is therefore defined to be given by $$u(x) = \\frac{\\sigma(x)}{\\sqrt {N}}$$\n",
    "This uncertainty is equal to the deviation of the mean. That is, if the measurement series is repeated, another mean value will be found. The uncertainty is the deviation of that mean. Roughly speaking, the probabilty that a repeated experiment will yield a mean in the interval $\\bar x \\pm u(x) \\approx 2/3$.  \n",
    "  \n",
    "The final outcome of a measurement is to be reported as: measurement $\\pm$ uncertainty + unit. The number of significant digits of the result is determined by the uncertainty. When less than 1000 measurements are done, the uncertainty should have 1 significant figure. The number of decimals of the result should match the number of decimals of the uncertainty."
   ]
  },
  {
   "cell_type": "code",
   "execution_count": null,
   "metadata": {},
   "outputs": [],
   "source": [
    "YouTubeVideo('Dl4AGXWjNfc')"
   ]
  },
  {
   "cell_type": "markdown",
   "metadata": {},
   "source": [
    "**`Exercise 6.1`** \\\n",
    "The results of eight titrated volumes (in ml) are: 25.8, 26.2, 26.0, 26.5, 25.8, 26.1, 25.8 and 26.3. \n",
    "\n",
    "Calculate:\n",
    "\n",
    "**(i)** the average, \n",
    "\n",
    "**(ii)** the standard deviation, \n",
    "\n",
    "**(iii)** the uncertainty in the mean of the volume,\n",
    "\n",
    "**(iv)** present the best estimate of the true volume with its associated uncertainty.\n"
   ]
  },
  {
   "cell_type": "code",
   "execution_count": null,
   "metadata": {},
   "outputs": [],
   "source": [
    "# Answer exercise 6.1:\n",
    "V = np.array([25.8, 26.2, 26.0, 26.5, 25.8, 26.1, 25.8, 26.3])\n",
    "#Your code\n",
    "\n",
    "\n",
    "print('The average is: ')\n",
    "\n",
    "print('The standard deviation is: ')\n",
    "\n",
    "print('The uncertainty in the mean of the volume: ')\n",
    "\n",
    "print('The best estimate of the true volume is: ' )"
   ]
  },
  {
   "cell_type": "code",
   "execution_count": null,
   "metadata": {},
   "outputs": [],
   "source": []
  },
  {
   "cell_type": "markdown",
   "metadata": {},
   "source": [
    "**`Exercise 6.1*`** \\\n",
    "You probably know the `np.mean` and the `np.std` commands. However you can also do them yourself using the definitions:\n",
    "$$\n",
    "\\overline{x} = \\frac{1}{N} \\sum_{i=1}^N x_i\n",
    "$$\n",
    "    \n",
    "$$\n",
    "\\sigma_x =  \\sqrt{\\frac{1}{N-1}   \\sum_{i=1}^N (x_i - \\mu_x)^2  }\n",
    "$$\n",
    "\n",
    "Use these on the following dataset and see if you get the same results as the `np.mean` and the `np.std` commands.\\\n",
    "**Data**\n",
    "\n",
    "|Tree Number|Total Height (m)|\n",
    "|---|---|\n",
    "|1|14.02|\n",
    "|2|14.15|\n",
    "|3|15.27|\n",
    "|4|11.81|\n",
    "|5|14.22|\n",
    "|6|20.52|\n",
    "|7|18.2|\n",
    "|8|16.92|\n",
    "|9|16.28|\n",
    "|10|20.8|\n",
    "|11|4.5|\n",
    "\n",
    "*Models of knot and stem development in black spruce trees indicate a shift in allocation priority to branches when growth is limited. Available from:* https://www.researchgate.net/figure/Characteristics-of-the-10-sample-trees-in-the-dataset_tbl1_274717928 *[accessed 24 Jul, 2020]*\n",
    "\n",
    "**a** Calculate in two different ways the mean value and the standard deviation.\n",
    "\n",
    "**b** If you notice a difference between the `np.std` function and the manual function I would encourage you to look at the documentation of the `np.std` function [Here](https://numpy.org/doc/stable/reference/generated/numpy.std.html).\n",
    "\n",
    "**c** How would you as a physicist write down the result?\n",
    "\n"
   ]
  },
  {
   "cell_type": "code",
   "execution_count": null,
   "metadata": {},
   "outputs": [],
   "source": [
    "L = np.array([14.02,14.15,15.27,11.81,14.22,20.52,18.2,16.92,16.28,20.8,4.5])\n",
    "#your code\n"
   ]
  },
  {
   "cell_type": "code",
   "execution_count": null,
   "metadata": {},
   "outputs": [],
   "source": []
  },
  {
   "cell_type": "code",
   "execution_count": null,
   "metadata": {},
   "outputs": [],
   "source": []
  },
  {
   "cell_type": "markdown",
   "metadata": {},
   "source": [
    "**`Exercise 6.2`** \\\n",
    "Below are eight resistor measurements, each based on ten repeated readings. However, only two measurements are adequately displayed. \n",
    "\n",
    "Which ones?\n",
    "\n",
    "**(i)** $(99.8 \\pm 0.270) \\cdot 10^3 \\,\\Omega$\n",
    "\n",
    "**(ii)** $(100 \\pm 0.3) \\cdot 10^3 \\,\\Omega$\n",
    "\n",
    "**(iii)** $(100.0 \\pm 0.3) \\cdot 10^3 \\,\\Omega$\n",
    "\n",
    "**(iv)** $(100.1 \\pm 0.3) \\cdot 10^3 \\$\n",
    "\n",
    "**(v)** $99.4 \\cdot 10^3 \\pm 36.0 \\cdot 10^2 \\,\\Omega$\n",
    "\n",
    "**(vi)** $101.5 \\cdot 10^3 \\pm 0.3 \\cdot 10^1 \\,\\Omega$\n",
    "\n",
    "**(vii)** $(99.8 \\pm 0.3) \\cdot 10^3 \\,\\Omega$\n",
    "\n",
    "**(viii)** $95.2 \\cdot 10^3 \\pm 273 \\,\\Omega$\n"
   ]
  },
  {
   "cell_type": "code",
   "execution_count": null,
   "metadata": {},
   "outputs": [],
   "source": [
    "# Answer exercise 6.2\n",
    "print('The measurements adequately displayed are: ')"
   ]
  },
  {
   "cell_type": "code",
   "execution_count": null,
   "metadata": {},
   "outputs": [],
   "source": []
  },
  {
   "cell_type": "markdown",
   "metadata": {},
   "source": [
    "**`Exercise 6.3`** \\\n",
    "Round the following numbers displaying two figures and use scientific notation.\n",
    "\n",
    "**(i)** 602.20\n",
    "\n",
    "**(ii)** 0.00135\n",
    "\n",
    "**(iii)** 0.0225\n",
    "\n",
    "**(iv)** 1.60219\n",
    "\n",
    "**(v)** 91.095\n"
   ]
  },
  {
   "cell_type": "code",
   "execution_count": null,
   "metadata": {},
   "outputs": [],
   "source": [
    "# Answer exercise 6.3\n",
    "print('The correct notation of (i) is: ')\n",
    "print('The correct notation of (ii) is: ')\n",
    "print('The correct notation of (iii) is: ')\n",
    "print('The correct notation of (iv) is: ')\n",
    "print('The correct notation of (v) is: ')\n"
   ]
  },
  {
   "cell_type": "code",
   "execution_count": null,
   "metadata": {},
   "outputs": [],
   "source": []
  },
  {
   "cell_type": "markdown",
   "metadata": {},
   "source": [
    "So, let us look at what happens when we repeat our measurements. How does this change our best estimate of the true value, and how does repeating measurements decrease the measurement uncertainty?\n",
    "\n"
   ]
  },
  {
   "cell_type": "markdown",
   "metadata": {},
   "source": [
    "**`Exercise 6.4`** \\\n",
    "During an experiment, an automated reading of a certain quantity is carried out. The data is stored in the file 'experimental_results.csv'. \n",
    "\n",
    "**a** Load the data.\n",
    "\n",
    "**b** Calculate the average value and the standard deviation. Plot as well the histogram of the readings. \n"
   ]
  },
  {
   "cell_type": "code",
   "execution_count": null,
   "metadata": {},
   "outputs": [],
   "source": [
    "# your code for 6.4 a and b.\n"
   ]
  },
  {
   "cell_type": "markdown",
   "metadata": {},
   "source": [
    "We expect that the average value converges to a certain value (the true value) when we increase the number of repeated readings.\n",
    "\n",
    "**c** Plot the average value as function of the number of repeated readings. Thereto, make an array in which the average value as function of the number of repeated readings is stored. \n",
    "\n",
    "We also expect that the uncertainty in the average value decreases with an increasing number of repeated readings.\n",
    "\n",
    "**d** Plot the uncertainty in the average value as function of the number of repeated readings. Use a log-log scale.\n"
   ]
  },
  {
   "cell_type": "code",
   "execution_count": null,
   "metadata": {},
   "outputs": [],
   "source": [
    "# your code for 6.4 c and d.\n"
   ]
  },
  {
   "cell_type": "code",
   "execution_count": null,
   "metadata": {},
   "outputs": [],
   "source": []
  },
  {
   "cell_type": "markdown",
   "metadata": {
    "tags": []
   },
   "source": [
    "## Normal distribution<a class=\"anchor\" id=\"section_6_2\"></a>\n",
    "\n",
    "A measurement $M$ can be interpreted as the physical quantities' true value $G$ and some unwanted noise $s$: $M = G + s$. In many cases, this noise is *normally* distributed. For a normal distribution with mean $\\mu$, and standard deviation $\\sigma$, the probability density function is given by \n",
    "\n",
    "$$p(x) = \\frac{1}{\\sigma \\sqrt{2\\pi}}e^{-(x-\\mu)^2/2\\sigma ^2}$$\n",
    "  \n",
    "In general, a probability density $p(x)$ is a function that has the property that the probabilty that a random variable $X$ has a value smaller than $x$ is given by: \n",
    "\n",
    "$$\\mathbb{P}[X<x] = \\int_{-\\infty}^{x}p(\\tilde{x}) d \\tilde{x}$$  \n",
    "\n",
    "The normal distribution is sometimes called a Gaussian distribution, and its density function is sometimes called a Bell curve. Unfortunately, it is not possible to analytically solve the integral of the density of the normal distribution. Luckily, good numerical approximations of this integral, that is also called the errorfunction $Erf(x,\\mu, \\sigma)$, exist. In python you can use scipy.stats.norm.pdf for the probabilty density function, and scipy.stats.norm.cdf for the error function. [https://docs.scipy.org/doc/scipy/reference/generated/scipy.stats.norm.html].\n",
    "\n"
   ]
  },
  {
   "cell_type": "markdown",
   "metadata": {},
   "source": [
    "**`Exercise 6.5`** \\\n",
    "Bags of rice with indicated weight of 500 g are sold. In practice, this weight is normally distributed with an average weight of 502 g and a standard deviation of 14 g. \n",
    "\n",
    "**(a)** What is the chance that a bag of rice weights less than 500 g?\n",
    "\n",
    "**(b)** If we would buy 1000 bags of rice, how many can be expected to weigh at least 530 g? \n",
    "___Use the error function, Erf($x$; $\\bar{x}$, $\\sigma$) or scipy.stats.norm.cdf___ to compute this expectation.\n"
   ]
  },
  {
   "cell_type": "code",
   "execution_count": null,
   "metadata": {},
   "outputs": [],
   "source": [
    "# Answer exercise 6.5\n",
    "\n",
    "print('(a)  P = ... ')\n",
    "print('(b)  number = ...')\n",
    "from scipy.stats import norm\n",
    "\n",
    "x = np.linspace(-10,10,100)\n",
    "plt.plot(x, norm.pdf(x, 0,1))\n",
    "plt.plot(x, norm.cdf(x,0,1))\n",
    "plt.show()"
   ]
  },
  {
   "cell_type": "code",
   "execution_count": null,
   "metadata": {},
   "outputs": [],
   "source": []
  },
  {
   "cell_type": "markdown",
   "metadata": {},
   "source": [
    "**`Exercise 6.6`** \\\n",
    "In the movieclip below you see a blinking LED. Here we investigate how long the LED is ON.\n",
    "\n",
    "**(a)** Take 15 (3 sets of 5) repeated readings of the time that the LED is ON. Note these measurements in the array below. Also ask the dataset of someone else so you have 6x5 repeated readings. \n",
    "\n",
    "**(b)** Provide a reason for a potential systematic error and two reasons for potential random errors. \n",
    "\n",
    "**(c)** For each of set of five repeated readings calculate the average time $\\mu(t)$ the LED is on and the associated standard deviation $\\sigma(t)$ and the uncertainty $u(t)$.\n",
    "\n",
    "The average time found is probably not the same each time. We can calculate the standard deviation of the mean of each set of five readings.\n",
    "\n",
    "**(d)** Calculate the standard deviation of the mean. \n",
    "\n",
    "**(e)** Compare the standard deviation of the mean with the mean of the uncertainty of the 6 sets. Are these two values comparable?\n",
    "\n",
    "**(f)** Provide the best estimate of the time $\\mu(t) \\pm u(t)$ that the LED is on. Use the scientific conventions for presenting your result.\n"
   ]
  },
  {
   "cell_type": "code",
   "execution_count": null,
   "metadata": {},
   "outputs": [],
   "source": [
    "YouTubeVideo('wEtzi3oTLCk')"
   ]
  },
  {
   "cell_type": "code",
   "execution_count": null,
   "metadata": {},
   "outputs": [],
   "source": [
    "# Answer exercise 6.6\n",
    "Measurements = np.array([[,,,,],\\\n",
    "                     [,,,,],\\\n",
    "                     [,,,,],\\\n",
    "                     [,,,,],\\\n",
    "                     [,,,,],\\\n",
    "                     [,,,,]]) #s\n",
    "\n",
    "\n",
    "Measurements_av = np.array([np.mean(),\\\n",
    "                       np.mean(),\\\n",
    "                       np.mean()])\n",
    "\n"
   ]
  },
  {
   "cell_type": "code",
   "execution_count": null,
   "metadata": {},
   "outputs": [],
   "source": [
    "YouTubeVideo('cXcfwthH1SE')"
   ]
  },
  {
   "cell_type": "code",
   "execution_count": null,
   "metadata": {},
   "outputs": [],
   "source": []
  },
  {
   "cell_type": "markdown",
   "metadata": {
    "tags": []
   },
   "source": [
    "## Agreement analysis<a class=\"anchor\" id=\"section_6_3\"></a>\n",
    "\n",
    "If we have found a certain value and want to compare it with a known value, when do these values agree with each other? Certainly this depends on the average value found. But in the two figures below, we can also see that this depends on how (un)certain our determined values are. The first values might be in agreement with each other, as their pdf's overlap. But the second values certainly are not.\n",
    "\n",
    "<img src=\"norm.jpg\" width=\"500\"></img>\n",
    "<img src=\"norm2.jpg\" width=\"500\"></img>\n",
    "\n",
    "To see whether two values $P$ and $Q$ are in agreement, we check whether their difference in values are less than twice their combined uncertainties: $|P-Q|<2\\sqrt{u(P)^2+u(Q)^2} $.\n"
   ]
  },
  {
   "cell_type": "markdown",
   "metadata": {},
   "source": [
    "**`Exercise 6.7`** \\\n",
    "For a certain physics quantity $E$, Eva has found a value of 14.5$\\pm$0.2. The literature value of this quantity is 14.9$\\pm$0.1.\n",
    "\n",
    "a) Check whether these values are in agreement with each other.\n"
   ]
  },
  {
   "cell_type": "code",
   "execution_count": null,
   "metadata": {},
   "outputs": [],
   "source": [
    "# Answer exercise 6.7a\n"
   ]
  },
  {
   "cell_type": "markdown",
   "metadata": {},
   "source": [
    "b) Write a function that makes use of four inputvariables, namely two quantities with their uncertainties. The function should return whether the values are in agreement with each other.\n"
   ]
  },
  {
   "cell_type": "code",
   "execution_count": null,
   "metadata": {},
   "outputs": [],
   "source": [
    "# Answer exercise 6.7b\n"
   ]
  },
  {
   "cell_type": "markdown",
   "metadata": {},
   "source": [
    "## Outliers: Chauvenet's criterium<a class=\"anchor\" id=\"section_6_4\"></a>\n",
    "\n",
    "In a repeated measurement series it is possible that there is an outlier, that deviates largely from the average. You may have made an error while performing the measurement, or it may be caused by random noise. However, it is not allowed to just selectively discard datapoints. Chauvenet's criterium provides a rule of thumb on when to remove a datapoint, arguing that that a statistical fluctuation is unlikely and there has likely been made a mistake. A datapoint may be removed if $2N \\cdot P_{\\text{outlier}} < 0.5$ where $P_{\\text{outlier}} = Erf(x_{\\text{outlier}}, \\bar x, \\sigma)$ when the outlier is below average, and $P_{\\text{outlier}} = 1-Erf(x_{\\text{outlier}}, \\bar x, \\sigma)$ else."
   ]
  },
  {
   "cell_type": "markdown",
   "metadata": {},
   "source": [
    "**`Exercise 6.8`** \\\n",
    "Erin has conducted seven measurements on a capacitor (in $\\mu F$): 45.7, 53.2, 48.4, 45.1, 51.4, 62.1 and 49.3. The sixth measurement seems suspicious. Use Chauvenet's criterium to decide whether she should discard that measurement. "
   ]
  },
  {
   "cell_type": "code",
   "execution_count": null,
   "metadata": {},
   "outputs": [],
   "source": [
    "# Answer exercise 6.8\n",
    "C = np.array([45.7, 53.2, 48.4, 45.1, 51.4, 62.1, 49.3])\n",
    "\n",
    "print('The sixth measurement should (not) be discarded, because ... ')"
   ]
  },
  {
   "cell_type": "code",
   "execution_count": null,
   "metadata": {},
   "outputs": [],
   "source": [
    "\n"
   ]
  },
  {
   "cell_type": "markdown",
   "metadata": {},
   "source": [
    "**`Exercise 6.8*`** \\\n",
    "In excercise 6.1* you looked at different tree heights. One height stood out.\n",
    "\n",
    "Would you be allowed to discard the measurment of height 4.5 m? Give a supporting and a counter argument."
   ]
  },
  {
   "cell_type": "code",
   "execution_count": null,
   "metadata": {},
   "outputs": [],
   "source": []
  },
  {
   "cell_type": "markdown",
   "metadata": {},
   "source": [
    "## Poisson distribution<a class=\"anchor\" id=\"section_6_5\"></a>\n",
    "\n",
    "Another widely used probability distribution is the *Poisson* distribution. Many situations that involve counting are described by the poisson distribution, such as radioactive decay or the number of people in a queue.  \n",
    "  \n",
    "In a poisson process with parameter $\\lambda$, the probabilty that $k$ events occur is: \n",
    "\n",
    "$$\\mathbb{P}[X = k] = \\frac{\\lambda^k}{k!}e^{-\\lambda}$$\n",
    "\n",
    "The mean counts would be $\\lambda$ and the standard deviation $\\sigma = \\sqrt{\\lambda}$."
   ]
  },
  {
   "cell_type": "markdown",
   "metadata": {},
   "source": [
    "**`Exercise 6.9`** \\\n",
    "In an experiment with a radioactive source, the number of counts in a specific timeinterval is measured 58 times. This resulted in the following distribution of the counts $N$:\n",
    "\n",
    "| N (counts) | Frequency |\n",
    "|------------|-------------------------|\n",
    "| 1          | 1                       |\n",
    "| 2          | 0                       |\n",
    "| 3          | 2                       |\n",
    "| 4          | 3                       |\n",
    "| 5          | 6                       |\n",
    "| 6          | 9                       |\n",
    "| 7          | 11                      |\n",
    "| 8          | 8                       |\n",
    "| 9          | 8                       |\n",
    "| 10         | 6                       |\n",
    "| 11         | 2                       |\n",
    "| 12         | 1                       |\n",
    "| 13         | 1                       |\n",
    "\n",
    "Calculate:\n",
    "\n",
    "**(a)** the total number of counts; \n",
    "\n",
    "**(b)** the average number of counts $\\mu$;  \n",
    "\n",
    "**(c)** the standard deviation $\\sigma$. \n",
    "\n",
    "If the experiment is to be repeated again using 58 measurements \n",
    "\n",
    "**(d)** calculate the expected number of measurements with five or less counts.\n",
    "\n"
   ]
  },
  {
   "cell_type": "code",
   "execution_count": null,
   "metadata": {},
   "outputs": [],
   "source": [
    "# Answer exercise 6.9\n",
    "\n",
    "print('(a) The total number of counts ... ')\n",
    "print('(b) The average number of counts ... ')\n",
    "print('(c) The standard deviation is ... ')\n",
    "print('(d) The expected number of measurements with five or less counts is ... ')"
   ]
  },
  {
   "cell_type": "code",
   "execution_count": null,
   "metadata": {},
   "outputs": [],
   "source": []
  },
  {
   "cell_type": "markdown",
   "metadata": {},
   "source": [
    "**`Exercise 6.9*`** \\\n",
    "A shop owner wants to know how many people visit his shop. He installs a device that counts the number of people that enter the shop every minute. In total 1000 measurements were done.\n",
    "\n",
    "**a** Import the person_count.dat file. \n",
    " \n",
    "**b** Determine the average value as well as the standard deviation.\n",
    " \n",
    "**c** Plot the data in a histogram. What kind of distribution do you think the data is best described by, and why? Plot the distribution function on top of the histogram to check."
   ]
  },
  {
   "cell_type": "code",
   "execution_count": null,
   "metadata": {},
   "outputs": [],
   "source": []
  },
  {
   "cell_type": "markdown",
   "metadata": {},
   "source": [
    "## Error propagation <a class=\"anchor\" id=\"section_6_6\"></a>\n",
    "\n",
    "Let's say you have determined a value in an experiment. When you want to use it in an equation, the uncertainty propagates to the new calculated quantity. In general, we use two methods: the functional approach and the calculus approach.\n",
    "  \n",
    "**Functional approach:** \\\n",
    "For a quantity $Z(A)$ that depends on $A$ we have: \n",
    "\n",
    "$$u(Z) = \\frac{Z(A+u(A)) - Z(A-u(A))}{2}$$\n",
    "  \n",
    "**Calculus approach:** \\\n",
    "For a quantity $Z(A)$ that depends on $A$ we have: \n",
    "\n",
    "$$u(Z) = \\frac{d Z}{d A} u(A)$$\n",
    "  \n",
    "**Multiple variables:** \\\n",
    "For a quantity $Z(A,B)$ that depends on multiple variables, the uncertainty is calculated by taking the square root of the sum of squared individual uncertainties:\n",
    "\n",
    "**Functional:** $u(Z) = \\sqrt{(\\frac{Z(A+u(A)) - Z(A-u(A))}{2})^2 + (\\frac{Z(B+u(B)) - Z(B-u(B))}{2})^2}$\n",
    "**Calculus:** $u(Z) = \\sqrt{(\\frac{\\partial Z}{\\partial A} u(A))^2 + (\\frac{\\partial Z}{\\partial B} u(B))^2}$"
   ]
  },
  {
   "cell_type": "code",
   "execution_count": null,
   "metadata": {},
   "outputs": [],
   "source": [
    "YouTubeVideo('Qbwikf7TqqI')"
   ]
  },
  {
   "cell_type": "code",
   "execution_count": null,
   "metadata": {},
   "outputs": [],
   "source": [
    "YouTubeVideo('Lb6lhWIxqhg')"
   ]
  },
  {
   "cell_type": "markdown",
   "metadata": {},
   "source": [
    "**`Exercise 6.10`** \\\n",
    "___Give the most important steps in your calculations.___\n",
    "\n",
    "The value of a physical quantity $A$ is determined to be $A = 9.274 \\pm 0.005$. Calculate the value of the physical quantity $Z$ and its uncertainty $\\alpha_{Z}$ using the calculus approach and the functional approach, when $Z$ depends on $A$ as follows:\n",
    "\n",
    "**(a)** $Z = \\sqrt{A}$\n",
    "\n",
    "**(b)** $Z = \\exp⁡{(A^{2})}$\n"
   ]
  },
  {
   "cell_type": "code",
   "execution_count": null,
   "metadata": {},
   "outputs": [],
   "source": [
    "# Answer exercise 6.10\n",
    "# add your calculations here\n",
    "# ...\n",
    "print('(a) Z =  ... ± ... ')\n",
    "print('(b) Z =  ... ± ... ')"
   ]
  },
  {
   "cell_type": "markdown",
   "metadata": {},
   "source": [
    "**`Exercise 6.11`** \\\n",
    "___Give the most important steps in your calculations.___\n",
    "\n",
    "Three physical quantities have been determined to be $A = 12.3 \\pm 0.4$, $B = 5.6 \\pm 0.8$ en C = $89.0 \\pm 0.2$. Calculate the value of the physical quantity $Z$ and its uncertainty $u(Z)$ using the calculus approach and/or the functional approach, when $Z$ depends on $A$, $B$, and $C$ as follows:\n",
    "\n",
    "**(a)** $Z = A - B$\n",
    "\n",
    "**(b)** $Z = \\frac{A B }{C}$\n",
    "\n",
    "**(c)** $Z = \\exp{⁡(\\frac{A B}{C})}$\n"
   ]
  },
  {
   "cell_type": "code",
   "execution_count": null,
   "metadata": {},
   "outputs": [],
   "source": [
    "# Answer exercise 6.11\n",
    "# add your calculations here\n",
    "\n",
    "print('(a) Z =  ... ± ... ')\n",
    "print('(b) Z =  ... ± ... ')\n",
    "print('(c) Z =  ... ± ... ')"
   ]
  },
  {
   "cell_type": "markdown",
   "metadata": {},
   "source": [
    "**`Exercise 6.12`** \\\n",
    "You have both seen the functional and the analytical method for calculating the propagation of an error. \n",
    "\n",
    "Apply both methods on the following functions:\n",
    "\n",
    "$$Z(x)=\\frac{x-1}{x+1}$$\n",
    "\n",
    "With $x = 3.2 \\pm 0.2$\n",
    "\n",
    "$$ Z(x)=e^{x^2} $$\n",
    "\n",
    "With $ x = 8.745 \\pm 0.005$"
   ]
  },
  {
   "cell_type": "code",
   "execution_count": null,
   "metadata": {},
   "outputs": [],
   "source": [
    "# Solution 6.12\n",
    "# add your calculations here\n"
   ]
  },
  {
   "cell_type": "code",
   "execution_count": null,
   "metadata": {},
   "outputs": [],
   "source": []
  },
  {
   "cell_type": "markdown",
   "metadata": {},
   "source": [
    "## Gaussian Fit <a class=\"anchor\" id=\"section_6_7\"></a>\n",
    "\n",
    "In Notebook 5 (section 5.3.5 Residuals) we have already seen that residuals that are the result of noise in the measurements should typically be normally distributed. To verify if the residuals are indeed normally distributed one can make a histogram of these residuals and compare it with the related normal distribution, as will be done in the following exercise."
   ]
  },
  {
   "cell_type": "markdown",
   "metadata": {},
   "source": [
    "**`Exercise 6.13`**\n",
    "\n",
    "Interest in ratios of the human body is of all times. A linear relation between height and weight is suspected. In this exercise, we examine this relation.  \n",
    "Attached is a csv file which contains the height (first column) and the weight (second column) of a (male) person. \n",
    "\n",
    "**a** Convert the data to metric units as it is now in inches and in lbs. \n",
    "\n",
    "**b** Make a scatter plot and investigate whether there is a linear relation. \n",
    "\n",
    "**c** Determine the mean and std of both the height and weight. \n",
    "\n",
    "**d** Make a histogram for both and overlay a Gaussian to see if the data follows a normal distribution."
   ]
  },
  {
   "cell_type": "code",
   "execution_count": null,
   "metadata": {},
   "outputs": [],
   "source": [
    "#import data\n",
    "H_W_data = np.genfromtxt('weight-height.csv',delimiter=',',dtype=float,skip_header=1)\n",
    "height = []\n",
    "weight = []\n",
    "\n",
    "#Convert to metric units\n",
    "\n",
    "\n",
    "#Calculate mean and std\n",
    "\n",
    "\n",
    "#Linear function to fit\n",
    "\n",
    "\n",
    "#Curvefit\n",
    "\n",
    "\n",
    "#Scatter plot\n",
    "plt.figure(figsize=(12,4))\n",
    "\n",
    "\n",
    "plt.show()\n",
    "\n",
    "\n",
    "#Histogram plot\n"
   ]
  },
  {
   "cell_type": "markdown",
   "metadata": {},
   "source": [
    "### Additional Exercises "
   ]
  },
  {
   "cell_type": "markdown",
   "metadata": {},
   "source": [
    "**`Exercise 6.14`** Fitting with a measurement error  \n",
    "\n",
    "When measuring there is always a very real possibility of a systematic error. One of these systematic erros can be found in a mass-springsystem. Normally the period of a mass-spring system is given by: $T = 2\\pi \\sqrt{\\frac{m}{C}}$. Here $m$ is the mass and $C$ is the spring constant. However this formula assumes that you have a massless spring, this is not true unfortunately. This means that the mass of the spring is also vibrating, we should thus change the formula to take this into account. This gives the following equation: $T = 2\\pi \\sqrt{\\frac{m + \\Delta m}{C}}$, where $\\Delta m$ is the systematic error.\n",
    "\n",
    "With the measurements that we have we can find both the spring constant and its uncertainties. The array m is an array with the values for the measured m and the array T is an array with all the measured data for the period. You can disregard the invalid use of significant figures.\n",
    "\n",
    "**a** Plot the data\n",
    "\n",
    "**b** Find the parameters $\\Delta m$ and $C$ with its corresponding uncertainties\n",
    "\n",
    "**c** Plot the fitted function over the data and examine the residuals"
   ]
  },
  {
   "cell_type": "code",
   "execution_count": null,
   "metadata": {},
   "outputs": [],
   "source": [
    "m = np.array([50, 100, 150, 200, 250, 300])\n",
    "T = np.array([2.47, 3.43, 4.17, 4.80, 5.35, 5.86])"
   ]
  },
  {
   "cell_type": "code",
   "execution_count": null,
   "metadata": {},
   "outputs": [],
   "source": []
  },
  {
   "cell_type": "markdown",
   "metadata": {},
   "source": [
    "**`Exercise 6.15`** Gravitational force  \n",
    "\n",
    "The gravitational force between two bodies can be described with Newton's law of universal gravitation: $F = \\frac{Gm_1m_2}{r^2}$, where $G$ is the gravitational constant, $m_i$ the masses of the bodies and $r$ the distance between the bodies.\n",
    "\n",
    "Suppose that a meteorite of mass $(4.739\\pm0.154)\\cdot10^8$kg at a distance of $(2.983\\pm0.037)\\cdot10^6$m is moving towards the earth. \n",
    "\n",
    "**Exercise:** Determine the attracting force between the meteorite and earth. Use both the functional and the calculus approach to calculate the uncertainty in $F$ and compare the results. \n",
    "You can use the following values:\n",
    "* Earth mass: $(5.9722\\pm0.0006)\\cdot10^{24}$kg\n",
    "* Gravitational constant: $(6.67259\\pm0.00030)\\cdot10^{-11}$m$^3$ s$^{-2}$ kg$^{-1}$\n"
   ]
  },
  {
   "cell_type": "code",
   "execution_count": null,
   "metadata": {},
   "outputs": [],
   "source": [
    "#function for gravitational force\n",
    "def FG(G,m1,m2,r):\n",
    "    \n",
    "#values\n",
    "G = 6.6759e-11\n",
    "u_G = 0.00030e-11\n",
    "\n",
    "m1 = 4.739e8\n",
    "u_m1 = 0.154e8\n",
    "\n",
    "m2 = 5.9722e24\n",
    "u_m2 = 0.0006e24\n",
    "\n",
    "r = 2.983e6\n",
    "u_r = 0.037e6\n",
    "\n",
    "#value of gravitatonal force\n",
    "\n",
    "\n",
    "#Calculus approach\n",
    "\n",
    "\n",
    "#functional approach\n",
    "\n"
   ]
  },
  {
   "cell_type": "code",
   "execution_count": null,
   "metadata": {},
   "outputs": [],
   "source": []
  },
  {
   "cell_type": "markdown",
   "metadata": {},
   "source": [
    "**`Exercise 6.16`** A mass-spring system  \n",
    "\n",
    "A student measures the position of a simple mass-spring system. Unfortunately, he accidently moves his measuring device during the experiment. He is not sure if the device was put back in the right position and wants to know if there is a systematic error in his data. The dataset consists of 400 position measurements (in cm) over the course of 5 seconds. The data is expected to follow a sine function with an amplitude of 4.5 cm and a period of 0.4 s. \n",
    "\n",
    "\n",
    " \n",
    "\n",
    "**a** Import the meting_massaveer.dat file.\n",
    " \n",
    "**b** Plot the raw data, calculate and plot the residuals, and use it to determine if there is a systematic error. If so, determine the size and time of the shift."
   ]
  },
  {
   "cell_type": "code",
   "execution_count": null,
   "metadata": {},
   "outputs": [],
   "source": [
    "m_C_data = np.genfromtxt('meting_massaveer.dat')\n",
    "t = np.linspace(0,5,400)\n",
    "\n",
    "def sine(x):                        #sine function to fit the data\n",
    "      return 4.5*np.sin(2*np.pi*2.5*x)\n",
    "\n",
    "#plot of data and sine function\n",
    "\n",
    "#calculate residuals\n",
    "\n",
    "#plot of Residuals"
   ]
  },
  {
   "cell_type": "code",
   "execution_count": null,
   "metadata": {},
   "outputs": [],
   "source": []
  },
  {
   "cell_type": "markdown",
   "metadata": {},
   "source": [
    "## Solutions to Exercises<a class=\"anchor\" id=\"section_6_8\"></a>"
   ]
  },
  {
   "cell_type": "code",
   "execution_count": null,
   "metadata": {},
   "outputs": [],
   "source": [
    "# Solution 6.1\n",
    "# Data\n",
    "V = np.array([25.8, 26.2, 26.0, 26.5, 25.8, 26.1, 25.8, 26.3])\n",
    "\n",
    "# Edit\n",
    "Vmean = np.mean(V)\n",
    "Vstd = np.std(V,ddof=1)\n",
    "Verr = Vstd/np.sqrt(len(V))\n",
    "\n",
    "#Print\n",
    "print('(a) The average is: {} ml' .format(round(Vmean,2)))\n",
    "print('(b) The standard deviation is: {} ml'.format(round(Vstd,2)))\n",
    "print('(c) The uncertainty in the mean of the volume: {} ml'.format(round(Verr,2)))\n",
    "print('(d) The best estimate of the true volume is: {:.2f} \\u00B1 {:.2f} ml'.format(Vmean,Verr))"
   ]
  },
  {
   "cell_type": "code",
   "execution_count": null,
   "metadata": {},
   "outputs": [],
   "source": [
    "# Solution 6.1*\n",
    "# add your calculations here\n",
    "\n",
    "#calculate mean and std 'manually'\n",
    "Tree_av = np.sum(L)/len(L)\n",
    "Tree_std = np.sqrt(np.sum((L-Tree_av)**2)/(len(L)-1))\n",
    "\n",
    "print('The best estimate for the height %.0f +/- %.0f m' %(Tree_av, Tree_std/np.sqrt(len(L))))\n",
    "\n",
    "#Compare values with numpy functions, if true, nothing happens\n",
    "assert Tree_av == np.mean(L), 'The results for the mean are different'\n",
    "assert Tree_std == np.std(L,ddof=1), 'The results for the standard deviation are different'\n",
    "\n"
   ]
  },
  {
   "cell_type": "code",
   "execution_count": null,
   "metadata": {},
   "outputs": [],
   "source": [
    "# Solution 6.2\n",
    "opg2_1 = 'iii'\n",
    "opg2_2 = 'vii'\n",
    "print('The measurements adequately displayed are: {} en {}'.format(opg2_1,opg2_2))"
   ]
  },
  {
   "cell_type": "code",
   "execution_count": null,
   "metadata": {},
   "outputs": [],
   "source": [
    "#Solution 6.3\n",
    "#Data\n",
    "numbers = np.array([602.20,0.00135,0.0225,1.60219,91.095])\n",
    "\n",
    "#Print\n",
    "print('The correct notation of (a) is: {:.1e}'.format(numbers[0]))\n",
    "print('The correct notation of (b) is: {:.1e}'.format(numbers[1]))\n",
    "print('The correct notation of (c) is: {:.1e}'.format(numbers[2]))\n",
    "print('The correct notation of (d) is: {:.1e}'.format(numbers[3]))\n",
    "print('The correct notation of (e) is: {:.1e}'.format(numbers[4]))"
   ]
  },
  {
   "cell_type": "code",
   "execution_count": null,
   "metadata": {},
   "outputs": [],
   "source": [
    "#Solution 6.4\n",
    "data = np.loadtxt('experimental_results.csv')\n",
    "\n",
    "N = len(data)\n",
    "mean_val = np.mean(data)\n",
    "\n",
    "plt.hist(data,bins=np.linspace(0,2*mean_val,50))\n",
    "plt.xlabel('Value (-)')\n",
    "plt.ylabel('Counts (-)')\n",
    "plt.show()\n",
    "\n",
    "# Calculation of mean and standard deviation\n",
    "mean_array = np.zeros(N)\n",
    "sigma_array = np.zeros(N)\n",
    "\n",
    "for i in range(N):\n",
    "    mean_array[i] = np.mean(data[:i+1])\n",
    "    sigma_array[i] = np.std(data[:i+1], ddof=1)/(i+1)\n",
    "    \n",
    "# Plotting\n",
    "plt.figure()\n",
    "plt.plot(mean_array)\n",
    "plt.axhline(mean_val,linestyle='dashed',color='grey')\n",
    "plt.grid()\n",
    "plt.xlabel('Data length (-)')\n",
    "plt.ylabel('Average (-)')\n",
    "plt.show()\n",
    "\n",
    "plt.figure()\n",
    "plt.loglog(sigma_array)\n",
    "plt.grid()\n",
    "plt.xlabel('Data length (-)')\n",
    "plt.ylabel('Uncertainty (-)')\n",
    "plt.show()"
   ]
  },
  {
   "cell_type": "code",
   "execution_count": null,
   "metadata": {},
   "outputs": [],
   "source": [
    "#Solution 6.5\n",
    "\n",
    "# Input\n",
    "mu = 502                   # mean\n",
    "sigma = 14                 # standard deviation\n",
    "\n",
    "# Values to be measured\n",
    "x1 = 500\n",
    "x2 = 530\n",
    "\n",
    "# Calculation\n",
    "Pa = norm.cdf(x1,mu,sigma)      # calc: Pa = 0.44320150\n",
    "Pb = 1 - norm.cdf(x2,mu,sigma)  # calc: Pb = 1 - 0.97724987\n",
    "aantal = Pb * 1000\n",
    "\n",
    "#Print\n",
    "print('(a) P = {:.4f}'.format(Pa))\n",
    "print('(b) Expected amount = {:.2f}'.format(aantal))"
   ]
  },
  {
   "cell_type": "code",
   "execution_count": null,
   "metadata": {},
   "outputs": [],
   "source": [
    "#Solution 6.6\n",
    "\n",
    "# a. Each series of measurements consists of five repeated measurements.\n",
    "Measurements = np.array([[4.560,4.470,4.620,4.570,4.570],\\\n",
    "                     [4.570,4.540,4.700,4.510,4.150],\\\n",
    "                     [4.540,4.570,4.550,4.430,4.460],\\\n",
    "                     [4.470,5.130,4.490,5.150,4.530],\\\n",
    "                     [4.400,5.050,4.490,5.080,4.530],\\\n",
    "                     [4.530,5.130,4.560,4.910,4.560]]) #s\n",
    "\n",
    "# b\n",
    "# Random error: reaction time, teacher walks in front of the setup\n",
    "# Systematic error: inertia of lamp in turning off and on (the lamps keeps glowing for a certain amount of time)\n",
    "\n",
    "# c. The average of the measurement series\n",
    "Measurements_av = np.array([np.mean(Measurements[0,:]),np.mean(Measurements[1,:]),\\\n",
    "                       np.mean(Measurements[2,:]),np.mean(Measurements[3,:]),\\\n",
    "                       np.mean(Measurements[4,:]),np.mean(Measurements[5,:])])\n",
    "\n",
    "\n",
    "print('The average times, in s, are: ', np.round(Measurements_av,1))\n",
    "\n",
    "\n",
    "# Standerd deviation of the measurements series\n",
    "Measurements_std = np.array([np.std(Measurements[0,:],ddof=1),np.std(Measurements[1,:],ddof=1),\\\n",
    "                         np.std(Measurements[2,:],ddof=1),np.std(Measurements[3,:],ddof=1),\\\n",
    "                         np.std(Measurements[4,:],ddof=1),np.std(Measurements[0,:],ddof=1)])\n",
    "\n",
    "print('The standard deviation in the times, in s, are: ', np.round(Measurements_std,1))\n",
    "print('')\n",
    "\n",
    "\n",
    "# d. Standard deviation in the mean\n",
    "std_van_gem = np.std(Measurements_av,ddof=1)\n",
    "print('The standard deviation in the mean is: ', np.round(std_van_gem,1), 's')\n",
    "\n",
    "\n",
    "# Uncertainty in the measurement series\n",
    "Measurements_unc = Measurements_std/np.sqrt(5)\n",
    "print('The uncertainty in each measurement series: ', np.round(Measurements_unc,2), 's')\n",
    "print('The mean uncertainty: ', np.round(np.mean(Measurements_unc),2), 's')\n",
    "print()\n",
    "\n",
    "\n",
    "# e. Final answer\n",
    "print('The time during which the lamp is on: ', round(np.mean(Measurements),2), '+/-', round(np.std(Measurements,ddof=1)/np.sqrt(30),2),'s')\n",
    "#Note: We act like the the 6 measurement series are just one big data set"
   ]
  },
  {
   "cell_type": "code",
   "execution_count": null,
   "metadata": {},
   "outputs": [],
   "source": [
    "# Solution 6.7\n",
    "\n",
    "E = 14.5\n",
    "u_E = 0.2\n",
    "L = 14.9\n",
    "u_L = 0.1\n",
    "\n",
    "if (E-L) > 2*np.sqrt(u_E**2+u_L**2):\n",
    "    print('No agreement')\n",
    "else:\n",
    "    print('The values are in agreement')\n"
   ]
  },
  {
   "cell_type": "code",
   "execution_count": null,
   "metadata": {},
   "outputs": [],
   "source": [
    "#Solution 6.8\n",
    "\n",
    "#Data\n",
    "Q = np.array([45.7, 53.2, 48.4, 45.1, 51.4, 62.1, 49.3])\n",
    "N = len(Q)        # Total number of measurements\n",
    "\n",
    "#Number to be determined\n",
    "n = 6             # Number of measurement\n",
    "\n",
    "#Editing\n",
    "Qmean = np.mean(Q)\n",
    "Qstd = np.std(Q,ddof=1)\n",
    "Qerr = Qstd/np.sqrt(N)\n",
    "Pout = 1-norm.cdf(Q[n-1],Qmean,Qstd)\n",
    "\n",
    "#Print\n",
    "print('The average is: {:.4f} uC'.format(Qmean))\n",
    "print('The standard deviation is: {:.4f} uC'.format(Qstd))\n",
    "print('The standard error is: {:.4f} uC'.format(Qerr))\n",
    "print('Pout = {:.4f}'.format(Pout))\n",
    "if 2*Pout*N < 0.5:\n",
    "    print('Measurement {} has to be excluded'.format(n))\n",
    "else:\n",
    "    print('Measurement {} cannot be excluded'.format(n))"
   ]
  },
  {
   "cell_type": "code",
   "execution_count": null,
   "metadata": {},
   "outputs": [],
   "source": [
    "#Solution 6.8*\n",
    "print('The 4.5 m may not be a faulty measurement, and can therefore not be discarded.')\n",
    "print('The 4.5 m deviates from the other tree heights and may be another type or may be planted later.')"
   ]
  },
  {
   "cell_type": "code",
   "execution_count": null,
   "metadata": {},
   "outputs": [],
   "source": [
    "#Solution 6.9\n",
    "\n",
    "#Data\n",
    "N = np.array([0,1,2,3,4,5,6,7,8,9,10,11,12,13])\n",
    "f = np.array([0,1,0,2,3,6,9,11,8,8,6,2,1,1])\n",
    "\n",
    "#Calculations (a)\n",
    "N_tot = sum(N*f)              # (a) Total number of counts\n",
    "print('(a) The total number of counts is {:.0f}'.format(Ntot))\n",
    "print()\n",
    "\n",
    "#Calculations (b)\n",
    "N_mean = sum(N*f)/sum(f)        # (b) Average number of counts\n",
    "print('(b) The average number of counts is {:.2f}'.format(N_mean))\n",
    "print()\n",
    "\n",
    "#Calculations (c)\n",
    "Nstd = np.sqrt(N_mean)              # (c) Standard deviation\n",
    "Nerr = Nstd / np.sqrt(N_tot)\n",
    "\n",
    "print('(c) The standard deiation is {:.2f}'.format(Nstd))\n",
    "print()\n",
    "\n",
    "#Calculations (d)\n",
    "P=0\n",
    "for i in range(6):\n",
    "    P += N_mean**i*np.exp(-N_mean)/math.factorial(i)\n",
    "print('(d) The expected number is {:.0f}'.format(P*58))"
   ]
  },
  {
   "cell_type": "code",
   "execution_count": null,
   "metadata": {},
   "outputs": [],
   "source": [
    "#Solution 6.9*\n",
    "\n",
    "persons = np.genfromtxt(\"person_count.dat\") #! aantal_peronen = persons\n",
    "persons_mean = np.mean(persons)\n",
    "persons_std = np.std(persons, ddof=1)\n",
    "\n",
    "print('Average: %.3f \\n Standard deviation: %.3f' %(persons_mean,persons_std))\n",
    "\n",
    "num_bins = int(max(persons)-min(persons))\n",
    "\n",
    "x = np.linspace(min(persons),max(persons),num_bins+1)\n",
    "prob = poisson(persons_mean)\n",
    "\n",
    "f,g,_ = plt.hist(persons,bins=num_bins,density=1)\n",
    "plt.plot(x+.5,prob.pmf(x),'k.')\n",
    "plt.xlabel('Number of visitors per minute')\n",
    "plt.ylabel('Probability')\n",
    "plt.show()\n",
    "\n",
    "print('It looks like a Poisson distribution. It concerns a counting experiment, so that makes sense.')"
   ]
  },
  {
   "cell_type": "code",
   "execution_count": null,
   "metadata": {},
   "outputs": [],
   "source": [
    "# Solution 6.10\n",
    "\n",
    "def func2a(a):\n",
    "    z = np.sqrt(a)\n",
    "    return z\n",
    "\n",
    "def calc2a(a,ua):\n",
    "    uz = np.abs( (1/2) * a**(-1/2) ) * ua\n",
    "    return uz\n",
    "\n",
    "def func2b(a):\n",
    "    z = np.exp(a**2)\n",
    "    return z\n",
    "\n",
    "def calc2b(a,ua):\n",
    "    uz = np.abs( 2 * a * np.exp(a**2) ) * ua\n",
    "    return uz\n",
    "\n",
    "a = 1.274\n",
    "ua = 0.005\n",
    "\n",
    "za = func2a(a)\n",
    "uza_func = ( func2a(a+ua)-func2a(a-ua) ) / 2\n",
    "uza_calc = calc2a(a,ua)\n",
    "zb = func2b(a)\n",
    "uzb_func = ( func2b(a+ua)-func2b(a-ua) ) / 2\n",
    "uzb_calc = calc2b(a,ua)\n",
    "\n",
    "# The number of significant figures is only given for demonstrative purposes\n",
    "print('(a) functional: Z = {:.4f} \\u00B1 {:.6f}'.format(za,uza_func))\n",
    "print('      calculus: Z = {:.4f} \\u00B1 {:.6f}'.format(za,uza_calc))\n",
    "print('(b) functional: Z = {:.4f} \\u00B1 {:.5f}'.format(zb,uzb_func))\n",
    "print('      calculus: Z = {:.4f} \\u00B1 {:.5f}'.format(zb,uzb_calc))"
   ]
  },
  {
   "cell_type": "code",
   "execution_count": null,
   "metadata": {},
   "outputs": [],
   "source": [
    "# Solution 6.11\n",
    "# add your calculations here\n",
    "\n",
    "# data\n",
    "a = 12.3\n",
    "ua = 0.4\n",
    "\n",
    "b = 5.6\n",
    "ub = 0.8\n",
    "\n",
    "c = 89.0\n",
    "uc = 0.2\n",
    "\n",
    "# (a)\n",
    "za = a - b\n",
    "uza = np.sqrt( ua**2 + ub**2 )\n",
    "\n",
    "# (b)\n",
    "zb = a*b/c\n",
    "uzb = zb * np.sqrt( (ua/a)**2 + (ub/b)**2 + (uc/c)**2 )\n",
    "\n",
    "# (c)\n",
    "zc = np.exp(a*b/c)\n",
    "dzc_da = (b/c) * np.exp(a*b/c)\n",
    "dzc_db = (a/c) * np.exp(a*b/c)\n",
    "dzc_dc = (-a*b/c**2) * np.exp(a*b/c)\n",
    "uzc = np.sqrt( dzc_da**2 * ua**2 + dzc_db**2 * ub**2 + dzc_dc**2 * uc**2 )\n",
    "\n",
    "print('(a) Z = {:.1f} \\u00B1 {:.1f}  (calculus)'.format(za,uza))\n",
    "print('(b) Z = {:.1f} \\u00B1 {:.1f}  (simplified calculus)'.format(zb,uzb))\n",
    "print('(c) Z = {:.1f} \\u00B1 {:.1f}  (calculus)'.format(zc,uzc))\n"
   ]
  },
  {
   "cell_type": "code",
   "execution_count": null,
   "metadata": {},
   "outputs": [],
   "source": [
    "# Solution 6.12\n",
    "# add your calculations here\n",
    "def func1(x):                      #first function\n",
    "    return (x-1)/(x+1)\n",
    "\n",
    "def func2(r):                      #second function\n",
    "    return np.exp(r**2)\n",
    "\n",
    "def functional(x,sig,f):           #function for the functional method\n",
    "    return (f(x+sig) - f(x-sig))/2\n",
    "\n",
    "#first function \n",
    "x = 3.2\n",
    "sig = 0.2\n",
    "error_functional = functional(x,sig,func1)\n",
    "error_calculus = sig*((x+1)-(x-1))/(x+1)**2 \n",
    "\n",
    "print('First function \\n\\\n",
    "Value of Z: %.2f \\n\\\n",
    "Error with functional approach: %.2f \\n\\\n",
    "Error with calculus approach: %.2f \\n\\\n",
    "' %(func1(x),error_functional,error_calculus))\n",
    "\n",
    "#second function\n",
    "r = 8.745\n",
    "sig = 0.005\n",
    "error_functional = functional(r,sig,func2)\n",
    "error_calculus = sig*2*r*func2(r)  \n",
    "\n",
    "\n",
    "print('Second function \\n\\\n",
    "Value of Z: %.1e \\n\\\n",
    "Error with functional approach: %.0e \\n\\\n",
    "Error with calculus approach: %.0e \\\n",
    "' %(func2(x),error_functional,error_calculus))"
   ]
  },
  {
   "cell_type": "code",
   "execution_count": null,
   "metadata": {},
   "outputs": [],
   "source": [
    "#Solution 6.13\n",
    "#import data\n",
    "H_W_data = np.genfromtxt('weight-height.csv',delimiter=',',dtype=float,skip_header=1)\n",
    "height = []\n",
    "weight = []\n",
    "\n",
    "for i in H_W_data:\n",
    "    height.append(i[0]*2.54)   #convert to cm\n",
    "    weight.append(i[1]*0.4536) #convert to kg\n",
    "\n",
    "#Calculate mean and std\n",
    "height_mean = np.mean(height)\n",
    "height_std = np.std(height, ddof=1)\n",
    "weight_mean = np.mean(weight)\n",
    "weight_std = np.std(weight)\n",
    "\n",
    "#Linear function to fit\n",
    "def lin(x,a,b):\n",
    "    return a*x + b\n",
    "\n",
    "#Curvefit\n",
    "val, cov = curve_fit(lin,height,weight)\n",
    "\n",
    "x = np.linspace(145,205)\n",
    "y = lin(x,val[0],val[1])\n",
    "\n",
    "#Scatterplot\n",
    "plt.figure(figsize=(12,4))\n",
    "plt.plot(height,weight,'.',label='data')\n",
    "plt.plot(x,y,label='fit')\n",
    "plt.xlabel('Height (cm)')\n",
    "plt.ylabel('Mass (kg)')\n",
    "plt.xlim(min(x),max(x))\n",
    "plt.show()\n",
    "\n",
    "#Histogram plot\n",
    "N=200\n",
    "x2 = np.linspace(np.min(height),np.max(height),N)\n",
    "\n",
    "plt.figure()\n",
    "x1, y1, _ = plt.hist(height,bins=100)\n",
    "dist = norm.pdf(x2,height_mean,height_std)\n",
    "plt.plot(x2,dist*x1.max()/np.max(dist),'r')\n",
    "plt.xlabel('Height (cm)')\n",
    "plt.ylabel('Occurence')\n",
    "plt.show()\n",
    "\n",
    "#Histogram plot\n",
    "N=50\n",
    "x2 = np.linspace(np.min(weight),np.max(weight),N)\n",
    "\n",
    "plt.figure()\n",
    "x1, y1, _ = plt.hist(weight,bins=100)\n",
    "dist = norm.pdf(x2,weight_mean,weight_std)\n",
    "plt.plot(x2,dist*x1.max()/np.max(dist),'r')\n",
    "plt.xlabel('Mass (kg)')\n",
    "plt.ylabel('Occurence')\n",
    "plt.show()\n"
   ]
  },
  {
   "cell_type": "code",
   "execution_count": null,
   "metadata": {},
   "outputs": [],
   "source": [
    "#Solution 6.14\n",
    "\n",
    "m = np.array([50,100,150,200,250,300])\n",
    "T = np.array([2.47,3.43,4.17,4.80,5.35,5.86])\n",
    "\n",
    "\n",
    "#Define Function to fit\n",
    "def Per(m,dm,C):\n",
    "    return 2*np.pi*np.sqrt((m+dm)/C)\n",
    "\n",
    "#Make figure\n",
    "fig = plt.figure(figsize=(10,5))\n",
    "ax = fig.add_subplot(121)\n",
    "ax.errorbar(m,T,linestyle='none',marker='o')\n",
    "ax.set_xlabel('m [kg]')\n",
    "ax.set_ylabel('T [s]')\n",
    "\n",
    "#Make Fit\n",
    "vals, uncmat = curve_fit(Per,m,T)\n",
    "\n",
    "#Make linspace\n",
    "linm = np.linspace(0.7*np.min(m),1.1*np.max(m),200)\n",
    "\n",
    "#Plot the fitted line\n",
    "ax.plot(linm,Per(linm,*vals))\n",
    "\n",
    "#Set the x-limit\n",
    "ax.set_xlim(np.min(linm),np.max(linm))\n",
    "\n",
    "#Find the uncertainties\n",
    "u_dm, u_C = np.sqrt(np.diag(uncmat))\n",
    "\n",
    "\n",
    "#Print the values gotten and its uncertainties\n",
    "print('dm = {:.1f} +/- {:.1f} m'.format(vals[0],u_dm))\n",
    "print('C = {:.1f} +/- {:.1f} kg m/s^2'.format(vals[1],u_C))\n",
    "\n",
    "#Make a residual analysis\n",
    "r = T - Per(m,*popt)\n",
    "\n",
    "#Plot the risiduals\n",
    "ax2 = fig.add_subplot(122)\n",
    "ax2.plot(m,r,linestyle='none',marker='o')\n",
    "ax2.set_xlabel('m [kg]')\n",
    "ax2.set_ylabel('R [s]')\n",
    "\n",
    "#Make it a bit pretier\n",
    "plt.tight_layout()"
   ]
  },
  {
   "cell_type": "code",
   "execution_count": null,
   "metadata": {},
   "outputs": [],
   "source": [
    "#Solution 6.15\n",
    "#function for gravitational force\n",
    "def FG(G,m1,m2,r):\n",
    "    return G * m1 * m2 /(r*r)\n",
    "\n",
    "#values\n",
    "G = 6.6759e-11\n",
    "u_G = 0.00030e-11\n",
    "\n",
    "m1 = 4.739e8\n",
    "u_m1 = 0.154e8\n",
    "\n",
    "m2 = 5.9722e24\n",
    "u_m2 = 0.0006e24\n",
    "\n",
    "r = 2.983e6\n",
    "u_r = 0.037e6\n",
    "\n",
    "#value of gravitatonal force\n",
    "F_m = FG(G,m1,m2,r)\n",
    "\n",
    "#calculus appraoch\n",
    "r2 = r**2\n",
    "u_F2 = (m1*m2/r2*u_G)**2 + (G*m2/r2*u_m1)**2 + (G*m1/r2*u_m2)**2 + (-2*G*m1*m2/(r2*r)*u_r)**2\n",
    "u_F_calc = np.sqrt(u_F2)\n",
    "\n",
    "#Func\n",
    "U_F2 = ((FG(G+u_G,m1,m2,r)-FG(G-u_G,m1,m2,r))/2)**2 + ((FG(G,m1+u_m1,m2,r)-FG(G,m1-u_m1,m2,r))/2)**2 + ((FG(G,m1,m2+u_m2,r)-FG(G,m1,m2-u_m2,r))/2)**2 + ((FG(G,m1,m2,r+u_r)-FG(G,m1,m2,r-u_r))/2)**2\n",
    "u_F_func = np.sqrt(U_F2)\n",
    "\n",
    "print(\"F = %.2f +/- %.2f 10^10 N \\n\" %(F_m/1e10,u_F_func/1e10))\n",
    "\n",
    "diff = np.abs(u_F_calc-u_F_func)\n",
    "\n",
    "#onzekerheid in veel decimale cijfers om verschil te tonen\n",
    "print(\"Uncertainties \\n\\\n",
    "Caluculus approach: %f 10^8 N \\n\\\n",
    "Functional approach: %f 10^8 N \\n\\\n",
    "Difference: %f 10^8 N\" %(u_F_calc/1e8,u_F_func/1e8,diff/1e8))"
   ]
  },
  {
   "cell_type": "code",
   "execution_count": null,
   "metadata": {},
   "outputs": [],
   "source": [
    "#Solution 6.16\n",
    "data = np.genfromtxt('meting_massaveer.dat')\n",
    "t = np.linspace(0,5,400)\n",
    "\n",
    "def sine(x):                        #sine function to fit the data\n",
    "      return 4.5*np.sin(x*5*np.pi)\n",
    "\n",
    "#plot of data and sine function\n",
    "plt.figure(figsize=(12,4))\n",
    "plt.title('Data')\n",
    "plt.plot(t,data, '.', label='data')\n",
    "plt.plot(t,sine(t), label='$4.5\\sin(5\\pi x$)')\n",
    "plt.xlim(min(t),max(t))\n",
    "plt.ylabel('Position (cm)')\n",
    "plt.xlabel('Time (s)')\n",
    "plt.legend()\n",
    "plt.show()\n",
    "\n",
    "R = data - sine(t)  #Residuals\n",
    "\n",
    "#plot of Residuals\n",
    "plt.figure(figsize=(12,4))\n",
    "plt.title('Residuals')\n",
    "plt.plot(t,R)\n",
    "plt.ylabel('Position (cm)')\n",
    "plt.xlabel('Time (s)')\n",
    "plt.show()\n",
    "\n",
    "plt.hist(R[:100])\n",
    "plt.show()\n",
    "\n"
   ]
  },
  {
   "cell_type": "code",
   "execution_count": null,
   "metadata": {},
   "outputs": [],
   "source": [
    "# Solution (PRE/POST EXERCISE)\n",
    "I = np.array([3034,1494,756.1,384.9,199.5,100.6,39.93,20.11,10.23,5.00,2.556,1.269,0.601,0.295,0.137,0.067])*1e-6\n",
    "a_I = np.array([4,2,0.8,0.4,0.3,0.2,0.05,0.03,0.02,0.01,0.008,0.007,0.007,0.006,0.006,0.006])*1e-6\n",
    "V = np.array([670,636,604,572,541,505,465,432,400,365,331,296,257,221,181,145])*1e-3\n",
    "a_V = np.array([4,4,4,4,4,4,3,3,3,3,3,2,2,2,2,2])*1e-3\n",
    "\n",
    "def current(V,a,b):\n",
    "    return a*(np.exp(b*V)-1)\n",
    "\n",
    "popt, pcov = curve_fit(current,V,I)\n",
    "x = np.linspace(0.1,0.7)\n",
    "y = current(x,popt[0],popt[1])\n",
    "\n",
    "plt.figure(figsize=(8,4))\n",
    "plt.errorbar(V,I,xerr=a_V,yerr=a_I,linestyle='none',marker= '.',label='data')\n",
    "plt.plot(x,y,label='fit')\n",
    "plt.yscale('log')\n",
    "plt.xlabel('Voltage (V)')\n",
    "plt.ylabel('Current (A)')\n",
    "#plt.legend()\n",
    "plt.xlim(0.1,0.7)\n",
    "plt.show()\n",
    "print('The model is in good agreement with the measurements, it is therefore a valid model.')\n",
    "\n",
    "\n",
    "# agreement analysis\n",
    "print('a = %.3g +/- %.1g' %(popt[0], np.sqrt(pcov[0,0])))\n",
    "\n",
    "a_2 = 2.0e-9\n",
    "u_a_2 = 5e-10\n",
    "\n",
    "if 2*np.sqrt(u_a_2**2 + pcov[0,0]) > np.abs(a_2 - popt[0]):\n",
    "    print('The value of $a$ found in the experiment is in agreement with the value from theory,')\n",
    "else:\n",
    "    print('The value of $a$ found in the experiment does not agree with the value from theory,')"
   ]
  },
  {
   "cell_type": "code",
   "execution_count": null,
   "metadata": {},
   "outputs": [],
   "source": []
  }
 ],
 "metadata": {
  "jupytext": {
   "formats": "ipynb,md"
  },
  "kernelspec": {
   "display_name": "Python 3 (ipykernel)",
   "language": "python",
   "name": "python3"
  },
  "language_info": {
   "codemirror_mode": {
    "name": "ipython",
    "version": 3
   },
   "file_extension": ".py",
   "mimetype": "text/x-python",
   "name": "python",
   "nbconvert_exporter": "python",
   "pygments_lexer": "ipython3",
   "version": "3.9.16"
  }
 },
 "nbformat": 4,
 "nbformat_minor": 4
}
