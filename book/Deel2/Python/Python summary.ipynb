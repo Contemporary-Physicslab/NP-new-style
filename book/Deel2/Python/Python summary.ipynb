{
 "cells": [
  {
   "cell_type": "markdown",
   "metadata": {},
   "source": [
    "# Python samenvatting\n",
    "\n",
    "Om de data van je experiment te verwerken, analyseren en visualiseren gebruiken we Python. Python is een gratis, open-source en makkelijk te leren programmeertaal. Het wordt daarom vaak gebruikt op universiteiten. Binnen het natuurkundig practicum maken we gebruik van het platform Vocareum. In het filmpje zie je hoe je bij Vocareum komt en enkele basis functionaliteiten van Vocareum.\n",
    "\n",
    "## Jupyter Notebook\n",
    "\n",
    "In dit vak gebruiken we Jupyter Notebooks om met Python te werken. Jupyter Notebooks zijn bestanden die zowel code als tekst en afbeeldingen kunnen bevatten. Ze kunnen dus door mensen gelezen worden en de computer opdrachten geven. Wanneer je Python (bijvoorbeeld in een Jupyter Notebook) opstart, wordt er een kernel gemaakt. Een kernel is de tolk tussen jouw code en \\\"de computer\\\". Een kernel kan ook dingen voor je onthouden, zoals variabelen. Hierbij moet je wel opletten met de chronologie van je code, omdat Python line voor line je code uitvoert. Je kan dus niet eerst een variabele gebruiken en dan deze definiëren.\n",
    "\n",
    "## Libraries\n",
    "Voor Python zijn al veel verschillende modules of libraries gemaakt die we kunnen gebruiken. Deze modules bevatten kant en klare functies die je kunt gebruiken. Omdat we die modules vrijwel altijd nodig hebben, beginnen we bovenaan met deze modules te importeren:\n",
    "\n",
    "```python\n",
    "import numpy as np                   #inladen van lib. voor div. berekeningen\n",
    "import matplotlib.pyplot as plt      #inladen van lib. voor plotten\n",
    "from scipy.optimize import curve_fit #inladen van lib. voor functiefit.\n",
    "```\n",
    "\n",
    "De eerste module helpt bij het maken van plots. De tweede module bevat functies voor diverse berekeningen, de laatste module zal worden\n",
    "gebruikt om een trendlijn te fitten. Je hoeft een library in een Notebook maar één keer te importeren omdat de kernel het vervolgens\n",
    "onthoudt. Om een functie uit een library aan te roepen, gebruik je `library.functie`. Omdat we hierboven bijvoorbeeld `numpy` een afkorting\n",
    "hebben gegeven, moeten we nu `np.mean` gebruiken om bijvoorbeeld de `mean` functie in numpy aan te roepen.\n",
    "\n",
    "Achter elk commando staat een #. Dit wordt niet geïnterpreteerd tijdens het compileren (het verwerken van codetaal naar uitvoerbare acties door de computer). Het is commentaar om je codetaal leesbaar te maken voor anderen.\n",
    "\n",
    "## Data opslaan en verwerken\n",
    "Je kunt je data opslaan in een array (lijst). Vervolgens kun je alle waarden in die lijst bewerken, plotten, printen etc. In het onderstaande voorbeeld noemen we de array a en printen we de waardes.\n"
   ]
  },
  {
   "cell_type": "code",
   "execution_count": null,
   "metadata": {},
   "outputs": [],
   "source": [
    "import numpy as np\n",
    "a = np.array([0.0, 1.0, 1.2, 0.8, 0.5]) #de array wordt aangemaakt\n",
    "print(a)                                #de waarden in de array worden geprint."
   ]
  },
  {
   "cell_type": "markdown",
   "metadata": {},
   "source": [
    "De volgende functies worden vaak gebruikt in de statistiek:\n"
   ]
  },
  {
   "cell_type": "code",
   "execution_count": null,
   "metadata": {},
   "outputs": [],
   "source": [
    "np.mean(a)                #Uitrekenen van de gemiddelde waarde van a\n",
    "np.std(a,ddof=1)          #Uitrekenen van de standaard deviatie van a \n",
    "np.std(a,ddof=1)/np.sqrt(len(a)) #Uitrekenen van de standaard fout van a "
   ]
  },
  {
   "cell_type": "markdown",
   "metadata": {},
   "source": [
    "Bij het berekenen van de standaard deviatie (np.std) gebruiken we de optie *ddof = 1* zodat er wordt gedeeld door $N - 1$, in plaats van door $N$. In de laatste regel gebruiken we **len**(a). Python rekent voor ons uit hoeveel elementen de array a bevat. Netter zou zijn om steeds de waarden die berekend worden op te slaan, waarbij we een duidelijke naam gebruiken:"
   ]
  },
  {
   "cell_type": "code",
   "execution_count": null,
   "metadata": {},
   "outputs": [],
   "source": [
    "average_a = np.mean(a)          #Uitrekenen van de gemiddelde waarde van a\n",
    "std_a = np.std(a,ddof=1)        #Uitrekenen van de standaard deviatie van a \n",
    "error_a = std_a/np.sqrt(len(a)) #Uitrekenen van de standaard fout van a \n",
    "print(average_a)\n",
    "print(std_a)\n",
    "print(error_a)\n",
    "```\n"
   ]
  },
  {
   "cell_type": "markdown",
   "metadata": {},
   "source": [
    "## Printing\n",
    "\n",
    "Om een waarde van een variabele te printen (op het scherm weer te laten geven), wordt de print functie gebruikt. Dit command kan elk datatype printen. Enkele voorbeelden van de print functie worden hier onder gegeven, meer voorbeelden zijn te vinden op: <https://www.learnpython.org/en/String_Formatting>\n"
   ]
  },
  {
   "cell_type": "code",
   "execution_count": null,
   "metadata": {},
   "outputs": [],
   "source": [
    "print(\"Hello world\")            #Printen van een string (tekst). \n",
    "x = 3\n",
    "print(x)                        #Printen van een waarde van een variabele.\n",
    "print(\"The value of x is: \", x) #Printen van een string en een variabele. \n",
    "```\n"
   ]
  },
  {
   "cell_type": "markdown",
   "metadata": {},
   "source": [
    "## Functies\n",
    "Vaak gebruik je een stukje code meerdere malen. Soms met andere waarden. Als dat gebeurt is het handig om zelf een functie te schrijven. Een functie moet je definiëren en krijgt een specifieke naam. Achter de functienaam specificeer je de input variabelen. De variabelen binnen in de functie worden enkel tijdelijk opgeslagen binnen in de functietemp_var en kunnen dus niet buiten de functie worden gebruikt. Dit heet een local variable.\n"
   ]
  },
  {
   "cell_type": "code",
   "execution_count": null,
   "metadata": {},
   "outputs": [],
   "source": [
    "def sum_function(i1, i2): #de somfunctie vraagt 2 input waarden\n",
    "    temp_var = i1 + i2    #deze waarden worden opgeteld en opgeslagen\n",
    "    return  temp_var      #de somwaarde wordt vervolgens teruggegeven.\n",
    "\n",
    "# Hieronder wordt onze functie aangeroepen met als input variabelen 3 en 5.\n",
    "#   x zal de waarde aannemen die de functie terug geeft. \n",
    "x = sum_function(3, 5) \n",
    "\n",
    "print(x) # Dit print 8\n"
   ]
  },
  {
   "cell_type": "markdown",
   "metadata": {},
   "source": [
    "## Plotten\n",
    "\n",
    "Data lezen uit een tabel is niet handig, zeker niet met grote data sets. Daarom wordt data meestal gevisualiseerd in een plot. Plots zijn\n",
    "essentieel voor zowel de analyse van data - bijvoorbeeld voor het aantonen van een relatie tussen twee grootheden - als de presentatie ervan. Wanneer je een artikel of verslag schrijft over de resultaten van je onderzoek vormen plots een onmisbare ondersteuning voor je argumentatie. Ook uitkomsten van simulaties of een berekeningen kunnen overzichtelijk worden weergeven in een plot, zie bijvoorbeeld {numref}`Figuur {number} <fig:voorbeeld_simulatie>`.\n",
    "\n",
    "In Python kun je gemakkelijk plots maken met behulp van de library matplotlib. Deze libary heeft veel verschillende soorten plots.\n",
    "Hieronder zal een voorbeeld van enkele plots worden gegeven. Meer voorbeelden zijn te vinden op <https://matplotlib.org/stable/tutorials/introductory/pyplot.html>.\n",
    "\n",
    "```{figure} Figures/Plot_monatomic_dispersion.png\n",
    "---\n",
    "height: 150px\n",
    "name: fig:voorbeeld_simulatie\n",
    "---\n",
    "Voorbeeld van twee simulaties gedaan in python, gevisualiseerd in een plot. De linker plot laat de dispersierelatie zien van een één-dimensionale monatomische ketting in het <em>tight-binding</em> model uit de vastestoffysica. De rechter plot dezelfde, maar dan voor een twee-dimensionale ketting. Programmeertalen zoals python stellen je in staat om complexe functies met een paar regels code te visualiseren, en zijn daarmee onmisbaar gereedschap voor een hedendaagse natuurkundige. Dit figuur komt uit een bachelorscriptie.\n",
    "```\n"
   ]
  },
  {
   "cell_type": "markdown",
   "metadata": {},
   "source": [
    "\n",
    "## Histogram\n",
    "\n",
    "Een histogram geeft weer hoe vaak een waarde of een bepaald bereik voorkomt in een dataset.\n"
   ]
  },
  {
   "cell_type": "code",
   "execution_count": null,
   "metadata": {},
   "outputs": [],
   "source": [
    "import matplotlib.pyplot as plt #importeren van de matplotlib.pyplot library\n",
    "\n",
    "#Normaalverdeling in een genormaliseerde histrogram\n",
    "data = np.random.normal(0,5,1000)\n",
    "plt.figure(num='histfig')   #Hier maken we een leeg figuur aan\n",
    "\n",
    "plt.hist(data,bins='auto',density=1, label='Occurence') # Plot data\n",
    "\n",
    "plt.xlabel('Values')        #Label voor de x-as\n",
    "plt.ylabel('Probability')   #Label voor de y-as\n",
    "plt.legend()                #Legenda toevoegen\n",
    "plt.show()                  #Hiermee komt het figuur op het scherm\n"
   ]
  },
  {
   "cell_type": "markdown",
   "metadata": {},
   "source": [
    "### Scatterplot\n",
    "\n",
    "Meetpunten uit een dataset kunnen worden weergegeven in een scatterplot. Hierbij worden enkel de punten geplot (zwart van kleur hier) en wordt er geen lijn tussen de punten getrokken. Hieronder een voorbeeld hoe een scatterplot kan worden gemaakt. Het resultaat van dit stuk code is te zien in het figuur hieronder.\n"
   ]
  },
  {
   "cell_type": "code",
   "execution_count": null,
   "metadata": {},
   "outputs": [],
   "source": [
    "import matplotlib.pyplot as plt\n",
    "x = [1, 2, 3, 4, 5]\n",
    "y = [1.1, 4.3, 9.2, 16.1, 25.1]\n",
    "\n",
    "plt.figure(num='figscatterplot')\n",
    "plt.plot(x,y,'k.', label='Measurement points')\n",
    "plt.xlabel('Input voltage [V]')\n",
    "plt.ylabel('Output voltage [V]')\n",
    "plt.legend()\n",
    "plt.show()\n",
    "```\n"
   ]
  },
  {
   "cell_type": "markdown",
   "metadata": {},
   "source": [
    "### Errorbarplot\n",
    "\n",
    "Meetpunten bevatten een onzekerheid, om deze onzekerheid te visualiseren wordt gebruik gemaakt van een errorbarplot. In deze plot wordt de\n",
    "onzekerheid van ieder punt weer gegeven met fout vlaggen. Een voorbeeld is zichtbaar in het figuur hieronder.\n"
   ]
  },
  {
   "cell_type": "code",
   "execution_count": null,
   "metadata": {},
   "outputs": [],
   "source": [
    "x = [1, 2, 3, 4, 5]\n",
    "y = [1.1, 4.3, 9.2, 16.1, 25.1]\n",
    "#Onzekerheid van  0.3 en 0.1 voor x en y respectievelijk. \n",
    "ux = [0.3] * len(x) \n",
    "uy = [0.1] * len(x)\n",
    "\n",
    "plt.figure(num='errorbarplot')\n",
    "plt.errorbar(x, y,  xerr=ux, yerr=uy, label='Measurement points.', fmt='.') \n",
    "#fmt = format. \n",
    "plt.xlabel('Input voltage [V]')\n",
    "plt.ylabel('Output voltage [V]')\n",
    "plt.legend()\n",
    "plt.show()\n"
   ]
  },
  {
   "cell_type": "markdown",
   "metadata": {},
   "source": [
    "Je zou denken dat `[0.3]*len(x)` als resultaat \\[1.5\\] zou hebben. Dit is echter niet het geval. Dit komt omdat het een normale array is, en geen numpy array. In dit geval wordt de array 5 keer gekopieerd, zodat het \\[0.3, 0.3, 0.3, 0.3, 0.3\\] wordt.\n",
    "\n",
    "### Curve fit\n",
    "\n",
    "Om een curve fit uit te voeren door een set data punten kan de `curve_fit` functie van het Scipy package gebruikt worden. De `curve_fit` functie heeft drie basis inputs: De te fitten functie, de $x$ waardes en de $y$ waardes. De te fitten functie is een functie met input variabelen. The $x$ en $y$ waarden zijn arrays met dataputen. \n",
    "\n",
    "De `curve_fit` geeft twee variabelen terug: values_funcfit en covariance_funcfit. De variable values_funcfit is een array met de optimale waardes van de parameters voor de gefitte functie. \n",
    "\n",
    "covariance_funcfit is een 2d array met de covariantie van de gefitte parameters. De waardes op de diagonaal geven de variatie van de gefitte parameters. De standaard fout van de functie met gefitte parameters kan als volgt worden berekend: np.sqrt(np.diag(covariance_funcfit)).\n",
    "\n",
    "Raadplegen de documentatie voor extra opties:\n",
    "<https://docs.scipy.org/doc/scipy/reference/generated/scipy.optimize.curve_fit.html>\n",
    "\n"
   ]
  },
  {
   "cell_type": "code",
   "execution_count": null,
   "metadata": {},
   "outputs": [],
   "source": [
    "from scipy.optimize import curve_fit\n",
    "\n",
    "def exponential_function(x,a,b):\n",
    "        return a*np.exp(b*x)\n",
    "\n",
    "values_funcfit, covariance_funcfit = curve_fit(exponential_function, x, y)\n"
   ]
  },
  {
   "cell_type": "markdown",
   "metadata": {},
   "source": [
    "#### Gewogen fit\n",
    "\n",
    "Het is ook mogelijk om gewichten toe te kennen aan de meetpunten waardoor je een fit maakt. Dit doe je door de parameter\n",
    "`sigma = …, absolute_ sigma = True` mee te geven, waar je op de plek van de puntjes de vector met de wegingen meegeeft.\n",
    "\n",
    "## Conditional Statements\n",
    "\n",
    "### If statements\n",
    "\n",
    "De syntax van een if-statement is als volgt:\n",
    "\n",
    "```{code}\n",
    "if conditie:\n",
    "   code om uit te voeren als conditie \"True\"is\n",
    "```\n",
    "\n",
    "Een paar voorbeelden van condities zijn:\n",
    "\n",
    "1.  `a == b`\n",
    "\n",
    "2.  `a < b`\n",
    "\n",
    "3.  `a > b`\n",
    "\n",
    "4.  `a <= b`\n",
    "\n",
    "5.  `a >= b`\n",
    "\n",
    "6.  `a != b`\n",
    "\n",
    "7.  `True`\n",
    "\n",
    "8.  `True and a == b`\n",
    "\n",
    "9.  `False or a != b`\n",
    "\n",
    "Naast if-statements kunnen ook elif-statements en else-statements\n",
    "gebruikt worden. else en elif worden uitgevoerd als de voorgaande\n",
    "(el)if-statement False is, waarbij elif een nieuwe if-statement is.\n",
    "\n"
   ]
  },
  {
   "cell_type": "code",
   "execution_count": null,
   "metadata": {},
   "outputs": [],
   "source": [
    "cijfer = input('Wat is het behaald cijfer voor TN1405?')\n",
    "\n",
    "if float(cijfer) < 5.8:\n",
    "    print('Je bent niet geslaagd voor dit vak')\n",
    "else:\n",
    "    print('Je bent geslaagd voor dit vak')\n"
   ]
  },
  {
   "cell_type": "markdown",
   "metadata": {},
   "source": [
    "\n",
    "## Loops\n",
    "\n",
    "Loops zijn constructies die meerdere keren achter elkaar een stuk code\n",
    "uitvoeren. Met behulp van condities geef je aan hoe vaak de code\n",
    "uitgevoerd moet worden.\n",
    "\n",
    "### While loops\n",
    "\n",
    "De while loop is een loop die de code blijft uitvoeren **zolang** een conditie geldt.\n",
    "\n",
    "```{code}\n",
    "while conditie:\n",
    "   code om uit te voeren zolang de conditie geldt\n",
    "````\n",
    "\n",
    "Uitgewerkt als:\n"
   ]
  },
  {
   "cell_type": "code",
   "execution_count": null,
   "metadata": {},
   "outputs": [],
   "source": [
    "a=0\n",
    "while a<10:\n",
    "  a += 1\n"
   ]
  },
  {
   "cell_type": "markdown",
   "metadata": {},
   "source": [
    "In de eerste regel wordt een variabele a aangemaakt. In de while loop wordt gecontroleerd of a nog steeds kleiner is dan 10. Is dit het geval dan wordt de waarde van a verhoogd met 1. De loop stopt als a=10.\n",
    "\n",
    "Soms wordt de conditie altijd voldaan, waardoor de while loop niet stopt. Hiervoor kan je `break` met een if-statement in de while loop zetten.\n",
    "\n",
    "### For loops\n",
    "\n",
    "Een for loop is een loop die **voor** een vast aantal keer de code uitvoerd. Dit ziet er als volgt uit:\n",
    "\n",
    "```{code}\n",
    "for i in (a, b, c, ...):\n",
    "   code om uit te voeren\n",
    "```\n",
    "\n",
    "## Arrays\n",
    "\n",
    "Arrays worden veel gebruikt bij het verwerken van (meet)data. Een array heeft ook een index om de positie van een element aan te geven. Het eerste element van array `a` wordt aangegeven met `a[0]` (in Python wordt vanaf 0 geteld, niet 1!), het tweede element is `a[1]` et cetera. Je kan ook negatieve indexen gebruiken, dan begin je bij het laatste element, `a[-1]`. Numpy heeft een paar handige functies om snel een array te maken.\n"
   ]
  },
  {
   "cell_type": "code",
   "execution_count": null,
   "metadata": {},
   "outputs": [],
   "source": [
    "np.zeros(shape)                                  # array met 0'en\n",
    "np.ones(shape)                                   # array met 1'en\n",
    "np.linspace(start, stop, aantal elementen)       # interval gelijk verdeeld\n",
    "np.arange(start, stop, stapgrootte)              # interval in aantal stappen\n",
    "```\n"
   ]
  },
  {
   "cell_type": "markdown",
   "metadata": {},
   "source": [
    "## Opdrachten\n",
    "\n",
    "Om vertrouwd te raken met Python hebben we een aantal opdrachten voor je klaar staan in [Jupyter Notebooks](https://gitlab.tudelft.nl/fpols/fyplc-python).\n",
    "\n",
    "\n"
   ]
  }
 ],
 "metadata": {
  "language_info": {
   "name": "python"
  }
 },
 "nbformat": 4,
 "nbformat_minor": 2
}
