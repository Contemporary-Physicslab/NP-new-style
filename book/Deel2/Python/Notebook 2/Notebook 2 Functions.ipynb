{
 "cells": [
  {
   "cell_type": "markdown",
   "metadata": {},
   "source": [
    "# NB2: Functions in Python & basics of plotting\n",
    "\n",
    "* [Learning objectives](#section_2_0)\n",
    "* [Various functions](#section_2_1)\n",
    "    * [Functions to save typing](#sub_section_2_1_1)\n",
    "    * [Functions with input variables](#sub_section_2_1_2)\n",
    "    * [Functions with multiple inputs](#sub_section_2_1_3) \n",
    "    * [Functions that return a value](#sub_section_2_1_4)\n",
    "    * [Importing functions from libraries](#sub_section_2_1_5)\n",
    "        * [Importing a single function](#sub_sub_section_2_1_5_1)\n",
    "        * [Shift-Tab for getting help](#sub_sub_section_2_1_5_2)\n",
    "* [Global variables, local variables, and variable scope](#section_2_2)\n",
    "* [Plotting data and functions with Matplotlib](#section_2_3)\n",
    "    * [Plotting basics](#sub_section_2_3_1)\n",
    "* [Solutions to Exercises](#section_2_4)"
   ]
  },
  {
   "cell_type": "markdown",
   "metadata": {},
   "source": [
    "## Pre/Post-test<a class=\"anchor\" id=\"section_1_0\"></a>\n",
    "This test is for testing your current skills in Python. You can use it in two ways:\n",
    "* pre-test: to test your skills beforehand. If you are already proficient in Python, and can do this test within approximately 15 minutes, you can scan through the notebook rather than carefully reading each sentence.\n",
    "* post-test: to test your skills after Notebook 2. Check whether you learned enough.\n",
    "\n",
    "**Analysing some data**<br>\n",
    "As Eric passed the first test, he is now exposed to a more difficult challenge. He obtained a dataset consisting of five measurements. By plotting the data he expects that the underlying relation is $y = a \\cdot x + b$, with $a$ and $b$ constants that need to be determined. As he still lacks the ability to have Python determine these coefficients, he just tries values for $a$ and $b$ and produces the corresponding graph. He then visually assesses the correctness of the values for $a$ and $b$.\n",
    "\n",
    "- plot the measurements in the graph as black dots\n",
    "- make an educated guess for the coefficients $a$ and $b$\n",
    "- write a function that takes $x$, $a$ and $b$ as input and calculates y (\n",
    "- make a test array in the given domain for x, using an interval of 0.1 (so [0.0, 0.1, ...]) \n",
    "- calculate for all values of x_test the value of y \n",
    "- plot these data in the same graph as the measurements as red dashed line (r--) \n"
   ]
  },
  {
   "cell_type": "code",
   "execution_count": null,
   "metadata": {},
   "outputs": [],
   "source": [
    "x = np.array([0, 1, 2, 3, 4, 5])\n",
    "y = np.array([1.2, 3.6, 6.0, 8.4, 10.8, 13.2])\n",
    "\n",
    "### YOUR CODE\n",
    "\n",
    "\n",
    "x_test = ...\n",
    "y_test = ..."
   ]
  },
  {
   "cell_type": "markdown",
   "metadata": {
    "nbgrader": {
     "grade": false,
     "grade_id": "cell-98b92489332760b6",
     "locked": true,
     "schema_version": 3,
     "solution": false,
     "task": false
    }
   },
   "source": [
    "## Learning objectives<a class=\"anchor\" id=\"section_2_0\"></a>\n",
    "\n",
    "In this notebook, we will explore the implementation of functions in Python. \n",
    "\n",
    "After completing this notebook, you are able to:\n",
    "* define functions with input parameters to execute a piece of code (use functions as \"methods\")\n",
    "* create and use functions that return a value (or multiple values)\n",
    "* import and use functions from libraries / modules\n",
    "* use Shift-Tab to bring up the help for a function from a library\n",
    "* predict if a variable name in a function refers to a local variable or a global variable\n",
    "* make a plot using the matplotlib library"
   ]
  },
  {
   "cell_type": "code",
   "execution_count": 1,
   "metadata": {},
   "outputs": [
    {
     "data": {
      "image/jpeg": "[encoded data removed]",
      "text/html": [
       "\n",
       "        <iframe\n",
       "            width=\"600\"\n",
       "            height=\"450\"\n",
       "            src=\"https://www.youtube.com/embed/9Os0o3wzS_I\"\n",
       "            frameborder=\"0\"\n",
       "            allowfullscreen\n",
       "            \n",
       "        ></iframe>\n",
       "        "
      ],
      "text/plain": [
       "<IPython.lib.display.YouTubeVideo at 0x174389348b0>"
      ]
     },
     "execution_count": 1,
     "metadata": {},
     "output_type": "execute_result"
    }
   ],
   "source": [
    "from IPython.lib.display import YouTubeVideo\n",
    "YouTubeVideo('9Os0o3wzS_I', width = 600, height = 450)"
   ]
  },
  {
   "cell_type": "markdown",
   "metadata": {
    "nbgrader": {
     "grade": false,
     "grade_id": "cell-98b92489332760b6",
     "locked": true,
     "schema_version": 3,
     "solution": false,
     "task": false
    }
   },
   "source": [
    "## Various functions<a class=\"anchor\" id=\"section_2_1\"></a>\n",
    "\n",
    "### Functions to save typing<a class=\"anchor\" id=\"sub_section_2_1_1\"></a>\n",
    "\n",
    "In programming, you often want to repeat the same sequence of commands over and over again. \n",
    "\n",
    "One way to do this is to copy and paste the same piece of code over and over again. This is actually quite easy, but runs quickly into a problem: let's say you want to change a little bit what that code will do, then you need to change it in many places. If you change it in one place but forget in another, then your program might crash (ie. give an error). Or even worse, and even harder to <a href=https://en.wikipedia.org/wiki/Debugging>debug</a> the mistake may not give an error message but give you the wrong answer!\n",
    "\n",
    "For this reason (among others), programming languages allow programmers to define \"functions\". Functions are pieces of code that you can give a name and then enable you to them use over and over again, without having to retype the code text. \n",
    "\n",
    "As an example, let's say that we want to print out the value of a variables named `a` and `b` using a long sentence:"
   ]
  },
  {
   "cell_type": "code",
   "execution_count": null,
   "metadata": {},
   "outputs": [],
   "source": [
    "a = 6\n",
    "b = 4\n",
    "print(\"The value of variable a is\", a)\n",
    "print(\"The value of variable b is\", b)\n",
    "\n",
    "a = a/2\n",
    "b = 3\n",
    "print(\"The value of variable a is\", a)\n",
    "print(\"The value of variable b is\", b)\n",
    "\n",
    "a = a+1\n",
    "b = 1.5\n",
    "print(\"The value of variable a is\", a)\n",
    "print(\"The value of variable b is\", b)\n",
    "\n",
    "a = a-20\n",
    "b = -1e4\n",
    "print(\"The value of variable a is\", a)\n",
    "print(\"The value of variable b is\", b)\n",
    "\n",
    "a = a+1j\n",
    "b = 1\n",
    "print(\"The value of variable a is\", a)\n",
    "print(\"The value of variable b is\", b)"
   ]
  },
  {
   "cell_type": "markdown",
   "metadata": {
    "nbgrader": {
     "grade": false,
     "grade_id": "cell-fb10310a1ec1a391",
     "locked": true,
     "schema_version": 3,
     "solution": false,
     "task": false
    }
   },
   "source": [
    "To save a lot of typing, one can define a simple function to do this work for us: "
   ]
  },
  {
   "cell_type": "code",
   "execution_count": null,
   "metadata": {},
   "outputs": [],
   "source": [
    "def print_status():\n",
    "    print(\"The value of variable a is\", a)\n",
    "    print(\"The value of variable b is\", b)\n",
    "\n",
    "a = 6\n",
    "b = 4\n",
    "print_status()\n",
    "\n",
    "a = a/2\n",
    "b = 3\n",
    "print_status()\n",
    "\n",
    "a = a+1\n",
    "b = 1.5\n",
    "print_status()"
   ]
  },
  {
   "cell_type": "markdown",
   "metadata": {},
   "source": [
    "Or even more convenient:"
   ]
  },
  {
   "cell_type": "code",
   "execution_count": null,
   "metadata": {},
   "outputs": [],
   "source": [
    "def print_status(a,b):\n",
    "    print(\"The value of variable a is\", a)\n",
    "    print(\"The value of variable b is\", b)\n",
    "\n",
    "a = 6\n",
    "print_status(a+1,1.5)\n",
    "print_status(a-20,-1e4)\n",
    "print_status(a+1j,1)"
   ]
  },
  {
   "cell_type": "markdown",
   "metadata": {},
   "source": [
    "To define a function, you use the following syntax:\n",
    "\n",
    "```\n",
    "def function_name():\n",
    "     ...\n",
    "```\n",
    "\n",
    "Here, you replace the `...` with the code you want to function to execute. The Python code inside the function should be <a  href=https://en.wikipedia.org/wiki/Indentation_(typesetting)>indented</a> by starting each line with a <a href=https://en.wikipedia.org/wiki/Tab_key>tab</a>. By default, adding a tab will produce 4 spaces in your code. You can also \"indent\" your code by manually adding spaces, but you must make sure to add 4 spaces each time. The Jupyter notebook will try to detect if you make a mistake in your indentation, and will sometimes color your text in red if it detects a mistake. \n",
    "\n",
    "Tabs in Python are VERY IMPORTANT: python uses tabs to know which code is inside the function and which is not. If you make a mistake with the tabs in such a way that Python cannot understand what you mean, it will give you an `IdentationError`.\n",
    "\n",
    "In notebooks, you can also select a line, or multiple lines, and then use `Tab` to increase their indentation level, or use `Shift-Tab` to decrease their indentation level."
   ]
  },
  {
   "cell_type": "code",
   "execution_count": null,
   "metadata": {},
   "outputs": [],
   "source": [
    "def test_tab_and_shift_tab():\n",
    "    some code\n",
    "        that is indendented\n",
    "    try selecting this text\n",
    "    and then pushing tab \n",
    "    and shift-tab"
   ]
  },
  {
   "cell_type": "markdown",
   "metadata": {
    "nbgrader": {
     "grade": false,
     "grade_id": "cell-a12ce8709fcf3b9f",
     "locked": true,
     "schema_version": 3,
     "solution": false,
     "task": false
    }
   },
   "source": [
    "In the given example, it may not be such a big deal, but you can imagine that as the code in your function becomes more and more complicated, it will save you a lot of time. Also, imagine that I wanted to change the wording of the sentence I print: in the case with the function, I would only have to do this once, while in the example without function, I would have to manually change this at 5 different places. "
   ]
  },
  {
   "cell_type": "markdown",
   "metadata": {
    "nbgrader": {
     "grade": false,
     "grade_id": "cell-cc004d60a3c3b17c",
     "locked": true,
     "schema_version": 3,
     "solution": false,
     "task": false
    }
   },
   "source": [
    "**`Exercise 2.1`** \\\n",
    "Write your own function that contains two lines of code. The first line should make a new variable `var2` that converts `var` to an integer. The second line of your code should print the value of `var2`. \n",
    "\n",
    "Using this code, play around with the indentation (add extra tabs and spaces for example) to see how 'critical' Python is with indentation. For example: does three spaces work instead of `Tab`? Does one space work? What about `Tab` on the first line and three spaces on the second line? Can you make Python trigger an `IdentationError`? "
   ]
  },
  {
   "cell_type": "code",
   "execution_count": null,
   "metadata": {},
   "outputs": [],
   "source": [
    "var=3.5\n",
    "\n",
    "# Your function and out below\n"
   ]
  },
  {
   "cell_type": "markdown",
   "metadata": {
    "nbgrader": {
     "grade": false,
     "grade_id": "cell-1be65f1712abb44d",
     "locked": true,
     "schema_version": 3,
     "solution": false,
     "task": false
    }
   },
   "source": [
    "### Functions with input variables<a class=\"anchor\" id=\"sub_section_2_1_2\"></a>\n",
    "\n",
    "Let's say that we want to print out the status of variables that we do not know the name of ahead of time, as in the example above. Say we wanted to make a function that could print out a message with the status of value of ANY variable. How could we do this? \n",
    "\n",
    "In the example above, our function explicitly printed out variables `a` and `b`. But this only works because I know in advance that the person using my function has defined variables `a` and `b`. But what if I want to print the value of variable `c`? \n",
    "\n",
    "To allow functions to be more generic, and therefore more \"reusable\" in general, Python allows you to define \"input variables\" for your function. The syntax for this is the following:\n",
    "\n",
    "```\n",
    "def function_name(x):\n",
    "    ...\n",
    "```\n",
    "\n",
    "When you do this, for the code INSIDE your function, a variable `x` will be defined that will have the value given by the input value given to the function by the user. Let's look at a specific example:"
   ]
  },
  {
   "cell_type": "code",
   "execution_count": null,
   "metadata": {},
   "outputs": [],
   "source": [
    "def print_status2(x):\n",
    "    print(\"The value passed to the function is\", x)\n",
    "\n",
    "a = 1.5\n",
    "print_status2(a)\n",
    "\n",
    "a = 1+1j\n",
    "print_status2(a)\n",
    "\n",
    "print_status2(1.5323)"
   ]
  },
  {
   "cell_type": "markdown",
   "metadata": {
    "nbgrader": {
     "grade": false,
     "grade_id": "cell-34acac6dd514c884",
     "locked": true,
     "schema_version": 3,
     "solution": false,
     "task": false
    }
   },
   "source": [
    "How does this work? \n",
    "\n",
    "When the function `print_status(a)` is called, Python \"sends\" (\"passes\" in computer speak) the value of `a` to the function. Inside the function, Python creates a new (temporary) variable called `x`, that is defined ONLY while the function code is running. This temporary variable `x` is then assigned the value that was sent to the function, and then the code is executed. When the function is finished, the variable `x` is destroyed. (Try adding the code `print(x)` above outside the function and see what happens!)\n",
    "\n",
    "Note, as you can see in the third example, the things you pass to functions do not even need to be variables! This is fine because the function only needs the value of the argument that is passed to the function. "
   ]
  },
  {
   "cell_type": "markdown",
   "metadata": {
    "nbgrader": {
     "grade": false,
     "grade_id": "cell-53fd3c06a26175a3",
     "locked": true,
     "schema_version": 3,
     "solution": false,
     "task": false
    }
   },
   "source": [
    "**`Exercise 2.2`** \\\n",
    "Ask the user to type a number $x$, calculate its square $x^2$ and return the value as a one-decimal float (peak at notebook 1 how to properly do so using %f)."
   ]
  },
  {
   "cell_type": "code",
   "execution_count": null,
   "metadata": {},
   "outputs": [],
   "source": [
    "# Your code here\n"
   ]
  },
  {
   "cell_type": "markdown",
   "metadata": {
    "nbgrader": {
     "grade": false,
     "grade_id": "cell-581873fe20420dc6",
     "locked": true,
     "schema_version": 3,
     "solution": false,
     "task": false
    }
   },
   "source": [
    "### Functions with multiple inputs <a class=\"anchor\" id=\"sub_section_2_1_3\"></a>\n",
    "\n",
    "Functions can also take multiple input variables. To do this, you put them all in between the brackets `()`, separated by commas. For example, with 3 variables, the syntax is:\n",
    "\n",
    "```\n",
    "def function_name(variable1, variable2, variable3):\n",
    "    ...\n",
    "```\n",
    "\n",
    "You would then use this function in the following way:\n",
    "\n",
    "```\n",
    "function_name(argument1, argument2, argument3)\n",
    "```\n",
    "\n",
    "When you do this, inside the function, `variable1` will get assigned the value of `argument1`, `variable2` will get assigned the value of `argument2`, and `variable3` will get assigned the value of `argument3`. This matching of the position in the list is called matching by \"positional order\".  \n",
    "\n",
    "Note that there are several different names used for the \"input variables\" of a function: often, computer scientists will also use the name \"input arguments\" (or just \"arguments), or \"input parameters\" (or just \"parameters\"). "
   ]
  },
  {
   "cell_type": "code",
   "execution_count": null,
   "metadata": {},
   "outputs": [],
   "source": [
    "def print_status3(x, y):\n",
    "    print(\"The value of the first input variable is \", x)\n",
    "    print(\"The value of the second input variable is \", y)\n",
    "\n",
    "print_status3(1,2)\n",
    "print_status3(2.5,1.5)\n",
    "print_status3(a, 2*a)"
   ]
  },
  {
   "cell_type": "markdown",
   "metadata": {
    "nbgrader": {
     "grade": false,
     "grade_id": "cell-78e05b5cbe11902b",
     "locked": true,
     "schema_version": 3,
     "solution": false,
     "task": false
    }
   },
   "source": [
    "**`Exercise 2.3`** \\\n",
    "Make a  new function `print_status4()` that takes three variables as arguments and prints out messages telling the user the values of each of them (as above, but with three input variables). Test it to make sure it works. "
   ]
  },
  {
   "cell_type": "code",
   "execution_count": null,
   "metadata": {},
   "outputs": [],
   "source": [
    "# Your code here\n"
   ]
  },
  {
   "cell_type": "markdown",
   "metadata": {
    "nbgrader": {
     "grade": false,
     "grade_id": "cell-fbf7e40e800af968",
     "locked": true,
     "schema_version": 3,
     "solution": false,
     "task": false
    }
   },
   "source": [
    "### Functions that return a value<a class=\"anchor\" id=\"sub_section_2_1_4\"></a>\n",
    "\n",
    "In addition to receiving values as inputs, functions can also send back values to the person using the function. In computer programming, this is called the \"return value\". \n",
    "\n",
    "When you create a function, you can use the `return` command to specify what value should be sent back to the person using the function. Let's look at an example:"
   ]
  },
  {
   "cell_type": "code",
   "execution_count": null,
   "metadata": {},
   "outputs": [],
   "source": [
    "def my_formula(x):\n",
    "    y = x**2 + 3\n",
    "    return y"
   ]
  },
  {
   "cell_type": "markdown",
   "metadata": {},
   "source": [
    "In this case it could be more convenient just to type:"
   ]
  },
  {
   "cell_type": "code",
   "execution_count": null,
   "metadata": {},
   "outputs": [],
   "source": [
    "def my_formula(x):\n",
    "    return x**2 + 3"
   ]
  },
  {
   "cell_type": "markdown",
   "metadata": {
    "nbgrader": {
     "grade": false,
     "grade_id": "cell-3da704c82b41c669",
     "locked": true,
     "schema_version": 3,
     "solution": false,
     "task": false
    }
   },
   "source": [
    "To \"capture\" the value returned by the function, you can assign it to a variable, or just directly \"use\" the result of the function if you want:"
   ]
  },
  {
   "cell_type": "code",
   "execution_count": null,
   "metadata": {},
   "outputs": [],
   "source": [
    "result = my_formula(3.5)\n",
    "print(result)\n",
    "print(my_formula(4.6))"
   ]
  },
  {
   "cell_type": "markdown",
   "metadata": {
    "nbgrader": {
     "grade": false,
     "grade_id": "cell-9710d6768449ded8",
     "locked": true,
     "schema_version": 3,
     "solution": false,
     "task": false
    }
   },
   "source": [
    "Note that as soon as python sees the `return` command, it stops running the function, so any code after it will not be executed:"
   ]
  },
  {
   "cell_type": "code",
   "execution_count": null,
   "metadata": {},
   "outputs": [],
   "source": [
    "def myfunction(x):\n",
    "    print(\"This gets printed.\")\n",
    "    return x**2 + 3\n",
    "    print(\"This does not.\")\n",
    "    \n",
    "print(myfunction(5))"
   ]
  },
  {
   "cell_type": "markdown",
   "metadata": {
    "nbgrader": {
     "grade": false,
     "grade_id": "cell-aef6b10798831fa6",
     "locked": true,
     "schema_version": 3,
     "solution": false,
     "task": false
    }
   },
   "source": [
    "If you want to send back more than one result to the user of your function, you can separate the results with commas when you use the `return` command. "
   ]
  },
  {
   "cell_type": "code",
   "execution_count": null,
   "metadata": {},
   "outputs": [],
   "source": [
    "def functie(x,y):\n",
    "    return x**2, y**3\n",
    "\n",
    "s, p = functie(2,4)\n",
    "print(s,p)"
   ]
  },
  {
   "cell_type": "markdown",
   "metadata": {
    "nbgrader": {
     "grade": false,
     "grade_id": "cell-c20b50841a685607",
     "locked": true,
     "schema_version": 3,
     "solution": false,
     "task": false
    }
   },
   "source": [
    "**`Exercise 2.4 (a)`** \\\n",
    "Write a function that takes two real numbers as input and returns the sum and product of the two numbers. In your function, try to send *both* of the calculated numbers back as a return value. "
   ]
  },
  {
   "cell_type": "code",
   "execution_count": null,
   "metadata": {},
   "outputs": [],
   "source": [
    "# Your function here\n",
    "def product_and_sum(...):\n",
    "    ..."
   ]
  },
  {
   "cell_type": "markdown",
   "metadata": {
    "nbgrader": {
     "grade": false,
     "grade_id": "cell-35103493f788b1d5",
     "locked": true,
     "schema_version": 3,
     "solution": false,
     "task": false
    }
   },
   "source": [
    "**`Exercise 2.4 (b)`** \\\n",
    "Now USE your function to calculate the sum and product of `a` and `b`, \"capturing\" the sum and product in variables `s` and `p`:"
   ]
  },
  {
   "cell_type": "code",
   "execution_count": null,
   "metadata": {},
   "outputs": [],
   "source": [
    "a = 1.5\n",
    "b = 2.5\n",
    "\n",
    "#...some code that uses the return value of your function to set variable s and p...\n",
    "\n",
    "print(\"Sum is:\", s)\n",
    "print(\"Product is:\", p)"
   ]
  },
  {
   "cell_type": "markdown",
   "metadata": {
    "nbgrader": {
     "grade": false,
     "grade_id": "cell-af1bcb8c3a7ded79",
     "locked": true,
     "schema_version": 3,
     "solution": false,
     "task": false
    }
   },
   "source": [
    "### Importing functions from libraries<a class=\"anchor\" id=\"sub_section_2_1_5\"></a>\n",
    "\n",
    "One of the big advantages of Python is that there are huge collection of libraries that include code for doing a huge number of things for you! We will make extensive use of the library `numpy` for numerical calculations in Python, and the library `matplotlib` for generating scientific plots. Beyond this, nearly anything you want to be able to do on a computer can be found in Python libraries, which is one of the reasons Python is so popular. \n",
    "\n",
    "In order to make use of these libraries of code, you need to \"import\" them into the \"namespace\" of your kernel. \n",
    "\n",
    "(\"Namespace\" is Python-speak for the list of functions and variable names that you can find in the running copy of Python that is connected to your notebook.)\n",
    "\n",
    "Here, we will show you a few examples of different ways of importing code into your notebook from a library (also called a \"module\"). For this, we will take the example we used already in Notebook 1: in the module `time`, there is a function called `sleep()` that will perform the task of \"pausing\" for a number of seconds given by the its argument. \n",
    "\n",
    "You can find out more about the `time` module by looking at its documentation webpage:\n",
    "\n",
    "https://docs.python.org/3/library/time.html\n",
    "\n",
    "and specifically about the `sleep()` function here:\n",
    "\n",
    "https://docs.python.org/3/library/time.html#time.sleep\n",
    "\n",
    "### Importing a whole module\n",
    "\n",
    "The simplest way to be able use the `sleep`  function of the `time` module is to import it using the following command:"
   ]
  },
  {
   "cell_type": "code",
   "execution_count": null,
   "metadata": {},
   "outputs": [],
   "source": [
    "import time"
   ]
  },
  {
   "cell_type": "markdown",
   "metadata": {
    "nbgrader": {
     "grade": false,
     "grade_id": "cell-6ebea512349a5084",
     "locked": true,
     "schema_version": 3,
     "solution": false,
     "task": false
    }
   },
   "source": [
    "You can see it has been imported by using the `%whos` command: "
   ]
  },
  {
   "cell_type": "code",
   "execution_count": null,
   "metadata": {},
   "outputs": [],
   "source": [
    "%whos"
   ]
  },
  {
   "cell_type": "markdown",
   "metadata": {
    "nbgrader": {
     "grade": false,
     "grade_id": "cell-6d7e43494d90fc23",
     "locked": true,
     "schema_version": 3,
     "solution": false,
     "task": false
    }
   },
   "source": [
    "Once it has been imported, you can access all the functions of the module by adding `time.` in front of the function name (from the time module) in your code:"
   ]
  },
  {
   "cell_type": "code",
   "execution_count": null,
   "metadata": {},
   "outputs": [],
   "source": [
    "print(\"Starting to sleep\")\n",
    "time.sleep(5)\n",
    "print(\"Done!\")"
   ]
  },
  {
   "cell_type": "markdown",
   "metadata": {
    "nbgrader": {
     "grade": false,
     "grade_id": "cell-36d70980cc576500",
     "locked": true,
     "schema_version": 3,
     "solution": false,
     "task": false
    }
   },
   "source": [
    "If you import the whole module, you will have access to all the functions in it. To see what functions are in the module for you to use type `dir(time)`, which will generate this list.\n",
    "\n",
    "Sometimes, if you will be using the functions from the module a lot, you can give it a different \"prefix\" to save yourself some typing:"
   ]
  },
  {
   "cell_type": "code",
   "execution_count": null,
   "metadata": {},
   "outputs": [],
   "source": [
    "import time as tm\n",
    "print(\"Starting to sleep\")\n",
    "tm.sleep(5)\n",
    "print(\"Done!\")"
   ]
  },
  {
   "cell_type": "markdown",
   "metadata": {
    "nbgrader": {
     "grade": false,
     "grade_id": "cell-f6efa5c8f5b4ef63",
     "locked": true,
     "schema_version": 3,
     "solution": false,
     "task": false
    }
   },
   "source": [
    "We will use this a lot when using the `numpy` module, shortening its name to `np` when we import it, and also for the `matplotlib.pyplot` submodule, which we will shorten to `plt`. (These are also typically used conventions in the scientific community.)"
   ]
  },
  {
   "cell_type": "markdown",
   "metadata": {
    "nbgrader": {
     "grade": false,
     "grade_id": "cell-7f7189cfda3188a5",
     "locked": true,
     "schema_version": 3,
     "solution": false,
     "task": false
    }
   },
   "source": [
    "#### Importing a single function <a class=\"anchor\" id=\"sub_sub_section_2_1_5_1\"></a>\n",
    "\n",
    "You can also import a single function from a library:"
   ]
  },
  {
   "cell_type": "code",
   "execution_count": null,
   "metadata": {},
   "outputs": [],
   "source": [
    "from time import sleep\n",
    "from datetime import datetime"
   ]
  },
  {
   "cell_type": "markdown",
   "metadata": {
    "nbgrader": {
     "grade": false,
     "grade_id": "cell-b9ce119a2966790a",
     "locked": true,
     "schema_version": 3,
     "solution": false,
     "task": false
    }
   },
   "source": [
    "When you do this, the function `sleep()` will be available directly in your notebook kernel \"namespace\" without any prefix:"
   ]
  },
  {
   "cell_type": "code",
   "execution_count": null,
   "metadata": {},
   "outputs": [],
   "source": [
    "start_timer = datetime.now()\n",
    "print(\"Starting to sleep\")\n",
    "sleep(5)\n",
    "print(\"Done!\")\n",
    "end_timer = datetime.now()\n",
    "print(end_timer-start_timer)"
   ]
  },
  {
   "cell_type": "markdown",
   "metadata": {
    "nbgrader": {
     "grade": false,
     "grade_id": "cell-d62c06ba6b0ce825",
     "locked": true,
     "schema_version": 3,
     "solution": false,
     "task": false
    }
   },
   "source": [
    "Using `%whos`, we can now see that we have three different ways to use the `sleep()` function. We also used a self-built stopwatch showing how long it took to run some code. This is a very convenient way to improve your own code, speeding it up is especially important when using large chunks of code."
   ]
  },
  {
   "cell_type": "code",
   "execution_count": null,
   "metadata": {},
   "outputs": [],
   "source": [
    "%whos"
   ]
  },
  {
   "cell_type": "markdown",
   "metadata": {
    "nbgrader": {
     "grade": false,
     "grade_id": "cell-6f0445a2973bf90c",
     "locked": true,
     "schema_version": 3,
     "solution": false,
     "task": false
    }
   },
   "source": [
    "If you look around on the internet, you will also find people that will do the following\n",
    "\n",
    "```\n",
    "from numpy import *\n",
    "```\n",
    "\n",
    "This will import all the functions from numpy directly into the namespace of your kernel with no prefix. You might think: what a great idea, this will save me loads of typing! Instead of typing `np.sqrt()` for example, to use the square-root function, I could just type `sqrt()`. \n",
    "\n",
    "While true, it will save typing, it also comes with a risk: sometimes different modules have functions that have the same name, but do different things. A concrete example is the function `sqrt()`, which is available in both the `math` module and the `numpy` module. Unfortunately, `math.sqrt()` will give an error when using numpy arrays (which we will learn more about in later notebooks). \n",
    "\n",
    "If you import both of them, you will overwrite these functions by the second import, and if you're not careful, you will forget which one you are using, and it could cause your code to break. It will also \"crowd\" your notebooks namespace: using the `whos` function, you will suddenly see hundreds or even thousands of functions, instead of only just a module. \n",
    "\n",
    "For these reasons, it is generally advised not to use `import *`, and it is considered poor coding practice in modern Python."
   ]
  },
  {
   "cell_type": "markdown",
   "metadata": {
    "nbgrader": {
     "grade": false,
     "grade_id": "cell-59161c880f8689e6",
     "locked": true,
     "schema_version": 3,
     "solution": false,
     "task": false
    }
   },
   "source": [
    "#### Shift-Tab for getting help<a class=\"anchor\" id=\"sub_sub_section_2_1_5_2\"></a>\n",
    "\n",
    "Like the tab completion we saw in the first notebook, Jupyter also can give you help on functions you have imported from libraries if you type `Shift-Tab`. \n",
    "\n",
    "Say I forgot how to use the `datetime()` function. If I type the word \"datetime\" and then push `Shift-Tab`, Jupyter will bring up a help window for that function.\n",
    "\n",
    "Try it: click on any part of the word `datetime` in the following code cell and push `Shift-Tab`:"
   ]
  },
  {
   "cell_type": "code",
   "execution_count": null,
   "metadata": {},
   "outputs": [],
   "source": [
    "datetime"
   ]
  },
  {
   "cell_type": "markdown",
   "metadata": {
    "nbgrader": {
     "grade": false,
     "grade_id": "cell-7daff037eb77301f",
     "locked": true,
     "schema_version": 3,
     "solution": false,
     "task": false
    }
   },
   "source": [
    "You can also find the same help as the output of a code cell by using the `help()` function:"
   ]
  },
  {
   "cell_type": "code",
   "execution_count": null,
   "metadata": {},
   "outputs": [],
   "source": [
    "help(datetime)"
   ]
  },
  {
   "cell_type": "markdown",
   "metadata": {
    "nbgrader": {
     "grade": false,
     "grade_id": "cell-c7820259378fabba",
     "locked": true,
     "schema_version": 3,
     "solution": false,
     "task": false
    }
   },
   "source": [
    "There are extensive online resources for many modules. The most used modules have helpful examples. "
   ]
  },
  {
   "cell_type": "markdown",
   "metadata": {
    "nbgrader": {
     "grade": false,
     "grade_id": "cell-3c31a778f00cba2b",
     "locked": true,
     "schema_version": 3,
     "solution": false,
     "task": false
    }
   },
   "source": [
    "**`Exercise 2.5 a`** \\\n",
    "Find help for the built-in functions `abs`, `int`, and `input`. Which of the help functions are easy to read? Which one does not provide such useful information (compared to the online documentation page)? (Put each help command in a separate cell)"
   ]
  },
  {
   "cell_type": "code",
   "execution_count": null,
   "metadata": {},
   "outputs": [],
   "source": [
    "# Your code here"
   ]
  },
  {
   "cell_type": "code",
   "execution_count": null,
   "metadata": {},
   "outputs": [],
   "source": [
    "# Your code here"
   ]
  },
  {
   "cell_type": "code",
   "execution_count": null,
   "metadata": {},
   "outputs": [],
   "source": [
    "# Your code here"
   ]
  },
  {
   "cell_type": "markdown",
   "metadata": {
    "nbgrader": {
     "grade": false,
     "grade_id": "cell-76f8da331b6edf11",
     "locked": true,
     "schema_version": 3,
     "solution": false,
     "task": false
    }
   },
   "source": [
    "**`Exercise 2.5 (b)`** \\\n",
    "Import the function `glob` from the library `glob` and print its help information. What does the function `glob(\"../*\")` do? "
   ]
  },
  {
   "cell_type": "code",
   "execution_count": null,
   "metadata": {},
   "outputs": [],
   "source": [
    "# run the help here"
   ]
  },
  {
   "cell_type": "code",
   "execution_count": null,
   "metadata": {},
   "outputs": [],
   "source": [
    "# your code here"
   ]
  },
  {
   "cell_type": "markdown",
   "metadata": {
    "nbgrader": {
     "grade": false,
     "grade_id": "cell-10519772f1b5d68a",
     "locked": true,
     "schema_version": 3,
     "solution": false,
     "task": false
    }
   },
   "source": [
    "## Global variables, local variables, and variable scope<a class=\"anchor\" id=\"section_2_2\"></a>\n",
    "\n",
    "In our first functions above, we saw a couple of examples of using variables inside functions. \n",
    "\n",
    "In the first example, we used the variables `a` and `b` inside our function that we created outside our function, directly in our notebook. \n",
    "\n",
    "In the second example, we used the \"temporary\" variable `x` inside our function. \n",
    "\n",
    "These were two examples of different variable \"scope\". In computer programming, <a href=https://en.wikipedia.org/wiki/Scope_(computer_science)>scope</a> define the rules Python uses when it tries to look up the value of a variable. \n",
    "\n",
    "In the slightly simplified picture we will work with here, variables can have two different types of \"scopes\": **global scope** and **local scope**. \n",
    "\n",
    "If Python looks for a variable value, it first looks in the local scope (also called \"local namespace\"). If it does not find it, Python will go up into the global scope (also called the \"global namespace\") and look for the variable there. If it does not find the variable there, it will trigger an error (a `NameError` to be precise).\n",
    "\n",
    "How do I create a global variable? By default, if you create a variable directly in your notebook (and not in a function in your notebook), it will always be **global**. So, actually, you've already created a bunch of global variables! \n",
    "\n",
    "Any variables you define inside a function in your code will be a **local** variable (including the input variables automatically created if your function takes any arguments). \n",
    "\n",
    "If you want to create a global variable inside a function, or make sure the variable you are referring to is the global variable and not the local one, you can do this by the `global` qualifier, which we will look at in a minute. \n",
    "\n",
    "Let's take a look at this in more detail by analysing a few examples. \n",
    "\n",
    "**Example 1** Accessing a global variable inside a function"
   ]
  },
  {
   "cell_type": "code",
   "execution_count": null,
   "metadata": {},
   "outputs": [],
   "source": [
    "a1 = 5\n",
    "\n",
    "def my_func():\n",
    "    print(a1)\n",
    "    \n",
    "my_func()\n",
    "a1 = 6\n",
    "my_func()"
   ]
  },
  {
   "cell_type": "markdown",
   "metadata": {
    "nbgrader": {
     "grade": false,
     "grade_id": "cell-b4bb5a3316fe89c9",
     "locked": true,
     "schema_version": 3,
     "solution": false,
     "task": false
    }
   },
   "source": [
    "In this example, when Python is inside the function `my_func()`, it first looks to see if there is a variable `a1` in the local scope of the function. It does not find one, so it then goes and looks in the global scope. There, it finds a variable `a1`, and so it uses this one. \n",
    "\n",
    "\n",
    "**Example 2** An example that doesn't work (unless you've run the next cell, in which case it will only fail again after you restart your kernel)"
   ]
  },
  {
   "cell_type": "code",
   "execution_count": null,
   "metadata": {},
   "outputs": [],
   "source": [
    "def my_func():\n",
    "    print(b1)\n",
    "    \n",
    "my_func()"
   ]
  },
  {
   "cell_type": "markdown",
   "metadata": {
    "nbgrader": {
     "grade": false,
     "grade_id": "cell-10458e43f3723d0b",
     "locked": true,
     "schema_version": 3,
     "solution": false,
     "task": false
    }
   },
   "source": [
    "This code gives a `NameError` because there is no variable `b1` yet created in the global scope. If we run the following code cell and try the code above again, it will work. "
   ]
  },
  {
   "cell_type": "code",
   "execution_count": null,
   "metadata": {},
   "outputs": [],
   "source": [
    "b1 = 6"
   ]
  },
  {
   "cell_type": "markdown",
   "metadata": {
    "nbgrader": {
     "grade": false,
     "grade_id": "cell-6074899777a25fae",
     "locked": true,
     "schema_version": 3,
     "solution": false,
     "task": false
    }
   },
   "source": [
    "Here you can see one risk of languages like Python: because of the persistent memory of the kernel, code can succeed or fail depending on what code you have run before it... This is why you kill your kernel, clear all outputs and re-run the entire script!!\n",
    "\n",
    "If you want to see the error message above again, you can delete variable b1 using this code and run it again:"
   ]
  },
  {
   "cell_type": "code",
   "execution_count": null,
   "metadata": {},
   "outputs": [],
   "source": [
    "del b1"
   ]
  },
  {
   "cell_type": "markdown",
   "metadata": {
    "nbgrader": {
     "grade": false,
     "grade_id": "cell-e5003608c97f5668",
     "locked": true,
     "schema_version": 3,
     "solution": false,
     "task": false
    }
   },
   "source": [
    "**Example 3** Variables defined in the local scope of a function are not accessible outside the function"
   ]
  },
  {
   "cell_type": "code",
   "execution_count": null,
   "metadata": {},
   "outputs": [],
   "source": [
    "def my_func():\n",
    "    x = 5\n",
    "    \n",
    "my_func()\n",
    "\n",
    "print(x)"
   ]
  },
  {
   "cell_type": "markdown",
   "metadata": {
    "nbgrader": {
     "grade": false,
     "grade_id": "cell-d65b38344a2c4136",
     "locked": true,
     "schema_version": 3,
     "solution": false,
     "task": false
    }
   },
   "source": [
    "**Example 4** Variables passed to functions cannot be modified by the function (more on this later when we look at more complicated data structures...sometimes this is different)"
   ]
  },
  {
   "cell_type": "code",
   "execution_count": null,
   "metadata": {},
   "outputs": [],
   "source": [
    "def my_func(a):\n",
    "    a = 6\n",
    "    \n",
    "a=5\n",
    "my_func(a)\n",
    "print(a)"
   ]
  },
  {
   "cell_type": "markdown",
   "metadata": {
    "nbgrader": {
     "grade": false,
     "grade_id": "cell-7f9a0c6f80607325",
     "locked": true,
     "schema_version": 3,
     "solution": false,
     "task": false
    }
   },
   "source": [
    "This one is a bit subtle (mega-confusing?) because we re-used the same name `a` for the local variable in the function as the global variable outside of the function. However, the operation is quite logical. When the function code starts running, it creates a `local` variable `a` to store the value it received. And now, because there is already a local variable called `a`, using `a` in the function refers to the `local` variable `a`, not the `global` variable `a` we define before calling the function. "
   ]
  },
  {
   "cell_type": "markdown",
   "metadata": {
    "nbgrader": {
     "grade": false,
     "grade_id": "cell-5aa7c9bac0e183c9",
     "locked": true,
     "schema_version": 3,
     "solution": false,
     "task": false
    }
   },
   "source": [
    "**Example 5** This one is a tricky one."
   ]
  },
  {
   "cell_type": "code",
   "execution_count": null,
   "metadata": {},
   "outputs": [],
   "source": [
    "a = 6\n",
    "\n",
    "def my_func():\n",
    "    a = 7\n",
    "\n",
    "print(a)\n",
    "my_func()\n",
    "print(a)"
   ]
  },
  {
   "cell_type": "markdown",
   "metadata": {
    "nbgrader": {
     "grade": false,
     "grade_id": "cell-f637454870e0a4ec",
     "locked": true,
     "schema_version": 3,
     "solution": false,
     "task": false
    }
   },
   "source": [
    " It would seem that the function would refer to the global variable `a` and therefore change it's value. However, it is tricky since we first use `a` in the function in an assignment. An assignment in python will automatically create a variable if it does not exist, and so python creates a new variable named `a` in the local scope. The name `a` inside the function now refers to this newly created local variable, and therefore the global variable will not be changed. In fact, this guarantees that you cannot change global variables inside a function, unless you use the `global` qualifier shown in the next example."
   ]
  },
  {
   "cell_type": "markdown",
   "metadata": {
    "nbgrader": {
     "grade": false,
     "grade_id": "cell-a2c1c2099359531d",
     "locked": true,
     "schema_version": 3,
     "solution": false,
     "task": false
    }
   },
   "source": [
    "**Example 6** If you want to make sure that the `a` inside your function is referring to the global variable `a`, you can include the line `global a` inside your function to tell python that you mean the global variable `a`. "
   ]
  },
  {
   "cell_type": "code",
   "execution_count": null,
   "metadata": {},
   "outputs": [],
   "source": [
    "a = 6\n",
    "\n",
    "def my_func():\n",
    "    global a\n",
    "    a = 7\n",
    "\n",
    "print(a)\n",
    "my_func()\n",
    "print(a)"
   ]
  },
  {
   "cell_type": "markdown",
   "metadata": {
    "nbgrader": {
     "grade": false,
     "grade_id": "cell-b86006c7d643e2ba",
     "locked": true,
     "schema_version": 3,
     "solution": false,
     "task": false
    }
   },
   "source": [
    "Note that in general, it is considered bad programming practice to use (too many) global variables. Why? When you write longer and bigger sections of code, it is easier to understand what is going on in your function if your function uses only local variables and communicates back and forth using input parameter and return variables. Using too many global variables in a function can be confusing because they are defined in a different place in your code and so you don't have a good oversight of them. (Bigger projects can easily have  10,000+ lines of code!)  \n",
    "\n",
    "In computer science, this is a topic of often intense debate (resulting in what nerds refer to as a <a href=\"https://www.urbandictionary.com/define.php?term=flame%20war\">flame war</a>), with global variables being branded as \"dangerous\" like in this stack exchange post:  \n",
    "\n",
    "https://stackoverflow.com/questions/423379/using-global-variables-in-a-function\n",
    "\n",
    "But I personally agree with the comments in this post that \"global variables have their place but should be used sparingly\".\n",
    "\n",
    "Summary of the rules for global and local variables:\n",
    "\n",
    "* If a local variable of the same name exists or is created by Python (by assignment, for example), then python uses the local varible\n",
    "* If you try to use a variable name that does not exist locally, Python checks for a global variable of the same name\n",
    "* If you want to change the value of a global inside a function, then you must use the `global` statement to make it clear to Python than you want that name to refer to the global variable"
   ]
  },
  {
   "cell_type": "markdown",
   "metadata": {},
   "source": [
    "**`Exercise 2.6 (a)`** \n",
    "Make a function, dependent on one variable, that may be any differentiable function. You can use any combination of standard functions (e.g. np.sin, np.exp). Use this function to print the values f(0) and f(1)."
   ]
  },
  {
   "cell_type": "code",
   "execution_count": null,
   "metadata": {},
   "outputs": [],
   "source": [
    "import numpy as np\n",
    "def f(x):\n",
    "    return ..."
   ]
  },
  {
   "cell_type": "markdown",
   "metadata": {},
   "source": [
    "**`Exercise 2.6 (b)`**\n",
    "We want to find the tangent line at a given value of our function. For this, you may approximate the slope by $\\frac{\\Delta y}{\\Delta x} = \\frac{f(a+\\epsilon) - f(a-\\epsilon)}{2 \\epsilon}$, where epsilon is a sufficiently small number (note that Python's float type is limited to a number of digits, so $\\epsilon$ should not be smaller than 1e-8) and a is the point at which we want the tangent line. Make a function that, given a certain point, returns the slope."
   ]
  },
  {
   "cell_type": "code",
   "execution_count": null,
   "metadata": {},
   "outputs": [],
   "source": [
    "def determine_slope(a, epsilon):\n",
    "    dy = ...\n",
    "    dx = ...\n",
    "    return dy/dx"
   ]
  },
  {
   "cell_type": "markdown",
   "metadata": {},
   "source": [
    "**`Exercise 2.6 (c)`** We want to write the tangent line in the form $y = mx + b$. Make a function that, given a point, print outs the tangent line. Hint: use your previously defined functions."
   ]
  },
  {
   "cell_type": "code",
   "execution_count": null,
   "metadata": {},
   "outputs": [],
   "source": [
    "def print_tangent(a, epsilon):\n",
    "    m = ...\n",
    "    b = ...\n",
    "    print(...)\n",
    "    \n",
    "epsilon = ...\n",
    "a       = ...\n",
    "print_tangent(a, epsilon)"
   ]
  },
  {
   "cell_type": "code",
   "execution_count": null,
   "metadata": {},
   "outputs": [],
   "source": []
  },
  {
   "cell_type": "markdown",
   "metadata": {},
   "source": [
    "## Plotting data and functions with Matplotlib<a class=\"anchor\" id=\"section_2_3\"></a>\n",
    "\n",
    "We already encountered a plot in one of the first assignments. Physicist always want to  plot the data to see what it looks like! The Matplotlib library allows us just to do that.\n",
    "https://matplotlib.org"
   ]
  },
  {
   "cell_type": "code",
   "execution_count": null,
   "metadata": {},
   "outputs": [],
   "source": [
    "YouTubeVideo('qErBw-R2Ybk', width = 600, height = 450)"
   ]
  },
  {
   "cell_type": "markdown",
   "metadata": {},
   "source": [
    "### Plotting basics<a class=\"anchor\" id=\"sub_section_2_3_1\"></a>\n",
    "\n",
    "Specifically, we will need the pyplot module of matplotlib:\n",
    "\n",
    "https://matplotlib.org/api/_as_gen/matplotlib.pyplot.html#module-matplotlib.pyplot\n",
    "\n",
    "We will import it with the shortcut / \"name\" / \"prefix\" plt:\n"
   ]
  },
  {
   "cell_type": "code",
   "execution_count": null,
   "metadata": {},
   "outputs": [],
   "source": [
    "import matplotlib.pyplot as plt\n",
    "import numpy as np"
   ]
  },
  {
   "cell_type": "markdown",
   "metadata": {},
   "source": [
    "The routine for making line plots of your data is `plt.plot()`: \n",
    "\n",
    "https://matplotlib.org/api/_as_gen/matplotlib.pyplot.plot.html\n",
    "\n",
    "We present you a plot with some additional features. Read the code, change values, colors and so on and see the result. Try to understand how each of the changes affect your plot (predict - observe - explain). Note that we included many optional elements, without these Python can perfectly create a proper graph for you."
   ]
  },
  {
   "cell_type": "code",
   "execution_count": null,
   "metadata": {},
   "outputs": [],
   "source": [
    "x = np.arange(0,10,1)\n",
    "y = 2*x**2\n",
    "z = 15*x+2\n",
    "\n",
    "plt.rcParams['figure.dpi'] = 300 #used to set proper display resolution \n",
    "\n",
    "plt.figure(figsize=(5, 4))\n",
    "plt.xlabel(\"$x$ (m)\")\n",
    "plt.ylabel(\"$t$ (s)\")\n",
    "\n",
    "plt.plot(x,y,'k.',markersize='4',label='quadratic function')\n",
    "plt.plot(x,z,'r+',label='linear function')\n",
    "\n",
    "plt.legend(loc='upper left')\n",
    "\n",
    "plt.xlim(0,10)\n",
    "plt.ylim(0,180)\n",
    "plt.grid() #adds a grid to the plot, not always appreciated by scientists.\n",
    "plt.axhline(0, ls='-', lw=1, c='grey')\n",
    "plt.axvline(0, ls=':', lw=1, c='grey')\n",
    "\n",
    "plt.savefig('my_first_fig.pdf')\n",
    "plt.show()"
   ]
  },
  {
   "cell_type": "markdown",
   "metadata": {},
   "source": [
    "If you look in the file browser, you will now see a file my_first_fig.pdf. If you open it, you will see that is a high-quality vector graphics PDF."
   ]
  },
  {
   "cell_type": "markdown",
   "metadata": {},
   "source": [
    "**`Exercise 2.7`** \\\n",
    "Below we have a dataset where we expect the data to be based upon the formula $y = a \\cdot x + b$. To check whether this is correct, carry out the following tasks:\n",
    "* plot the raw data as black dots\n",
    "* write a function for the formula with input variables a and b\n",
    "* make an estimated guess for the values of a and b\n",
    "* use the test variable as input to calculate the corresponding values for y\n",
    "* plot these values for x and y in the same graph, use a red dotted line"
   ]
  },
  {
   "cell_type": "code",
   "execution_count": null,
   "metadata": {},
   "outputs": [],
   "source": [
    "x = np.array([1.1, 3.4, 4.7, 5.3, 6.8])\n",
    "y = np.array([1.05, 1.62, 1.95, 2.10, 2.47])\n",
    "\n",
    "x_test = np.linspace(0,1.2*max(x),1000)\n",
    "\n",
    "def func(x,a,b):\n",
    "\n"
   ]
  },
  {
   "cell_type": "markdown",
   "metadata": {},
   "source": [
    "**`Exercise 2.8 (a)`** \\\n",
    "Coulomb's law reads $F = k_e\\frac{q_1\\cdot q_2}{r^2}$ in which $k_e$ is Coulomb's constant $k_e$ = 8.988*10$^9$ N m$^2\\cdot$ C$^{−2}$, $q$ denotes the magnitude of the charge (could be negative value as well!) and $r$ the distance between the charges. \n",
    "\n",
    "Write a function that calculates the force between a given number of (opposite) charges and the distance between them."
   ]
  },
  {
   "cell_type": "code",
   "execution_count": null,
   "metadata": {},
   "outputs": [],
   "source": [
    "def F(q1,q2,r):\n",
    "    #your code"
   ]
  },
  {
   "cell_type": "markdown",
   "metadata": {},
   "source": [
    "**`Exercise 2.8 (b)`** \\\n",
    "Make a plot that shows the force as function of distance between a proton and an electron in the range 0.5 - 6 ångström. "
   ]
  },
  {
   "cell_type": "code",
   "execution_count": null,
   "metadata": {},
   "outputs": [],
   "source": [
    "#your code\n",
    "\n",
    "plt.figure()\n",
    "#your code\n"
   ]
  },
  {
   "cell_type": "markdown",
   "metadata": {
    "nbgrader": {
     "grade": false,
     "grade_id": "cell-98aa5a09da4cf9c1",
     "locked": true,
     "schema_version": 3,
     "solution": false,
     "task": false
    }
   },
   "source": [
    "## Solutions to Exercises<a class=\"anchor\" id=\"section_2_4\"></a>"
   ]
  },
  {
   "cell_type": "markdown",
   "metadata": {
    "nbgrader": {
     "grade": false,
     "grade_id": "cell-3c74f16c8b097100",
     "locked": true,
     "schema_version": 3,
     "solution": false,
     "task": false
    }
   },
   "source": [
    "**Exercise 2.1** "
   ]
  },
  {
   "cell_type": "code",
   "execution_count": null,
   "metadata": {
    "nbgrader": {
     "grade": false,
     "grade_id": "cell-776d867dd1e96a8e",
     "locked": true,
     "schema_version": 3,
     "solution": false,
     "task": false
    }
   },
   "outputs": [],
   "source": [
    "var=3.5\n",
    "\n",
    "# Example: one  space is actually enough! But is discouraged, as you can see\n",
    "# by the fact the the notebook made it red colored. \n",
    "def myfunction():\n",
    " var2 =  int(var)\n",
    " print(var2)\n",
    "\n",
    "# Once you've started a code block though with a specific indentaton, then you cant change\n",
    "# it anymore.\n",
    "def myfunction():\n",
    "    var2 =  int(var)\n",
    "   print(var2)"
   ]
  },
  {
   "cell_type": "markdown",
   "metadata": {
    "nbgrader": {
     "grade": false,
     "grade_id": "cell-63bcaf171511d7a6",
     "locked": true,
     "schema_version": 3,
     "solution": false,
     "task": false
    }
   },
   "source": [
    "**Exercise 2.2** "
   ]
  },
  {
   "cell_type": "code",
   "execution_count": null,
   "metadata": {
    "nbgrader": {
     "grade": false,
     "grade_id": "cell-3653f8a5e3438645",
     "locked": true,
     "schema_version": 3,
     "solution": false,
     "task": false
    }
   },
   "outputs": [],
   "source": [
    "def myfunction(var):\n",
    "    var2 =  int(var)\n",
    "    print(var2)"
   ]
  },
  {
   "cell_type": "markdown",
   "metadata": {
    "nbgrader": {
     "grade": false,
     "grade_id": "cell-4e6d55d796044deb",
     "locked": true,
     "schema_version": 3,
     "solution": false,
     "task": false
    }
   },
   "source": [
    "**Exercise 2.3** "
   ]
  },
  {
   "cell_type": "code",
   "execution_count": null,
   "metadata": {
    "nbgrader": {
     "grade": false,
     "grade_id": "cell-ab5a53f50aeb9eb2",
     "locked": true,
     "schema_version": 3,
     "solution": false,
     "task": false
    }
   },
   "outputs": [],
   "source": [
    "def print_status4(x, y, z):\n",
    "    print(\"The value of the first input variable is \", x)\n",
    "    print(\"The value of the second input variable is \", y)\n",
    "    print(\"The value of the third input variable is \", z)\n",
    "\n",
    "print_status4(1,2,3)"
   ]
  },
  {
   "cell_type": "markdown",
   "metadata": {
    "nbgrader": {
     "grade": false,
     "grade_id": "cell-6b6a2cfb8f2059c4",
     "locked": true,
     "schema_version": 3,
     "solution": false,
     "task": false
    }
   },
   "source": [
    "**Exercise 2.4** **(a)** "
   ]
  },
  {
   "cell_type": "code",
   "execution_count": null,
   "metadata": {
    "nbgrader": {
     "grade": false,
     "grade_id": "cell-abb8b6adcc6f783b",
     "locked": true,
     "schema_version": 3,
     "solution": false,
     "task": false
    }
   },
   "outputs": [],
   "source": [
    "# Your function here\n",
    "def product_and_sum(a,b):\n",
    "    return a*b, a+b"
   ]
  },
  {
   "cell_type": "markdown",
   "metadata": {
    "nbgrader": {
     "grade": false,
     "grade_id": "cell-5741495ca1f6ef79",
     "locked": true,
     "schema_version": 3,
     "solution": false,
     "task": false
    }
   },
   "source": [
    "**(b)** "
   ]
  },
  {
   "cell_type": "code",
   "execution_count": null,
   "metadata": {
    "nbgrader": {
     "grade": false,
     "grade_id": "cell-df8f4cc5c689e227",
     "locked": true,
     "schema_version": 3,
     "solution": false,
     "task": false
    }
   },
   "outputs": [],
   "source": [
    "a=1.5\n",
    "b=2.5\n",
    "\n",
    "p,s = product_and_sum(a,b)\n",
    "\n",
    "print(\"Sum is:\", s)\n",
    "print(\"Product is:\", p)"
   ]
  },
  {
   "cell_type": "markdown",
   "metadata": {
    "nbgrader": {
     "grade": false,
     "grade_id": "cell-c0897d2e0d18ff59",
     "locked": true,
     "schema_version": 3,
     "solution": false,
     "task": false
    }
   },
   "source": [
    "**Exercise 2.5** **(a)**"
   ]
  },
  {
   "cell_type": "code",
   "execution_count": null,
   "metadata": {
    "nbgrader": {
     "grade": false,
     "grade_id": "cell-2eb1a4094c49679f",
     "locked": true,
     "schema_version": 3,
     "solution": false,
     "task": false
    }
   },
   "outputs": [],
   "source": [
    "help(abs)"
   ]
  },
  {
   "cell_type": "code",
   "execution_count": null,
   "metadata": {
    "nbgrader": {
     "grade": false,
     "grade_id": "cell-6aed86aac101cb2a",
     "locked": true,
     "schema_version": 3,
     "solution": false,
     "task": false
    }
   },
   "outputs": [],
   "source": [
    "help(int)"
   ]
  },
  {
   "cell_type": "code",
   "execution_count": null,
   "metadata": {
    "nbgrader": {
     "grade": false,
     "grade_id": "cell-114d997d97a70ea6",
     "locked": true,
     "schema_version": 3,
     "solution": false,
     "task": false
    }
   },
   "outputs": [],
   "source": [
    "help(input)"
   ]
  },
  {
   "cell_type": "markdown",
   "metadata": {
    "nbgrader": {
     "grade": false,
     "grade_id": "cell-a1e85a52b4b3a511",
     "locked": true,
     "schema_version": 3,
     "solution": false,
     "task": false
    }
   },
   "source": [
    "**(b)**"
   ]
  },
  {
   "cell_type": "code",
   "execution_count": null,
   "metadata": {
    "nbgrader": {
     "grade": false,
     "grade_id": "cell-440e78ae4effd486",
     "locked": true,
     "schema_version": 3,
     "solution": false,
     "task": false
    }
   },
   "outputs": [],
   "source": [
    "from glob import glob\n",
    "help(glob)"
   ]
  },
  {
   "cell_type": "code",
   "execution_count": null,
   "metadata": {
    "nbgrader": {
     "grade": false,
     "grade_id": "cell-a4cc244f58f0c6a1",
     "locked": true,
     "schema_version": 3,
     "solution": false,
     "task": false
    }
   },
   "outputs": [],
   "source": [
    "glob(\"../*\")\n",
    "# It returns list of files and folders in the parent directory of that\n",
    "# in which this notebook is stored"
   ]
  },
  {
   "cell_type": "markdown",
   "metadata": {},
   "source": [
    "**Exercise 2.6 (a)**"
   ]
  },
  {
   "cell_type": "code",
   "execution_count": null,
   "metadata": {},
   "outputs": [],
   "source": [
    "def f(x): # All differentiable functions are correct\n",
    "    return np.sin(x)\n",
    "\n",
    "print(f(0), f(1))"
   ]
  },
  {
   "cell_type": "markdown",
   "metadata": {},
   "source": [
    "**Exercise 2.6 (b)**"
   ]
  },
  {
   "cell_type": "code",
   "execution_count": null,
   "metadata": {},
   "outputs": [],
   "source": [
    "def determine_slope(a, epsilon):\n",
    "    dy = f(a + epsilon) - f(a - epsilon)\n",
    "    dx = 2 * epsilon\n",
    "    return dy/dx"
   ]
  },
  {
   "cell_type": "markdown",
   "metadata": {},
   "source": [
    "**Exercise 2.6 (c)**"
   ]
  },
  {
   "cell_type": "code",
   "execution_count": null,
   "metadata": {},
   "outputs": [],
   "source": [
    "def print_tangent(a, epsilon):\n",
    "    m = determine_slope(a, epsilon)\n",
    "    b = f(a) - m*a\n",
    "    print(\"The tangent line of the function is: y = {}x + {}\".format(round(m,3), round(b,3)))\n",
    "    \n",
    "epsilon = 0.01   # Depending on the function, a larger epsilon may also be sufficient or a smaller one may be required.\n",
    "a       = 0      # Again, an arbitrary choice.\n",
    "\n",
    "print_tangent(a, epsilon)"
   ]
  },
  {
   "cell_type": "markdown",
   "metadata": {},
   "source": [
    "**Exercise 2.7**"
   ]
  },
  {
   "cell_type": "code",
   "execution_count": null,
   "metadata": {},
   "outputs": [],
   "source": [
    "x = np.array([1.1, 3.4, 4.7, 5.3, 6.8])\n",
    "y = np.array([1.05, 1.62, 1.95, 2.10, 2.47])\n",
    "\n",
    "x_test = np.linspace(0,1.2*max(x),1000)\n",
    "\n",
    "def func(x,a,b):\n",
    "    return a*x+b\n",
    "\n",
    "y_test = func(x_test,.27,0.7)\n",
    "\n",
    "plt.figure()\n",
    "\n",
    "plt.plot(x,y,'k.', label='measurements')\n",
    "plt.plot(x_test,y_test,'r--', label='fitline')\n",
    "\n",
    "plt.xlabel('$x$')\n",
    "plt.ylabel('$y$')\n",
    "\n",
    "plt.xlim(0,1.1*max(x))\n",
    "\n",
    "plt.show()\n"
   ]
  },
  {
   "cell_type": "markdown",
   "metadata": {},
   "source": [
    "**Exercise 2.8 (a)**"
   ]
  },
  {
   "cell_type": "code",
   "execution_count": null,
   "metadata": {},
   "outputs": [],
   "source": [
    "k = 8.988e9\n",
    "def F(q1,q2,r):\n",
    "    return k*q1*q2/r**2"
   ]
  },
  {
   "cell_type": "markdown",
   "metadata": {},
   "source": [
    "**Exercise 2.8 (b)**"
   ]
  },
  {
   "cell_type": "code",
   "execution_count": null,
   "metadata": {},
   "outputs": [],
   "source": [
    "r = np.arange(0.5E-10,6E-10,0.1E-10)\n",
    "F_q = F(1.602E-19,-1.602E-19,r)\n",
    "plt.figure()\n",
    "plt.plot(r,F_q,'k.')\n",
    "plt.xlabel('$r$ (m)')\n",
    "plt.ylabel('$F$ (N)')\n",
    "plt.show()\n"
   ]
  },
  {
   "cell_type": "code",
   "execution_count": null,
   "metadata": {},
   "outputs": [],
   "source": []
  }
 ],
 "metadata": {
  "jupytext": {
   "formats": "ipynb,md"
  },
  "kernelspec": {
   "display_name": "Python 3 (ipykernel)",
   "language": "python",
   "name": "python3"
  },
  "language_info": {
   "codemirror_mode": {
    "name": "ipython",
    "version": 3
   },
   "file_extension": ".py",
   "mimetype": "text/x-python",
   "name": "python",
   "nbconvert_exporter": "python",
   "pygments_lexer": "ipython3",
   "version": "3.9.16"
  }
 },
 "nbformat": 4,
 "nbformat_minor": 4
}
