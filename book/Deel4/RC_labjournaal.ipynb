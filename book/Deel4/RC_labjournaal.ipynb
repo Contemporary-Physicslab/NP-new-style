{
 "cells": [
  {
   "cell_type": "markdown",
   "metadata": {},
   "source": [
    "# Labjournaal RC\n",
    "## Algemeen\n",
    "* [Voorbereiding](#voorbereiding)    \n",
    "* [LAB-opdrachten](#labopdrachten)\n",
    "\n",
    "**Namen:**  test\n",
    "**Titel van het experiment: Inleiding gebruik oscilloscoop**  \n",
    "**Start datum:**  \n",
    "**Leerdoel: Werken met een functiegenerator en oscilloscoop**  \n",
    "**Practicumdoel: Bepalen van karakteristieken van een RC-circuit**\n"
   ]
  },
  {
   "cell_type": "code",
   "execution_count": 1,
   "metadata": {},
   "outputs": [],
   "source": [
    "#import necessary libraries\n",
    "import matplotlib.pyplot as plt\n",
    "import numpy as np\n",
    "from scipy.optimize import curve_fit \n",
    "from IPython.lib.display import YouTubeVideo"
   ]
  },
  {
   "cell_type": "markdown",
   "metadata": {},
   "source": [
    "## Voorbereiding<a class=\"anchor\" id=\"voorbereiding\"></a>\n",
    "\n",
    "Lees het bijbehorende [hoofdstuk](https://polslab.tnw.tudelft.nl/dictaat/Deel4/RC.html) en maak onderstaande vragen.\n"
   ]
  },
  {
   "cell_type": "markdown",
   "metadata": {},
   "source": [
    "<span style=\"color:red\"> **Opdracht 1** </span>\n",
    "\n",
    "Op je oscilloscoopscherm zie je een periodiek pulsvormig signaal zoals hieronder. \n",
    "\n",
    "```{figure} Figures/RC/RC_opdr1.png\n",
    ":width: 50%\n",
    "```\n",
    "\n",
    "Bij de volgende instellingen:\n",
    "* Versterking: 2 V/div\n",
    "* Tijdbasis: 5 ms/div\n",
    "* Triggerhelling: +\n",
    "* Koppeling: DC\n",
    "\n",
    "Bepaal de periode, de top-topwaarde en de pulsduur."
   ]
  },
  {
   "cell_type": "code",
   "execution_count": null,
   "metadata": {},
   "outputs": [],
   "source": [
    "# ANTWOORD\n",
    "\n"
   ]
  },
  {
   "cell_type": "markdown",
   "metadata": {},
   "source": [
    "<span style=\"color:red\"> **Opdracht 2** </span>\n",
    "* Teken hoe het signaal weergegeven in onderstaande figuur zal worden wanneer het signaal links verder gaat waar het rechts eindigt.\n",
    "* De verticale gevoeligheid staat ingesteld op 0,2 V/div. Teken hoe het signaal op het beeld er uit zal zien als het triggerniveau wordt ingesteld op 0,35 V, zowel voor slope+ als slope-.\n",
    "\n",
    "```{figure} Figures/RC/RC_opdr2.png\n",
    ":width: 50%\n",
    "```\n"
   ]
  },
  {
   "cell_type": "code",
   "execution_count": null,
   "metadata": {},
   "outputs": [],
   "source": [
    "# ANTWOORD\n"
   ]
  },
  {
   "cell_type": "markdown",
   "metadata": {},
   "source": [
    "<span style=\"color:red\"> **Opdracht 3** </span>\n",
    "\n",
    "Op je tweekanaalsoscilloscoop is onderstaand beeld zichtbaar van twee in fase verschoven sinusvormige signalen A en B. Daarbij is signaal A op ingang Y1 (of Ch 1) aangesloten en signaal B op ingang Y2 (of Ch 2).\n",
    "\n",
    "```{figure} Figures/RC/RC_signal.png\n",
    ":width: 50%\n",
    "```\n",
    "\n",
    "*Weergaven van twee periodieke signalen. Met de instellingen: Versterking: 1 V/div, Trigger: Kanaal Ch2.*\n",
    "\n",
    "* Geef aan welk signaal (Ch1 of Ch2) in fase vòòr loopt op het andere.\n",
    "* Bepaal het faseverschil in graden.\n",
    "* Wat is het ingestelde triggerniveau (in V)?\n",
    "* Wat is de ingestelde triggerhelling (+ of -)?"
   ]
  },
  {
   "cell_type": "code",
   "execution_count": null,
   "metadata": {},
   "outputs": [],
   "source": [
    "# ANTWOORD"
   ]
  },
  {
   "cell_type": "markdown",
   "metadata": {},
   "source": [
    "<span style=\"color:red\"> **Opdracht 4** </span>\n",
    "\n",
    "Op je oscilloscoopscherm levert een periodiek pulsvormig signaal op. Als de ingangskoppeling (AC-GND-DC) op GND wordt gezet, is een vrijlopende horizontale lijn zichtbaar die samenvalt met de horizontale rasterlijn in het midden.\n",
    "\n",
    "```{figure} Figures/RC/RC_opdr3.png\n",
    ":width: 70%\n",
    "```\n",
    "*Weergaven van een periodiek signaal. Met de instellingen: Versterking: 2 V/div, Tijdbasis: 5ms/div, Triggerhelling: +, Koppeling: DC*\n",
    "\n",
    "* Wat is het triggerniveau (in V)?\n",
    "* Wat is de periode van het signaal (in ms)?\n",
    "* Wat is de frequentie van het signaal (in Hz)?\n",
    "* Wat is de tijdsduur van de neergaande flank van het signaal?\n",
    "* Waaraan kun je zien daty de ingagskoppeling op DC staat?\n"
   ]
  },
  {
   "cell_type": "code",
   "execution_count": 1,
   "metadata": {},
   "outputs": [],
   "source": [
    "#ANTWOORD\n"
   ]
  },
  {
   "cell_type": "markdown",
   "metadata": {},
   "source": [
    "<span style=\"color:red\"> **Opdracht 5** </span>\n",
    "\n",
    "We bieden een 5.0 Hz, 5.0 Vpp wisselspanning aan voor een LED in serie met een 220Ω weerstand. De\n",
    "drempelspanning van de LED is 1.7 V.\n",
    "* Stel de vergelijking op voor de aangeboden (bron)spanning.\n",
    "* Bereken hoeveel procent van een periode de LED stroom door laat.\n",
    "* Teken een enkele cyclus van de aangeboden spanning als functie van de tijd.\n",
    "* Teken in dezelfde grafiek de spanning over de weerstand als functie van de tijd.\n",
    "* Leg uit hoe je aan de hand van dit signaal de drempelspanning van de LED kunt bepalen.\n",
    "* Leg uit wat er gebeurt met de felheid van branden en hoe het gemeten signaal verandert als je een off-set spanning toevoegt."
   ]
  },
  {
   "cell_type": "code",
   "execution_count": null,
   "metadata": {},
   "outputs": [],
   "source": [
    "#ANTWOORD\n"
   ]
  },
  {
   "cell_type": "markdown",
   "metadata": {},
   "source": [
    "## LAB-opdrachten<a class=\"anchor\" id=\"labopdrachten\"></a>\n",
    "\n",
    "De uitwerkingen van de opdrachten, zoals gemeten en berekende getalwaarden, grafieken, argumenten, etc. moeten tijdens het experimenteren overzichtelijk in dit (digitale) laboratoriumjournaal worden genoteerd, zodat over deze proef, wanneer gewenst, een verslag kan worden geschreven.\n",
    "In deze proef zijn een aantal opdrachten opgenomen.\n",
    "1. [Een introductie in begrijpen van AC-DC signaal.](#deel1)    \n",
    "2. [Een introductie van de basisfunctionaliteit van een digitale oscilloscoop (opdracht aan de hand van een RC-circuit).](#deel2)    \n",
    "3. [Cursorfunctionaliteit van een digitale oscilloscoop en het uitgebreider gebruik.](#deel3)    \n",
    "4. [Het gebruik van het RC circuit met een ruis signaal.](#deel4)    \n",
    "5. [Het bepalen van de karakteristiek van een LED.](#deel5)    "
   ]
  },
  {
   "cell_type": "markdown",
   "metadata": {},
   "source": [
    "### 1. AC-DC-stand (∼ 10 min)<a class=\"anchor\" id=\"deel1\"></a>\n",
    "In deze opdracht onderzoek je het effect van de verschillende standen.\n",
    "* Verbind de functiegenerator (OUTPUT) met de oscilloscoop (1) d.m.v. BNC kabel.\n",
    "* Zet de functiegenerator aan, druk op blokspanning (onder waveforms).\n",
    "* Stel de frequentie in op 1.0 Hz en een Vpp van 2.0 V en druk op OUTPUT (deze gaat branden als die aanstaat, anders geeft die überhaupt geen signaal).\n",
    "* Zet de oscilloscoop aan en bekijk het beeld bij AC en DC stand (druk op de CH1 knop om bij de instellingen te komen).\n",
    "* Hoe ziet je verwachtte signaal er uit?\n",
    "* Met welke stand is dit overeenkomstig? Verklaar het andere signaal.\n",
    "* Wat zegt dit over de stand die je nodig hebt bij de andere experimenten?\n",
    "* Onderzoek het effect van je output signaal bij verschillende frequenties. Wat is je conclusie?"
   ]
  },
  {
   "cell_type": "code",
   "execution_count": null,
   "metadata": {},
   "outputs": [],
   "source": [
    "# ANTWOORDEN\n"
   ]
  },
  {
   "cell_type": "markdown",
   "metadata": {},
   "source": [
    "## 2. Introductie digitale oscilloscoop: de faseverschuiving in een RC-circuit. (∼75 min)<a class=\"anchor\" id=\"deel2\"></a>\n",
    "\n",
    "Het doel van dit experiment is om de eerste stappen in het meten met een oscilloscoop te zetten. Je zult zien dat je vrij vlot uitgebreide analyses kunt doen met de verschillende functies van de oscilloscoop en dat het daarom een veelgebruikt meetinstrument is. In het eerste experiment doe je metingen aan een RC-circuit, waarbij je onderzoek doet naar de theorie zoals beschreven in de theoretische achtergrond.\n",
    "\n",
    "Voor dit experiment heb je de signaalgenerator, de oscilloscoop, elektronica board nr 1 met condensatoren en weerstanden en een aantal kabels nodig. De schematische weergave van de testopstelling is hieronder weergegeven. \n",
    "\n",
    "\n",
    "```{figure} Figures/RC/RC_circuit.png\n",
    ":width: 70%\n",
    "```\n",
    "\n",
    "Gebruik de 33 nF condensator en de 4.7 kΩ weerstand en sluit de signaalgenerator aan als bron. Voer de volgende stappen uit:\n",
    "\n",
    "* Sluit een (T-) splitter aan op de OUTPUT van de signaalgenerator.\n",
    "\n",
    "* Verbind een BNC-banaan kabel (connector aan de signaalgeneratorkant) met de splitter.\n",
    "\n",
    "* Verbind de andere zijde van de BNC kabel met het testboard, de rode kabel van de BNC met de linkerkant 4.7 kΩ weerstand, de zwarte kabel met de van de 33 nF.\n",
    "\n",
    "* Verbind de 33 nF door met de 4.7 kΩ weerstand.\n",
    "\n",
    "Nu heb je een gesloten circuit met een 4.7 kΩ en een 33 nF.\n",
    "\n",
    "* Verbind de nog open uiteinde van de splitter van de functiegenerator met een BNC-BNC kabel aan kanaal 1 van de oscilloscoop. Kanaal 1 meet het oorspronkelijk signaal.\n",
    "\n",
    "* Dan rest nog het aansluiten van de oscilloscoop. Dat doen we met de BNC-verloopstekker te zien. Aan de stekker is niet te zien wat de plus en wat de minus kant is. Als het signaal niet lijkt te kloppen, draai de stekker om.\n",
    "\n",
    "```{figure} Figures/stekker.jpg\n",
    ":width: 30%\n",
    "```\n",
    "\n",
    "* Kanaal 2 van de oscilloscoop moet de spanning over de condensator meten. Sluit de BNC naar BNC kabel aan op kanaal 2 en op het testboard zodat je de spanning over de condensator meet. Bedenk zelf hoe dit moet!\n"
   ]
  },
  {
   "cell_type": "markdown",
   "metadata": {},
   "source": [
    "Stel de volgende zaken in op de signaalgenerator, zonder de spanning aan te zetten: \n",
    "- frequentie op 100 Hz,\n",
    "- sinusgolf,\n",
    "- DC offset uit of op 0 en\n",
    "- amplitude op 1.0 V.\n",
    "- Kies voor utility -> Output setup -> High Z ipv een load VAN 50 $\\Omega$.\n",
    "\n",
    "Sommige signaalgenerators hebben een multiplier voor de frequentie, houd hier dus rekening mee bij het instellen. Zet tot slot de signaalgenerator aan en druk op AUTO / AUTOSCALE / AUTO SETUP (oscilloscoop). In 90% van de gevallen levert dit een prima beeld op.\n",
    "\n",
    "Als het goed is staan er nu twee signalen op het scherm van de oscilloscoop, het signaal direct uit de signaalgenerator op kanaal 1 en de spanning over de condensator op kanaal 2. Probeer de volgende zaken uit en kijk of je een gevoel kunt krijgen voor manipuleren van signalen:\n",
    "* Bekijk de tijdbasis en de gevoeligheid van de signalen onderin het scherm, kloppen deze met wat je op basis van je inputsignaal verwacht?\n",
    "* Manipuleer met de knoppen onder het kopje HORIZONTAL de tijdbasis en -offset.\n",
    "* Manipuleer met de knoppen onder het kopje VERTICAL (of kanaal 1 / kanaal 2) de verticale gevoeligheid en -offset van beide signalen. Zorg dat beide signalen overlappen nadat je klaar bent.\n",
    "* Druk op de oplichtende knop van kanaal 1 en schakel dit kanaal in DC modus, als dat nog niet zo was. Herhaal voor kanaal 2. Dit verschil is bij deze frequentie vrij klein (maar wel waarneembaar!).\n",
    "* Trigger het signaal. Druk daartoe op mode/coupling of Trig menu. Kies voor slope omhoog. Zet de uppervalue op 100 ms. Draai aan de triggerknop en kijk wat er gebeurt. Druk nu op slope omlaag, wat gebeurt er met het signaal dat je ziet? Zet de slope weer op omhoog.\n",
    "* Probeer in het Measure-menu (meestal een knop met dito naam) een aantal interessante grootheden op het scherm te plotten, denk aan peak-to-peak voltage van kanaal 2, frequentie en het faseverschil. Wat kun je zeggen over de nauwkeurigheid van deze drie grootheden? Waar heeft dat mee te maken? Noteer.\n",
    "* Speel nu met de frequentie op de signaalgenerator. Beide signalen veranderen duidelijk op het scherm. Stel de signaalgenerator in op ongeveer 5000 Hz en stel de oscilloscoop handmatig bij totdat het signaal weer duidelijk zichtbaar is op het scherm. Als het goed is overlappen beide signalen nu niet meer, maar is er een duidelijk faseverschuiving en is de amplitude van de spanning over de condensator kleiner geworden. Verantwoord voor jezelf dat dit strookt met de gegeven theorie."
   ]
  },
  {
   "cell_type": "code",
   "execution_count": null,
   "metadata": {},
   "outputs": [],
   "source": [
    "#ANTWOORDEN\n",
    "\n"
   ]
  },
  {
   "cell_type": "markdown",
   "metadata": {},
   "source": [
    "Gebruik de formules beschreven in de theoretische achtergrond en verifieer dat de faseverschuiving en de gain overeenkomt met wat je meet. Voer daartoe de volgende opdrachten uit:\n",
    "* Draai de signaalgenerator terug naar ongeveer 1 Hz en pas de tijdbasis aan totdat er enkele periodes van het signaal op het scherm passen. Dit duurt even, omdat de oscilloscoop meerdere secondes nodig heeft om dit signaal te ‘sparen’.\n",
    "* Open een Excelsheet of text editor en maak drie kolommen; frequentie, faseverchuiving en Vpp. Gebruik als je een text editor gebruikt een ; of , als scheidingsteken tussen alle waardes in een rij.\n",
    "* Vul deze tabel met ongeveer 4 rijen per decade, meet door tot ongeveer 100 kHz. (Dus: 1 Hz, 2 Hz, 4 Hz, 8 Hz voor de eerste decade, 10 Hz, 20 Hz, 40 Hz, 80 Hz voor de tweede, etc.) Je hoeft niet exacte deze frequenties te meten, zolang je maar nauwkeurig opschrijft welke frequentie je wel hebt gemeten. Pas de tijdschaal en verticale gevoeligheid van kanaal 2 aan zodat beide signalen goed zichtbaar blijven en de meting nauwkeurig blijft. Noteer ook observaties m.b.t. de kwaliteit van het signaal en de metingen. Sla het bestand op als csv. LET OP! Meet de Vpp van kanaal 2, de spanning over de condensator dus! (<span style=\"color:red\">LET OP!</span> Krijg je bij lage frequenties een faseverschuiving, dan staat je input nog op AC ipv DC).\n",
    "* Laad je databestand in in je Jupyter Notebook en plot de faseverschuiving tegen de frequentie (frequentie op de x-as). Plot in dezelfde grafiek de theoretische faseverschuiving op basis van de formules uit de theoretische achtergrond. Zet de x-as op de log-schaal. Bepaal ook op basis van een curvefit voor zowel de faseverschuiving als voor de spanningsoverdracht de RC waarde. Zijn deze gelijk aan elkaar?\n",
    "* Houd je opstelling zoals die is, bij de volgende opdracht maak je er weer gebruik van."
   ]
  },
  {
   "cell_type": "code",
   "execution_count": null,
   "metadata": {},
   "outputs": [],
   "source": [
    "#ANTWOORDEN & PLOTS & FIT\n"
   ]
  },
  {
   "cell_type": "markdown",
   "metadata": {},
   "source": [
    "## 3. RC-circuit vervolg: RC-tijd en het low-pass filter. (∼ 45 min.)<a class=\"anchor\" id=\"deel3\"></a>\n",
    "\n",
    "Een condensator bestaat dus uit twee platen waar je lading op kunt slaan. Als er een gelijkspanning over de condensator gezet wordt, zal deze langzaam ‘vollopen’. Bij de start van het opladen zal de spanning met name over de weerstand staan, maar deze spanning verschuift langzaam naar de condensator.\n",
    "\n",
    "Een karakteristieke tijd voor het vollopen is de RC-tijd $τ = RC$. De RC-tijd is gelijk aan de tijd die nodig is om de spanning over de condensator gelijk aan $63.2\\%$ ($1 − e^{−1}$) van de bronspanning te laten zijn en volgt op logischer wijze uit de formule voor de spanning over de condensator: $$V(t) = V_0 \\cdot e^{-\\frac{t}{RC}}$$\n",
    "\n",
    "Bij een wisselspanning zal de condensator opladen en vervolgens weer ontladen. Als de frequentie van de wisselspanning heel hoog is, zal de condensator zich gedragen als een draad zonder weerstand. De stroomsterkte wordt dan met name bepaald door de weerstandswaarde en de spanning over de condensator zal klein zijn. Dat de spanning over de condensator sterk afneemt is goed te zien vanaf een bepaalde frequentie, de cutoff frequency: $$f_{cutoff} = \\frac{1}{2πRC}$$\n",
    "Beide eigenschappen van een RC-circuit onderzoeken we in dit deel van het practicum.\n",
    "\n",
    "**Bepaling van de RC-tijd**\n",
    "* Reken de cutoff frequentie uit voor het RC-circuit dat nog aangesloten is van het vorige onderdeel.\n",
    "* Stel de frequentiegenerator in op een **blokgolf** met een frequentie van $\\frac{1}{2}f_{cutoff}$.\n",
    "* Stel met behulp van de time knop van de oscilloscoop (horizontal) de tijdbasis zo in dat je circa vijf blokspanningen ziet. Bereken daartoe eerst op welke tijdschaal (sec/div) de oscilloscoop grofweg moet staan.\n",
    "* Trigger het signaal op het kanaal met de minste ruis.\n",
    "* Maak een foto van je signaal en voeg deze hieronder toe."
   ]
  },
  {
   "cell_type": "code",
   "execution_count": 4,
   "metadata": {},
   "outputs": [],
   "source": [
    "# ANTWOORDEN\n"
   ]
  },
  {
   "cell_type": "markdown",
   "metadata": {},
   "source": [
    "De RC-tijd bepalen kan op verschillende manieren. We voeren de bepaling eerst handmatig uit om bekend te raken met de verschillende functies achter de knoppen van de oscilloscoop. Daarna gebruiken we automatische opties van de oscilloscoop.\n",
    "* Stel de tijdschaal zo in dat je een enkele **blokgolf** of een deel van de blokgolf op je scherm ziet. Druk op run/stop, dit levert een  vast beeld op, een opname. Je kunt vervolgens in en uitzoomen op bepaalde delen van het beeld. Zorg dat de RC-karakteristiek goed in beeld is en maak hier weer een foto van en voeg deze hieronder toe.\n",
    "* De spanning bereikt $63.2\\%$ van het spanningsverschil na de RC-tijd. Tel het aantal hokjes totdat deze $63.2\\%$ bereikt is: dit geeft een eerste grove schatting."
   ]
  },
  {
   "cell_type": "code",
   "execution_count": 5,
   "metadata": {},
   "outputs": [],
   "source": [
    "# ANTWOORDEN\n"
   ]
  },
  {
   "cell_type": "markdown",
   "metadata": {},
   "source": [
    "Om de RC-tijd nauwkeuriger te bepalen, bepalen we nu eerst de minimale en maximale spanning. Vervolgens bepalen we de waarde zodat $U_C = 63. 2\\%ΔU$.\n",
    "* Druk achtereenvolgens op Measure. Dit opent een menu met diverse metingen waaronder $V_{pp}$ en de periode.\n",
    "* Bereken met behulp van deze waarde de spanning waarbij geldt: $U_C = 63.2\\%ΔU$. We willen de waarde voor $t$ nauwkeurig aflezen bij de juiste spanning. Dit kan met behulp van tracking met de cursor functie.\n",
    "* Druk op `Cursor` en kies `Track`. Nu verschijnt er een tracking punt op je signaal die je omhoog en omlaag kunt bewegen met de draaiknop linksboven op de oscilloscoop. Welk van de twee punten je aanpast kun je kiezen in het schermmenu onder `Cursor`. Wanneer je kiest voor `cursor X2`  komt er een tweede tracking punt. Zoek de verschillende waardes voor de spanning en de bijbehorende tijd op waarmee je $τ$ kunt bepalen. $Δx$ in het scherm komt overeen met $τ$. Vergelijk je gevonden waarde met de eerder berekende en bepaalde RC-tijd."
   ]
  },
  {
   "cell_type": "code",
   "execution_count": 6,
   "metadata": {},
   "outputs": [],
   "source": [
    "# ANTWOORDEN\n"
   ]
  },
  {
   "cell_type": "markdown",
   "metadata": {},
   "source": [
    "Er is een tweede manier om snel de RC-tijd te bepalen. Dit kan m.b.v. de rise time. Dit is de tijd die nodig is om het signaal van 10% naar 90% van de maximale spanning te krijgen. De rise time is gelijk aan 2.2$τ$.\n",
    "* Druk op Measure / Horizontal / Rise time. Zoom in op het stuk waar de grafiek omhooggaat (vergeet niet het juiste kanaal te kiezen voor het bepalen van de Rise time!).\n",
    "* Noteer alle gevonden waarden hieronder overzichtelijk in een tabel. Welke manier van de RC-tijd bepalen vind je het best? Waarom?"
   ]
  },
  {
   "cell_type": "code",
   "execution_count": 7,
   "metadata": {},
   "outputs": [],
   "source": [
    "# ANTWOORDEN\n"
   ]
  },
  {
   "cell_type": "markdown",
   "metadata": {},
   "source": [
    "### 4. Het low-pass filter (∼ 20 min.)<a class=\"anchor\" id=\"deel4\"></a>\n",
    "Bij het vorige onderdeel heb je al informatie verzameld over het low-pass filter. Draai nog een keer door de verschillende frequentieschalen heen om het gedrag van het RC-circuit in het perspectief van de nieuwe informatie uit deze opgave te plaatsen. Wat gebeurt er met de spanning over de condensator boven en onder de cutoff\n",
    "frequency? \n",
    "* Laad de dataset van het eerdere onderdeel in met  en plot de $V_{pp}$ van kanaal 2 tegen de frequentie op de log-logschaal (`plt.xscale(‘log’)`, etc).\n",
    "* Bepaal m.b.v. de grafiek de cutoff frequency en vergelijk deze met de theoretische waarde.\n",
    "\n"
   ]
  },
  {
   "cell_type": "markdown",
   "metadata": {},
   "source": [
    "### Low-pass filter toegepast\n",
    "Een Low-Pass Filter kan heel handig zijn om ruis uit een signaal te filteren. Om te kijken hoe goed dit werkt, gaan we een signaal met ruis aanbieden aan het circuit. Hiervoor gebruiken we hetzelfde circuit als in de vorige opdracht en de mogelijkheid om de computer met de functiegenerator te verbinden. Gebruik hiervoor de desktop\n",
    "op je bureau het dichtst bij de caddy: deze is namelijk via USB aangesloten op je functiegenerator.\n",
    "* Download en open het bestand met de golf: sineWaveWithNoise.xls (staat op Brightspace). Let op, dit bestand bevat macro’s, dus het is essentieel om inhoud in te schakelen als Excel dat in een banner vraagt.\n",
    "* Bovenin de excel file kun je de amplitude (VPP) en frequentie invullen. Indien gewenst kan eventueel de ruisfrequentie ook aangepast worden. In de grafiek staan zowel de golf die we willen vinden als het ruissignaal weergegeven.\n",
    "* Druk op de functiegenerator op de knop Utility, vervolgens op I/O en vervolgens op Show USB Id. Neem de code die hier staat over in cel D3 van je excel bestand.\n",
    "* Test of alles werkt door een voltage van 2 VPP en een frequentie van 1 Hz in te stellen en de knop ‘Send to Function Generator’ in te drukken.\n",
    "\n",
    "Het signaal dat naar de functiegenerator wordt gestuurd is opgebouwd uit een sinus golf met de bovenaan ingevoerde frequentie, en een ruis met een 100 maal zo hoge frequentie, resulterend in de blauwe golf weergegeven in de grafiek in je excelbestand, die als het goed is overeenkomt met het signaal op kanaal 1 van de oscilloscoop.\n",
    "* Bij welke frequentie(s) verwacht je dat het filter optimaal zal werken, zodanig dat je een zo hoog mogelijke signaal-ruis ratio (S/N) hebt? Wat verwacht je te zien bij een lagere of hogere frequentie?\n",
    "* Stel de frequentie in op de cutoff frequency uit de vorige vraag, en bekijk kanaal 2 van de oscilloscoop.\n",
    "\n",
    "Voeg een foto of tekening van dit signaal toe aan je labjournaal.\n",
    "* Bekijk nu wat er gebeurt bij andere frequenties tot 3 decades van de cutoff frequency. Noteer voor elke decade (dus 6 in totaal) of het filter slechter, beter of even goed werkt. Voldoet dit aan je verwachtingen?\n",
    "* Indien uit de resultaten van de vorige vraag geen duidelijk verschil te zien is in de kwaliteit van het filter, ben je waarschijnlijk bij de verkeerde frequentie begonnen. Doorloop je berekening nogmaals en kijk of je de juiste frequenties kunt vinden."
   ]
  },
  {
   "cell_type": "code",
   "execution_count": null,
   "metadata": {},
   "outputs": [],
   "source": [
    "#ANTWOORDEN\n"
   ]
  },
  {
   "cell_type": "markdown",
   "metadata": {},
   "source": [
    "### 5. Meten aan een LED (∼ 20 min.)<a class=\"anchor\" id=\"deel5\"></a>\n",
    "In deze opdracht kijken we naar het karakteristieke gedrag van een LED.\n",
    "Bouw de volgende opstelling:\n",
    "\n",
    "* Verbind de 330 Ohm weerstand in serie met de LED.\n",
    "\n",
    "* Maak de schakeling gesloten door de functiegenerator aan te sluiten op de weerstand en LED.\n",
    "\n",
    "* Meet de spanning over de weerstand met de oscilloscoop. Aan de BNC banaan stekker is niet te zien wat de plus en wat de minus kant is. Als de spanning over de weerstand niet lijkt te kloppen, draai de stekker om.\n",
    "\n",
    "* Sluit de drie BNC kabels aan. Gebruik bij de functiegenerator een T splitter waarbij het afgegeven signaal zowel naar de oscilloscoop gaat (channel 2) als naar het testboard. Doe de volgende opdrachten:\n",
    "\n",
    "* Bied een 5.0 Hz, 5 $V_{pp}$ ingangssignaal aan en vergelijk het beeld dat de oscilloscoop toont met het signaal dat je in een van de voorbereidingsopdrachten hebt getekend.\n",
    "\n",
    "* Verklaar de overeenkomsten en verschillen tussen het door jouw getekende signaal en het gemeten signaal.\n",
    "\n",
    "* Bepaal met behulp van de oscilloscoop de drempelspanning van de LED. Wat verwacht je dat er met de felheid van branden gebeurt als je gebruik maakt van een positieve offset spanning? Wat verwacht je dat er met het gemeten signaal gebeurt als je gebruik maakt van een positieve offset spanning? Controleer je voorspellingen en verklaar de verschillen, als die er zijn."
   ]
  },
  {
   "cell_type": "code",
   "execution_count": null,
   "metadata": {},
   "outputs": [],
   "source": [
    "#ANTWOORDEN\n"
   ]
  },
  {
   "cell_type": "markdown",
   "metadata": {},
   "source": [
    "Ruim nu netjes op en laat je caddy controleren. Maak vervolgens je labjournaal af en laat het aftekenen door de TA."
   ]
  },
  {
   "cell_type": "code",
   "execution_count": null,
   "metadata": {},
   "outputs": [],
   "source": []
  }
 ],
 "metadata": {
  "kernelspec": {
   "display_name": "Python 3 (ipykernel)",
   "language": "python",
   "name": "python3"
  },
  "language_info": {
   "codemirror_mode": {
    "name": "ipython",
    "version": 3
   },
   "file_extension": ".py",
   "mimetype": "text/x-python",
   "name": "python",
   "nbconvert_exporter": "python",
   "pygments_lexer": "ipython3",
   "version": "3.13.5"
  }
 },
 "nbformat": 4,
 "nbformat_minor": 4
}
