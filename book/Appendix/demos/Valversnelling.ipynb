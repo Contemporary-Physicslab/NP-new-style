{
 "cells": [
  {
   "cell_type": "markdown",
   "metadata": {},
   "source": [
    "# Bepaling van g\n",
    "Demo over nauwkeurige bepaling van $g$ met ballon en phyphox."
   ]
  },
  {
   "cell_type": "code",
   "execution_count": 1,
   "metadata": {},
   "outputs": [],
   "source": [
    "#Import libraries\n",
    "import numpy as np"
   ]
  },
  {
   "cell_type": "code",
   "execution_count": 2,
   "metadata": {},
   "outputs": [],
   "source": [
    "#Data, H in cm, t in s\n",
    "H = 176.0/100\n",
    "u_H = 0.5/100\n",
    "dt = 0.604\n",
    "u_dt = 0.004"
   ]
  },
  {
   "cell_type": "code",
   "execution_count": 3,
   "metadata": {},
   "outputs": [],
   "source": [
    "#Function to determine g\n",
    "def g(H,dt):\n",
    "    return 2*H/dt**2"
   ]
  },
  {
   "cell_type": "code",
   "execution_count": 4,
   "metadata": {},
   "outputs": [
    {
     "name": "stdout",
     "output_type": "stream",
     "text": [
      "In this experiment g is determined to be:  9.648699618437789\n"
     ]
    }
   ],
   "source": [
    "print('In this experiment g is determined to be: ', g(H,dt))"
   ]
  },
  {
   "cell_type": "code",
   "execution_count": 5,
   "metadata": {},
   "outputs": [
    {
     "name": "stdout",
     "output_type": "stream",
     "text": [
      "In this experiment g is determined to be:  9.648699618437789 +/- 0.1307149353809482\n"
     ]
    }
   ],
   "source": [
    "err_in_g = np.sqrt(((g(H+u_H,dt)-g(H-u_H,dt))/2)**2+((g(H,dt+u_dt)-g(H,dt-u_dt))/2)**2)\n",
    "\n",
    "print('In this experiment g is determined to be: ', g(H,dt) , '+/-', err_in_g)"
   ]
  },
  {
   "cell_type": "code",
   "execution_count": 6,
   "metadata": {},
   "outputs": [
    {
     "name": "stdout",
     "output_type": "stream",
     "text": [
      "In this experiment g is determined to be: 9.6 +/- 0.1 m/s^2\n"
     ]
    }
   ],
   "source": [
    "print('In this experiment g is determined to be: %.1f +/- %.1f m/s^2' %(g(H,dt), err_in_g))"
   ]
  },
  {
   "cell_type": "code",
   "execution_count": null,
   "metadata": {},
   "outputs": [],
   "source": [
    "\n"
   ]
  },
  {
   "cell_type": "code",
   "execution_count": null,
   "metadata": {},
   "outputs": [],
   "source": []
  },
  {
   "cell_type": "code",
   "execution_count": null,
   "metadata": {},
   "outputs": [],
   "source": []
  },
  {
   "cell_type": "code",
   "execution_count": null,
   "metadata": {},
   "outputs": [],
   "source": []
  },
  {
   "cell_type": "code",
   "execution_count": null,
   "metadata": {},
   "outputs": [],
   "source": []
  }
 ],
 "metadata": {
  "kernelspec": {
   "display_name": "Python 3 (ipykernel)",
   "language": "python",
   "name": "python3"
  },
  "language_info": {
   "codemirror_mode": {
    "name": "ipython",
    "version": 3
   },
   "file_extension": ".py",
   "mimetype": "text/x-python",
   "name": "python",
   "nbconvert_exporter": "python",
   "pygments_lexer": "ipython3",
   "version": "3.9.16"
  }
 },
 "nbformat": 4,
 "nbformat_minor": 4
}
